{
 "cells": [
  {
   "cell_type": "markdown",
   "metadata": {},
   "source": [
    "# Imports"
   ]
  },
  {
   "cell_type": "code",
   "execution_count": 145,
   "metadata": {},
   "outputs": [],
   "source": [
    "import pandas as pd\n",
    "import numpy as np\n",
    "import matplotlib.pyplot as plt\n",
    "import seaborn as sns\n",
    "\n",
    "from sklearn.linear_model import LinearRegression\n",
    "from sklearn.impute import KNNImputer\n",
    "from sklearn.preprocessing import OneHotEncoder\n",
    "from sklearn.base import BaseEstimator, TransformerMixin\n",
    "from sklearn.pipeline import Pipeline\n",
    "from sklearn import model_selection\n",
    "\n",
    "import datetime\n",
    "\n",
    "plt.style.use('ggplot')"
   ]
  },
  {
   "cell_type": "markdown",
   "metadata": {},
   "source": [
    "# Dataset Import"
   ]
  },
  {
   "cell_type": "code",
   "execution_count": 2,
   "metadata": {},
   "outputs": [],
   "source": [
    "data_file = 'bmw_pricing_v2.csv'"
   ]
  },
  {
   "cell_type": "code",
   "execution_count": 3,
   "metadata": {},
   "outputs": [],
   "source": [
    "original_df = pd.read_csv(data_file)"
   ]
  },
  {
   "cell_type": "code",
   "execution_count": 4,
   "metadata": {},
   "outputs": [
    {
     "data": {
      "text/html": [
       "<div>\n",
       "<style scoped>\n",
       "    .dataframe tbody tr th:only-of-type {\n",
       "        vertical-align: middle;\n",
       "    }\n",
       "\n",
       "    .dataframe tbody tr th {\n",
       "        vertical-align: top;\n",
       "    }\n",
       "\n",
       "    .dataframe thead th {\n",
       "        text-align: right;\n",
       "    }\n",
       "</style>\n",
       "<table border=\"1\" class=\"dataframe\">\n",
       "  <thead>\n",
       "    <tr style=\"text-align: right;\">\n",
       "      <th></th>\n",
       "      <th>marca</th>\n",
       "      <th>modelo</th>\n",
       "      <th>km</th>\n",
       "      <th>potencia</th>\n",
       "      <th>fecha_registro</th>\n",
       "      <th>tipo_gasolina</th>\n",
       "      <th>color</th>\n",
       "      <th>tipo_coche</th>\n",
       "      <th>volante_regulable</th>\n",
       "      <th>aire_acondicionado</th>\n",
       "      <th>camara_trasera</th>\n",
       "      <th>asientos_traseros_plegables</th>\n",
       "      <th>elevalunas_electrico</th>\n",
       "      <th>bluetooth</th>\n",
       "      <th>gps</th>\n",
       "      <th>alerta_lim_velocidad</th>\n",
       "      <th>precio</th>\n",
       "      <th>fecha_venta</th>\n",
       "    </tr>\n",
       "  </thead>\n",
       "  <tbody>\n",
       "    <tr>\n",
       "      <th>0</th>\n",
       "      <td>BMW</td>\n",
       "      <td>118</td>\n",
       "      <td>140411.0</td>\n",
       "      <td>100.0</td>\n",
       "      <td>2012-02-01</td>\n",
       "      <td>diesel</td>\n",
       "      <td>black</td>\n",
       "      <td>convertible</td>\n",
       "      <td>True</td>\n",
       "      <td>True</td>\n",
       "      <td>False</td>\n",
       "      <td>False</td>\n",
       "      <td>True</td>\n",
       "      <td>True</td>\n",
       "      <td>True</td>\n",
       "      <td>False</td>\n",
       "      <td>11300.0</td>\n",
       "      <td>2018-01-01</td>\n",
       "    </tr>\n",
       "    <tr>\n",
       "      <th>1</th>\n",
       "      <td>BMW</td>\n",
       "      <td>M4</td>\n",
       "      <td>13929.0</td>\n",
       "      <td>317.0</td>\n",
       "      <td>2016-04-01</td>\n",
       "      <td>petrol</td>\n",
       "      <td>grey</td>\n",
       "      <td>convertible</td>\n",
       "      <td>True</td>\n",
       "      <td>True</td>\n",
       "      <td>False</td>\n",
       "      <td>False</td>\n",
       "      <td>False</td>\n",
       "      <td>True</td>\n",
       "      <td>True</td>\n",
       "      <td>True</td>\n",
       "      <td>69700.0</td>\n",
       "      <td>2018-02-01</td>\n",
       "    </tr>\n",
       "    <tr>\n",
       "      <th>2</th>\n",
       "      <td>BMW</td>\n",
       "      <td>320</td>\n",
       "      <td>183297.0</td>\n",
       "      <td>120.0</td>\n",
       "      <td>2012-04-01</td>\n",
       "      <td>diesel</td>\n",
       "      <td>white</td>\n",
       "      <td>convertible</td>\n",
       "      <td>False</td>\n",
       "      <td>False</td>\n",
       "      <td>False</td>\n",
       "      <td>False</td>\n",
       "      <td>True</td>\n",
       "      <td>False</td>\n",
       "      <td>True</td>\n",
       "      <td>False</td>\n",
       "      <td>10200.0</td>\n",
       "      <td>2018-02-01</td>\n",
       "    </tr>\n",
       "    <tr>\n",
       "      <th>3</th>\n",
       "      <td>BMW</td>\n",
       "      <td>420</td>\n",
       "      <td>128035.0</td>\n",
       "      <td>135.0</td>\n",
       "      <td>2014-07-01</td>\n",
       "      <td>diesel</td>\n",
       "      <td>red</td>\n",
       "      <td>convertible</td>\n",
       "      <td>True</td>\n",
       "      <td>True</td>\n",
       "      <td>False</td>\n",
       "      <td>False</td>\n",
       "      <td>True</td>\n",
       "      <td>True</td>\n",
       "      <td>True</td>\n",
       "      <td>True</td>\n",
       "      <td>25100.0</td>\n",
       "      <td>2018-02-01</td>\n",
       "    </tr>\n",
       "    <tr>\n",
       "      <th>4</th>\n",
       "      <td>BMW</td>\n",
       "      <td>425</td>\n",
       "      <td>97097.0</td>\n",
       "      <td>160.0</td>\n",
       "      <td>2014-12-01</td>\n",
       "      <td>diesel</td>\n",
       "      <td>silver</td>\n",
       "      <td>convertible</td>\n",
       "      <td>True</td>\n",
       "      <td>True</td>\n",
       "      <td>False</td>\n",
       "      <td>False</td>\n",
       "      <td>False</td>\n",
       "      <td>True</td>\n",
       "      <td>True</td>\n",
       "      <td>True</td>\n",
       "      <td>33400.0</td>\n",
       "      <td>2018-04-01</td>\n",
       "    </tr>\n",
       "  </tbody>\n",
       "</table>\n",
       "</div>"
      ],
      "text/plain": [
       "  marca modelo        km  potencia fecha_registro tipo_gasolina   color  \\\n",
       "0   BMW    118  140411.0     100.0     2012-02-01        diesel   black   \n",
       "1   BMW     M4   13929.0     317.0     2016-04-01        petrol    grey   \n",
       "2   BMW    320  183297.0     120.0     2012-04-01        diesel   white   \n",
       "3   BMW    420  128035.0     135.0     2014-07-01        diesel     red   \n",
       "4   BMW    425   97097.0     160.0     2014-12-01        diesel  silver   \n",
       "\n",
       "    tipo_coche volante_regulable aire_acondicionado camara_trasera  \\\n",
       "0  convertible              True               True          False   \n",
       "1  convertible              True               True          False   \n",
       "2  convertible             False              False          False   \n",
       "3  convertible              True               True          False   \n",
       "4  convertible              True               True          False   \n",
       "\n",
       "  asientos_traseros_plegables elevalunas_electrico bluetooth   gps  \\\n",
       "0                       False                 True      True  True   \n",
       "1                       False                False      True  True   \n",
       "2                       False                 True     False  True   \n",
       "3                       False                 True      True  True   \n",
       "4                       False                False      True  True   \n",
       "\n",
       "  alerta_lim_velocidad   precio fecha_venta  \n",
       "0                False  11300.0  2018-01-01  \n",
       "1                 True  69700.0  2018-02-01  \n",
       "2                False  10200.0  2018-02-01  \n",
       "3                 True  25100.0  2018-02-01  \n",
       "4                 True  33400.0  2018-04-01  "
      ]
     },
     "execution_count": 4,
     "metadata": {},
     "output_type": "execute_result"
    }
   ],
   "source": [
    "original_df.head()"
   ]
  },
  {
   "cell_type": "code",
   "execution_count": 5,
   "metadata": {},
   "outputs": [
    {
     "name": "stdout",
     "output_type": "stream",
     "text": [
      "<class 'pandas.core.frame.DataFrame'>\n",
      "RangeIndex: 4843 entries, 0 to 4842\n",
      "Data columns (total 18 columns):\n",
      " #   Column                       Non-Null Count  Dtype  \n",
      "---  ------                       --------------  -----  \n",
      " 0   marca                        4841 non-null   object \n",
      " 1   modelo                       4840 non-null   object \n",
      " 2   km                           4841 non-null   float64\n",
      " 3   potencia                     4842 non-null   float64\n",
      " 4   fecha_registro               4842 non-null   object \n",
      " 5   tipo_gasolina                4838 non-null   object \n",
      " 6   color                        4831 non-null   object \n",
      " 7   tipo_coche                   4834 non-null   object \n",
      " 8   volante_regulable            4839 non-null   object \n",
      " 9   aire_acondicionado           4841 non-null   object \n",
      " 10  camara_trasera               4841 non-null   object \n",
      " 11  asientos_traseros_plegables  4839 non-null   object \n",
      " 12  elevalunas_electrico         4841 non-null   object \n",
      " 13  bluetooth                    4839 non-null   object \n",
      " 14  gps                          4843 non-null   bool   \n",
      " 15  alerta_lim_velocidad         4841 non-null   object \n",
      " 16  precio                       4837 non-null   float64\n",
      " 17  fecha_venta                  4842 non-null   object \n",
      "dtypes: bool(1), float64(3), object(14)\n",
      "memory usage: 648.1+ KB\n"
     ]
    }
   ],
   "source": [
    "original_df.info()"
   ]
  },
  {
   "cell_type": "code",
   "execution_count": 6,
   "metadata": {},
   "outputs": [
    {
     "data": {
      "text/plain": [
       "marca                           2\n",
       "modelo                          3\n",
       "km                              2\n",
       "potencia                        1\n",
       "fecha_registro                  1\n",
       "tipo_gasolina                   5\n",
       "color                          12\n",
       "tipo_coche                      9\n",
       "volante_regulable               4\n",
       "aire_acondicionado              2\n",
       "camara_trasera                  2\n",
       "asientos_traseros_plegables     4\n",
       "elevalunas_electrico            2\n",
       "bluetooth                       4\n",
       "gps                             0\n",
       "alerta_lim_velocidad            2\n",
       "precio                          6\n",
       "fecha_venta                     1\n",
       "dtype: int64"
      ]
     },
     "execution_count": 6,
     "metadata": {},
     "output_type": "execute_result"
    }
   ],
   "source": [
    "original_df.isnull().sum()"
   ]
  },
  {
   "cell_type": "markdown",
   "metadata": {},
   "source": [
    "# Preguntas sobre el dataset"
   ]
  },
  {
   "cell_type": "code",
   "execution_count": 7,
   "metadata": {},
   "outputs": [
    {
     "data": {
      "text/html": [
       "<div>\n",
       "<style scoped>\n",
       "    .dataframe tbody tr th:only-of-type {\n",
       "        vertical-align: middle;\n",
       "    }\n",
       "\n",
       "    .dataframe tbody tr th {\n",
       "        vertical-align: top;\n",
       "    }\n",
       "\n",
       "    .dataframe thead th {\n",
       "        text-align: right;\n",
       "    }\n",
       "</style>\n",
       "<table border=\"1\" class=\"dataframe\">\n",
       "  <thead>\n",
       "    <tr style=\"text-align: right;\">\n",
       "      <th></th>\n",
       "      <th></th>\n",
       "      <th>precio</th>\n",
       "    </tr>\n",
       "    <tr>\n",
       "      <th>modelo</th>\n",
       "      <th>tipo_gasolina</th>\n",
       "      <th></th>\n",
       "    </tr>\n",
       "  </thead>\n",
       "  <tbody>\n",
       "    <tr>\n",
       "      <th>Active Tourer</th>\n",
       "      <th>diesel</th>\n",
       "      <td>19000.000000</td>\n",
       "    </tr>\n",
       "    <tr>\n",
       "      <th rowspan=\"2\" valign=\"top\">114</th>\n",
       "      <th>diesel</th>\n",
       "      <td>10460.000000</td>\n",
       "    </tr>\n",
       "    <tr>\n",
       "      <th>petrol</th>\n",
       "      <td>12700.000000</td>\n",
       "    </tr>\n",
       "    <tr>\n",
       "      <th rowspan=\"2\" valign=\"top\">116</th>\n",
       "      <th>diesel</th>\n",
       "      <td>9757.522124</td>\n",
       "    </tr>\n",
       "    <tr>\n",
       "      <th>petrol</th>\n",
       "      <td>7805.263158</td>\n",
       "    </tr>\n",
       "    <tr>\n",
       "      <th>...</th>\n",
       "      <th>...</th>\n",
       "      <td>...</td>\n",
       "    </tr>\n",
       "    <tr>\n",
       "      <th>X6 M</th>\n",
       "      <th>petrol</th>\n",
       "      <td>82400.000000</td>\n",
       "    </tr>\n",
       "    <tr>\n",
       "      <th>Z4</th>\n",
       "      <th>petrol</th>\n",
       "      <td>9500.000000</td>\n",
       "    </tr>\n",
       "    <tr>\n",
       "      <th rowspan=\"2\" valign=\"top\">i3</th>\n",
       "      <th>electro</th>\n",
       "      <td>20966.666667</td>\n",
       "    </tr>\n",
       "    <tr>\n",
       "      <th>hybrid_petrol</th>\n",
       "      <td>21266.666667</td>\n",
       "    </tr>\n",
       "    <tr>\n",
       "      <th>i8</th>\n",
       "      <th>hybrid_petrol</th>\n",
       "      <td>95200.000000</td>\n",
       "    </tr>\n",
       "  </tbody>\n",
       "</table>\n",
       "<p>109 rows × 1 columns</p>\n",
       "</div>"
      ],
      "text/plain": [
       "                                    precio\n",
       "modelo         tipo_gasolina              \n",
       " Active Tourer diesel         19000.000000\n",
       "114            diesel         10460.000000\n",
       "               petrol         12700.000000\n",
       "116            diesel          9757.522124\n",
       "               petrol          7805.263158\n",
       "...                                    ...\n",
       "X6 M           petrol         82400.000000\n",
       "Z4             petrol          9500.000000\n",
       "i3             electro        20966.666667\n",
       "               hybrid_petrol  21266.666667\n",
       "i8             hybrid_petrol  95200.000000\n",
       "\n",
       "[109 rows x 1 columns]"
      ]
     },
     "execution_count": 7,
     "metadata": {},
     "output_type": "execute_result"
    }
   ],
   "source": [
    "# Listado de vehículos agrupados por modelo y tipo de gasolina\n",
    "original_df.groupby(['modelo', 'tipo_gasolina'])[['precio']].mean()"
   ]
  },
  {
   "cell_type": "code",
   "execution_count": 8,
   "metadata": {},
   "outputs": [
    {
     "data": {
      "text/plain": [
       "9"
      ]
     },
     "execution_count": 8,
     "metadata": {},
     "output_type": "execute_result"
    }
   ],
   "source": [
    "# Cantidad de vehículos con potencia superior a 150, convertible y con volante regulable\n",
    "len(original_df[(original_df['potencia'] > 150) & (original_df['tipo_coche'] == 'convertible') & (original_df['volante_regulable'] == True)])"
   ]
  },
  {
   "cell_type": "code",
   "execution_count": 9,
   "metadata": {},
   "outputs": [
    {
     "data": {
      "text/html": [
       "<div>\n",
       "<style scoped>\n",
       "    .dataframe tbody tr th:only-of-type {\n",
       "        vertical-align: middle;\n",
       "    }\n",
       "\n",
       "    .dataframe tbody tr th {\n",
       "        vertical-align: top;\n",
       "    }\n",
       "\n",
       "    .dataframe thead th {\n",
       "        text-align: right;\n",
       "    }\n",
       "</style>\n",
       "<table border=\"1\" class=\"dataframe\">\n",
       "  <thead>\n",
       "    <tr style=\"text-align: right;\">\n",
       "      <th></th>\n",
       "      <th>marca</th>\n",
       "      <th>modelo</th>\n",
       "      <th>km</th>\n",
       "      <th>potencia</th>\n",
       "      <th>fecha_registro</th>\n",
       "      <th>tipo_gasolina</th>\n",
       "      <th>color</th>\n",
       "      <th>tipo_coche</th>\n",
       "      <th>volante_regulable</th>\n",
       "      <th>aire_acondicionado</th>\n",
       "      <th>camara_trasera</th>\n",
       "      <th>asientos_traseros_plegables</th>\n",
       "      <th>elevalunas_electrico</th>\n",
       "      <th>bluetooth</th>\n",
       "      <th>gps</th>\n",
       "      <th>alerta_lim_velocidad</th>\n",
       "      <th>precio</th>\n",
       "      <th>fecha_venta</th>\n",
       "    </tr>\n",
       "  </thead>\n",
       "  <tbody>\n",
       "    <tr>\n",
       "      <th>42</th>\n",
       "      <td>BMW</td>\n",
       "      <td>330</td>\n",
       "      <td>142483.0</td>\n",
       "      <td>180.0</td>\n",
       "      <td>2012-01-01</td>\n",
       "      <td>diesel</td>\n",
       "      <td>blue</td>\n",
       "      <td>convertible</td>\n",
       "      <td>True</td>\n",
       "      <td>True</td>\n",
       "      <td>False</td>\n",
       "      <td>False</td>\n",
       "      <td>True</td>\n",
       "      <td>False</td>\n",
       "      <td>True</td>\n",
       "      <td>True</td>\n",
       "      <td>15800.0</td>\n",
       "      <td>2007-08-01</td>\n",
       "    </tr>\n",
       "    <tr>\n",
       "      <th>100</th>\n",
       "      <td>BMW</td>\n",
       "      <td>320</td>\n",
       "      <td>342768.0</td>\n",
       "      <td>135.0</td>\n",
       "      <td>2011-12-01</td>\n",
       "      <td>diesel</td>\n",
       "      <td>black</td>\n",
       "      <td>coupe</td>\n",
       "      <td>False</td>\n",
       "      <td>True</td>\n",
       "      <td>False</td>\n",
       "      <td>False</td>\n",
       "      <td>True</td>\n",
       "      <td>False</td>\n",
       "      <td>True</td>\n",
       "      <td>False</td>\n",
       "      <td>8200.0</td>\n",
       "      <td>2010-04-01</td>\n",
       "    </tr>\n",
       "    <tr>\n",
       "      <th>180</th>\n",
       "      <td>BMW</td>\n",
       "      <td>320</td>\n",
       "      <td>181052.0</td>\n",
       "      <td>120.0</td>\n",
       "      <td>2014-10-01</td>\n",
       "      <td>diesel</td>\n",
       "      <td>black</td>\n",
       "      <td>estate</td>\n",
       "      <td>False</td>\n",
       "      <td>True</td>\n",
       "      <td>False</td>\n",
       "      <td>False</td>\n",
       "      <td>False</td>\n",
       "      <td>False</td>\n",
       "      <td>True</td>\n",
       "      <td>True</td>\n",
       "      <td>11500.0</td>\n",
       "      <td>2009-04-01</td>\n",
       "    </tr>\n",
       "    <tr>\n",
       "      <th>256</th>\n",
       "      <td>BMW</td>\n",
       "      <td>316</td>\n",
       "      <td>201102.0</td>\n",
       "      <td>85.0</td>\n",
       "      <td>2013-12-01</td>\n",
       "      <td>diesel</td>\n",
       "      <td>black</td>\n",
       "      <td>estate</td>\n",
       "      <td>True</td>\n",
       "      <td>False</td>\n",
       "      <td>False</td>\n",
       "      <td>False</td>\n",
       "      <td>False</td>\n",
       "      <td>False</td>\n",
       "      <td>True</td>\n",
       "      <td>False</td>\n",
       "      <td>8800.0</td>\n",
       "      <td>2008-06-01</td>\n",
       "    </tr>\n",
       "  </tbody>\n",
       "</table>\n",
       "</div>"
      ],
      "text/plain": [
       "    marca modelo        km  potencia fecha_registro tipo_gasolina  color  \\\n",
       "42    BMW    330  142483.0     180.0     2012-01-01        diesel   blue   \n",
       "100   BMW    320  342768.0     135.0     2011-12-01        diesel  black   \n",
       "180   BMW    320  181052.0     120.0     2014-10-01        diesel  black   \n",
       "256   BMW    316  201102.0      85.0     2013-12-01        diesel  black   \n",
       "\n",
       "      tipo_coche volante_regulable aire_acondicionado camara_trasera  \\\n",
       "42   convertible              True               True          False   \n",
       "100        coupe             False               True          False   \n",
       "180       estate             False               True          False   \n",
       "256       estate              True              False          False   \n",
       "\n",
       "    asientos_traseros_plegables elevalunas_electrico bluetooth   gps  \\\n",
       "42                        False                 True     False  True   \n",
       "100                       False                 True     False  True   \n",
       "180                       False                False     False  True   \n",
       "256                       False                False     False  True   \n",
       "\n",
       "    alerta_lim_velocidad   precio fecha_venta  \n",
       "42                  True  15800.0  2007-08-01  \n",
       "100                False   8200.0  2010-04-01  \n",
       "180                 True  11500.0  2009-04-01  \n",
       "256                False   8800.0  2008-06-01  "
      ]
     },
     "metadata": {},
     "output_type": "display_data"
    },
    {
     "name": "stdout",
     "output_type": "stream",
     "text": [
      "Precio medio de estos coches: 11075.00\n",
      "Precio medio global: 15831.92\n"
     ]
    }
   ],
   "source": [
    "# Fecha de registro superior a la fecha de venta?\n",
    "\n",
    "serie_incremento_fechas = (pd.to_datetime(original_df['fecha_venta']) - pd.to_datetime(original_df['fecha_registro'])).dt.days\n",
    "valores_negativos = serie_incremento_fechas[serie_incremento_fechas < 0].index\n",
    "display(original_df.loc[valores_negativos, :])\n",
    "\n",
    "# Precio medio de estos coches\n",
    "\n",
    "print(f'Precio medio de estos coches: {original_df.loc[valores_negativos, \"precio\"].mean():.2f}')\n",
    "print(f'Precio medio global: {original_df[\"precio\"].mean():.2f}')\n",
    "\n",
    "# Parece que son más baratos que la media global"
   ]
  },
  {
   "cell_type": "code",
   "execution_count": 10,
   "metadata": {},
   "outputs": [
    {
     "data": {
      "text/plain": [
       "16998.12"
      ]
     },
     "execution_count": 10,
     "metadata": {},
     "output_type": "execute_result"
    }
   ],
   "source": [
    "# Precio medio de los vehículos con aire acondicionad\n",
    "round(original_df[original_df['aire_acondicionado'] == True]['precio'].mean(), 2)\n",
    "\n",
    "# Parece que son un poco más caros respecto la media global"
   ]
  },
  {
   "cell_type": "code",
   "execution_count": 11,
   "metadata": {},
   "outputs": [
    {
     "data": {
      "text/html": [
       "<div>\n",
       "<style scoped>\n",
       "    .dataframe tbody tr th:only-of-type {\n",
       "        vertical-align: middle;\n",
       "    }\n",
       "\n",
       "    .dataframe tbody tr th {\n",
       "        vertical-align: top;\n",
       "    }\n",
       "\n",
       "    .dataframe thead tr th {\n",
       "        text-align: left;\n",
       "    }\n",
       "\n",
       "    .dataframe thead tr:last-of-type th {\n",
       "        text-align: right;\n",
       "    }\n",
       "</style>\n",
       "<table border=\"1\" class=\"dataframe\">\n",
       "  <thead>\n",
       "    <tr>\n",
       "      <th></th>\n",
       "      <th colspan=\"2\" halign=\"left\">precio</th>\n",
       "    </tr>\n",
       "    <tr>\n",
       "      <th></th>\n",
       "      <th>mean</th>\n",
       "      <th>count</th>\n",
       "    </tr>\n",
       "    <tr>\n",
       "      <th>color</th>\n",
       "      <th></th>\n",
       "      <th></th>\n",
       "    </tr>\n",
       "  </thead>\n",
       "  <tbody>\n",
       "    <tr>\n",
       "      <th>orange</th>\n",
       "      <td>18866.666667</td>\n",
       "      <td>6</td>\n",
       "    </tr>\n",
       "    <tr>\n",
       "      <th>white</th>\n",
       "      <td>17314.365672</td>\n",
       "      <td>536</td>\n",
       "    </tr>\n",
       "    <tr>\n",
       "      <th>red</th>\n",
       "      <td>16568.627451</td>\n",
       "      <td>51</td>\n",
       "    </tr>\n",
       "    <tr>\n",
       "      <th>black</th>\n",
       "      <td>16178.479460</td>\n",
       "      <td>1631</td>\n",
       "    </tr>\n",
       "    <tr>\n",
       "      <th>beige</th>\n",
       "      <td>15817.073171</td>\n",
       "      <td>41</td>\n",
       "    </tr>\n",
       "    <tr>\n",
       "      <th>grey</th>\n",
       "      <td>15619.914530</td>\n",
       "      <td>1170</td>\n",
       "    </tr>\n",
       "    <tr>\n",
       "      <th>brown</th>\n",
       "      <td>15367.741935</td>\n",
       "      <td>341</td>\n",
       "    </tr>\n",
       "    <tr>\n",
       "      <th>blue</th>\n",
       "      <td>15137.784091</td>\n",
       "      <td>704</td>\n",
       "    </tr>\n",
       "    <tr>\n",
       "      <th>silver</th>\n",
       "      <td>14826.299694</td>\n",
       "      <td>327</td>\n",
       "    </tr>\n",
       "    <tr>\n",
       "      <th>green</th>\n",
       "      <td>7200.000000</td>\n",
       "      <td>18</td>\n",
       "    </tr>\n",
       "  </tbody>\n",
       "</table>\n",
       "</div>"
      ],
      "text/plain": [
       "              precio      \n",
       "                mean count\n",
       "color                     \n",
       "orange  18866.666667     6\n",
       "white   17314.365672   536\n",
       "red     16568.627451    51\n",
       "black   16178.479460  1631\n",
       "beige   15817.073171    41\n",
       "grey    15619.914530  1170\n",
       "brown   15367.741935   341\n",
       "blue    15137.784091   704\n",
       "silver  14826.299694   327\n",
       "green    7200.000000    18"
      ]
     },
     "execution_count": 11,
     "metadata": {},
     "output_type": "execute_result"
    }
   ],
   "source": [
    "# Precio medio por color\n",
    "original_df.groupby(by = ['color'])[['precio']].agg(['mean', 'count']).sort_values(by = ('precio', 'mean'), ascending = False)\n",
    "\n",
    "# El color verde es significativamente más barato que el resto, y no se tiene una sola muestra (no parece ser un outlier)\n",
    "# El color naranja es el más caro (hay pocas muestras) seguido del blanco."
   ]
  },
  {
   "cell_type": "markdown",
   "metadata": {},
   "source": [
    "# Generación del modelo predictivo"
   ]
  },
  {
   "cell_type": "markdown",
   "metadata": {},
   "source": [
    "## EDA + Data cleaning"
   ]
  },
  {
   "cell_type": "markdown",
   "metadata": {},
   "source": [
    "### Target"
   ]
  },
  {
   "cell_type": "code",
   "execution_count": 12,
   "metadata": {},
   "outputs": [],
   "source": [
    "# Se trabaja con el format_df para empezar a manipular el dataset\n",
    "format_df = original_df.copy()"
   ]
  },
  {
   "cell_type": "code",
   "execution_count": 13,
   "metadata": {},
   "outputs": [],
   "source": [
    "# El target es el precio. Es una variable numérica, así que es correcta tal y como está\n",
    "target = 'precio'"
   ]
  },
  {
   "cell_type": "code",
   "execution_count": 14,
   "metadata": {},
   "outputs": [],
   "source": [
    "# Se dropean los valores nulos del target, ya que són muy pocos (6 de 4843)\n",
    "format_df.dropna(subset = [target], inplace = True)"
   ]
  },
  {
   "cell_type": "code",
   "execution_count": 15,
   "metadata": {},
   "outputs": [],
   "source": [
    "# Se resetea el índice\n",
    "format_df.reset_index(drop = True, inplace = True)"
   ]
  },
  {
   "cell_type": "code",
   "execution_count": 16,
   "metadata": {},
   "outputs": [
    {
     "data": {
      "text/plain": [
       "15831.920611949556"
      ]
     },
     "execution_count": 16,
     "metadata": {},
     "output_type": "execute_result"
    }
   ],
   "source": [
    "# Precio medio para tenerlo como referencia\n",
    "format_df[target].mean()"
   ]
  },
  {
   "cell_type": "code",
   "execution_count": 17,
   "metadata": {},
   "outputs": [
    {
     "data": {
      "text/plain": [
       "<AxesSubplot:>"
      ]
     },
     "execution_count": 17,
     "metadata": {},
     "output_type": "execute_result"
    },
    {
     "data": {
      "image/png": "[encoded data removed]",
      "text/plain": [
       "<Figure size 432x288 with 1 Axes>"
      ]
     },
     "metadata": {},
     "output_type": "display_data"
    }
   ],
   "source": [
    "# Distribución del precio. Se ve claramente una distribución right-skewed, por lo que se aplicará una función logarítmica\n",
    "format_df[target].hist()"
   ]
  },
  {
   "cell_type": "code",
   "execution_count": 18,
   "metadata": {},
   "outputs": [
    {
     "data": {
      "text/plain": [
       "32"
      ]
     },
     "execution_count": 18,
     "metadata": {},
     "output_type": "execute_result"
    }
   ],
   "source": [
    "# Solo 32 coches tienen un precio superior a 50.000\n",
    "len(format_df[format_df[target] > 50000])"
   ]
  },
  {
   "cell_type": "markdown",
   "metadata": {},
   "source": [
    "### Columna Marca"
   ]
  },
  {
   "cell_type": "code",
   "execution_count": 19,
   "metadata": {},
   "outputs": [
    {
     "data": {
      "text/plain": [
       "array(['BMW', nan], dtype=object)"
      ]
     },
     "execution_count": 19,
     "metadata": {},
     "output_type": "execute_result"
    }
   ],
   "source": [
    "# Como se trata de un dataset de BMW, se intuye que todos los coches serán de la misma marca\n",
    "format_df['marca'].unique()"
   ]
  },
  {
   "cell_type": "code",
   "execution_count": 20,
   "metadata": {},
   "outputs": [],
   "source": [
    "# Se borra la columna porque, aunque tenga algunos nulos, todos los coches son de la misma marca\n",
    "format_df.drop(columns = 'marca', inplace = True)"
   ]
  },
  {
   "cell_type": "markdown",
   "metadata": {},
   "source": [
    "### Columnas de fecha"
   ]
  },
  {
   "cell_type": "code",
   "execution_count": 21,
   "metadata": {},
   "outputs": [],
   "source": [
    "# Se detecta que las siguientes columnas contienen fechas:\n",
    "glob_list_date = [column for column in format_df.columns if 'fecha' in column]"
   ]
  },
  {
   "cell_type": "code",
   "execution_count": 22,
   "metadata": {},
   "outputs": [
    {
     "data": {
      "text/plain": [
       "fecha_registro    1\n",
       "fecha_venta       1\n",
       "dtype: int64"
      ]
     },
     "execution_count": 22,
     "metadata": {},
     "output_type": "execute_result"
    }
   ],
   "source": [
    "# Nulos de las columnas de fecha:\n",
    "format_df[glob_list_date].isnull().sum()"
   ]
  },
  {
   "cell_type": "code",
   "execution_count": 23,
   "metadata": {},
   "outputs": [
    {
     "data": {
      "text/html": [
       "<div>\n",
       "<style scoped>\n",
       "    .dataframe tbody tr th:only-of-type {\n",
       "        vertical-align: middle;\n",
       "    }\n",
       "\n",
       "    .dataframe tbody tr th {\n",
       "        vertical-align: top;\n",
       "    }\n",
       "\n",
       "    .dataframe thead th {\n",
       "        text-align: right;\n",
       "    }\n",
       "</style>\n",
       "<table border=\"1\" class=\"dataframe\">\n",
       "  <thead>\n",
       "    <tr style=\"text-align: right;\">\n",
       "      <th></th>\n",
       "      <th>modelo</th>\n",
       "      <th>km</th>\n",
       "      <th>potencia</th>\n",
       "      <th>fecha_registro</th>\n",
       "      <th>tipo_gasolina</th>\n",
       "      <th>color</th>\n",
       "      <th>tipo_coche</th>\n",
       "      <th>volante_regulable</th>\n",
       "      <th>aire_acondicionado</th>\n",
       "      <th>camara_trasera</th>\n",
       "      <th>asientos_traseros_plegables</th>\n",
       "      <th>elevalunas_electrico</th>\n",
       "      <th>bluetooth</th>\n",
       "      <th>gps</th>\n",
       "      <th>alerta_lim_velocidad</th>\n",
       "      <th>precio</th>\n",
       "      <th>fecha_venta</th>\n",
       "    </tr>\n",
       "  </thead>\n",
       "  <tbody>\n",
       "    <tr>\n",
       "      <th>197</th>\n",
       "      <td>318</td>\n",
       "      <td>158853.0</td>\n",
       "      <td>100.0</td>\n",
       "      <td>NaN</td>\n",
       "      <td>diesel</td>\n",
       "      <td>black</td>\n",
       "      <td>estate</td>\n",
       "      <td>True</td>\n",
       "      <td>False</td>\n",
       "      <td>False</td>\n",
       "      <td>False</td>\n",
       "      <td>False</td>\n",
       "      <td>False</td>\n",
       "      <td>True</td>\n",
       "      <td>False</td>\n",
       "      <td>10900.0</td>\n",
       "      <td>2018-06-01</td>\n",
       "    </tr>\n",
       "  </tbody>\n",
       "</table>\n",
       "</div>"
      ],
      "text/plain": [
       "    modelo        km  potencia fecha_registro tipo_gasolina  color tipo_coche  \\\n",
       "197    318  158853.0     100.0            NaN        diesel  black     estate   \n",
       "\n",
       "    volante_regulable aire_acondicionado camara_trasera  \\\n",
       "197              True              False          False   \n",
       "\n",
       "    asientos_traseros_plegables elevalunas_electrico bluetooth   gps  \\\n",
       "197                       False                False     False  True   \n",
       "\n",
       "    alerta_lim_velocidad   precio fecha_venta  \n",
       "197                False  10900.0  2018-06-01  "
      ]
     },
     "execution_count": 23,
     "metadata": {},
     "output_type": "execute_result"
    }
   ],
   "source": [
    "format_df[format_df[glob_list_date[0]].isnull()]"
   ]
  },
  {
   "cell_type": "code",
   "execution_count": 24,
   "metadata": {},
   "outputs": [
    {
     "data": {
      "text/html": [
       "<div>\n",
       "<style scoped>\n",
       "    .dataframe tbody tr th:only-of-type {\n",
       "        vertical-align: middle;\n",
       "    }\n",
       "\n",
       "    .dataframe tbody tr th {\n",
       "        vertical-align: top;\n",
       "    }\n",
       "\n",
       "    .dataframe thead th {\n",
       "        text-align: right;\n",
       "    }\n",
       "</style>\n",
       "<table border=\"1\" class=\"dataframe\">\n",
       "  <thead>\n",
       "    <tr style=\"text-align: right;\">\n",
       "      <th></th>\n",
       "      <th>modelo</th>\n",
       "      <th>km</th>\n",
       "      <th>potencia</th>\n",
       "      <th>fecha_registro</th>\n",
       "      <th>tipo_gasolina</th>\n",
       "      <th>color</th>\n",
       "      <th>tipo_coche</th>\n",
       "      <th>volante_regulable</th>\n",
       "      <th>aire_acondicionado</th>\n",
       "      <th>camara_trasera</th>\n",
       "      <th>asientos_traseros_plegables</th>\n",
       "      <th>elevalunas_electrico</th>\n",
       "      <th>bluetooth</th>\n",
       "      <th>gps</th>\n",
       "      <th>alerta_lim_velocidad</th>\n",
       "      <th>precio</th>\n",
       "      <th>fecha_venta</th>\n",
       "    </tr>\n",
       "  </thead>\n",
       "  <tbody>\n",
       "    <tr>\n",
       "      <th>588</th>\n",
       "      <td>525</td>\n",
       "      <td>269290.0</td>\n",
       "      <td>120.0</td>\n",
       "      <td>2005-06-01</td>\n",
       "      <td>diesel</td>\n",
       "      <td>silver</td>\n",
       "      <td>estate</td>\n",
       "      <td>True</td>\n",
       "      <td>False</td>\n",
       "      <td>True</td>\n",
       "      <td>False</td>\n",
       "      <td>False</td>\n",
       "      <td>False</td>\n",
       "      <td>True</td>\n",
       "      <td>True</td>\n",
       "      <td>4200.0</td>\n",
       "      <td>NaN</td>\n",
       "    </tr>\n",
       "  </tbody>\n",
       "</table>\n",
       "</div>"
      ],
      "text/plain": [
       "    modelo        km  potencia fecha_registro tipo_gasolina   color  \\\n",
       "588    525  269290.0     120.0     2005-06-01        diesel  silver   \n",
       "\n",
       "    tipo_coche volante_regulable aire_acondicionado camara_trasera  \\\n",
       "588     estate              True              False           True   \n",
       "\n",
       "    asientos_traseros_plegables elevalunas_electrico bluetooth   gps  \\\n",
       "588                       False                False     False  True   \n",
       "\n",
       "    alerta_lim_velocidad  precio fecha_venta  \n",
       "588                 True  4200.0         NaN  "
      ]
     },
     "execution_count": 24,
     "metadata": {},
     "output_type": "execute_result"
    }
   ],
   "source": [
    "format_df[format_df[glob_list_date[1]].isnull()]"
   ]
  },
  {
   "cell_type": "code",
   "execution_count": 25,
   "metadata": {},
   "outputs": [],
   "source": [
    "# Se pasan las columnas a datetime\n",
    "for column in glob_list_date:\n",
    "    format_df[column] = pd.to_datetime(format_df[column])"
   ]
  },
  {
   "cell_type": "code",
   "execution_count": 26,
   "metadata": {},
   "outputs": [
    {
     "data": {
      "text/plain": [
       "<AxesSubplot:>"
      ]
     },
     "execution_count": 26,
     "metadata": {},
     "output_type": "execute_result"
    },
    {
     "data": {
      "image/png": "[encoded data removed]",
      "text/plain": [
       "<Figure size 432x288 with 1 Axes>"
      ]
     },
     "metadata": {},
     "output_type": "display_data"
    }
   ],
   "source": [
    "# Para la fecha_venta, se detecta que casi todos las fechas son el año 2018\n",
    "format_df['fecha_venta'].dt.year.hist()"
   ]
  },
  {
   "cell_type": "code",
   "execution_count": 27,
   "metadata": {},
   "outputs": [
    {
     "data": {
      "text/html": [
       "<div>\n",
       "<style scoped>\n",
       "    .dataframe tbody tr th:only-of-type {\n",
       "        vertical-align: middle;\n",
       "    }\n",
       "\n",
       "    .dataframe tbody tr th {\n",
       "        vertical-align: top;\n",
       "    }\n",
       "\n",
       "    .dataframe thead th {\n",
       "        text-align: right;\n",
       "    }\n",
       "</style>\n",
       "<table border=\"1\" class=\"dataframe\">\n",
       "  <thead>\n",
       "    <tr style=\"text-align: right;\">\n",
       "      <th></th>\n",
       "      <th>modelo</th>\n",
       "      <th>km</th>\n",
       "      <th>potencia</th>\n",
       "      <th>fecha_registro</th>\n",
       "      <th>tipo_gasolina</th>\n",
       "      <th>color</th>\n",
       "      <th>tipo_coche</th>\n",
       "      <th>volante_regulable</th>\n",
       "      <th>aire_acondicionado</th>\n",
       "      <th>camara_trasera</th>\n",
       "      <th>asientos_traseros_plegables</th>\n",
       "      <th>elevalunas_electrico</th>\n",
       "      <th>bluetooth</th>\n",
       "      <th>gps</th>\n",
       "      <th>alerta_lim_velocidad</th>\n",
       "      <th>precio</th>\n",
       "      <th>fecha_venta</th>\n",
       "    </tr>\n",
       "  </thead>\n",
       "  <tbody>\n",
       "    <tr>\n",
       "      <th>42</th>\n",
       "      <td>330</td>\n",
       "      <td>142483.0</td>\n",
       "      <td>180.0</td>\n",
       "      <td>2012-01-01</td>\n",
       "      <td>diesel</td>\n",
       "      <td>blue</td>\n",
       "      <td>convertible</td>\n",
       "      <td>True</td>\n",
       "      <td>True</td>\n",
       "      <td>False</td>\n",
       "      <td>False</td>\n",
       "      <td>True</td>\n",
       "      <td>False</td>\n",
       "      <td>True</td>\n",
       "      <td>True</td>\n",
       "      <td>15800.0</td>\n",
       "      <td>2007-08-01</td>\n",
       "    </tr>\n",
       "    <tr>\n",
       "      <th>100</th>\n",
       "      <td>320</td>\n",
       "      <td>342768.0</td>\n",
       "      <td>135.0</td>\n",
       "      <td>2011-12-01</td>\n",
       "      <td>diesel</td>\n",
       "      <td>black</td>\n",
       "      <td>coupe</td>\n",
       "      <td>False</td>\n",
       "      <td>True</td>\n",
       "      <td>False</td>\n",
       "      <td>False</td>\n",
       "      <td>True</td>\n",
       "      <td>False</td>\n",
       "      <td>True</td>\n",
       "      <td>False</td>\n",
       "      <td>8200.0</td>\n",
       "      <td>2010-04-01</td>\n",
       "    </tr>\n",
       "    <tr>\n",
       "      <th>179</th>\n",
       "      <td>320</td>\n",
       "      <td>181052.0</td>\n",
       "      <td>120.0</td>\n",
       "      <td>2014-10-01</td>\n",
       "      <td>diesel</td>\n",
       "      <td>black</td>\n",
       "      <td>estate</td>\n",
       "      <td>False</td>\n",
       "      <td>True</td>\n",
       "      <td>False</td>\n",
       "      <td>False</td>\n",
       "      <td>False</td>\n",
       "      <td>False</td>\n",
       "      <td>True</td>\n",
       "      <td>True</td>\n",
       "      <td>11500.0</td>\n",
       "      <td>2009-04-01</td>\n",
       "    </tr>\n",
       "    <tr>\n",
       "      <th>255</th>\n",
       "      <td>316</td>\n",
       "      <td>201102.0</td>\n",
       "      <td>85.0</td>\n",
       "      <td>2013-12-01</td>\n",
       "      <td>diesel</td>\n",
       "      <td>black</td>\n",
       "      <td>estate</td>\n",
       "      <td>True</td>\n",
       "      <td>False</td>\n",
       "      <td>False</td>\n",
       "      <td>False</td>\n",
       "      <td>False</td>\n",
       "      <td>False</td>\n",
       "      <td>True</td>\n",
       "      <td>False</td>\n",
       "      <td>8800.0</td>\n",
       "      <td>2008-06-01</td>\n",
       "    </tr>\n",
       "  </tbody>\n",
       "</table>\n",
       "</div>"
      ],
      "text/plain": [
       "    modelo        km  potencia fecha_registro tipo_gasolina  color  \\\n",
       "42     330  142483.0     180.0     2012-01-01        diesel   blue   \n",
       "100    320  342768.0     135.0     2011-12-01        diesel  black   \n",
       "179    320  181052.0     120.0     2014-10-01        diesel  black   \n",
       "255    316  201102.0      85.0     2013-12-01        diesel  black   \n",
       "\n",
       "      tipo_coche volante_regulable aire_acondicionado camara_trasera  \\\n",
       "42   convertible              True               True          False   \n",
       "100        coupe             False               True          False   \n",
       "179       estate             False               True          False   \n",
       "255       estate              True              False          False   \n",
       "\n",
       "    asientos_traseros_plegables elevalunas_electrico bluetooth   gps  \\\n",
       "42                        False                 True     False  True   \n",
       "100                       False                 True     False  True   \n",
       "179                       False                False     False  True   \n",
       "255                       False                False     False  True   \n",
       "\n",
       "    alerta_lim_velocidad   precio fecha_venta  \n",
       "42                  True  15800.0  2007-08-01  \n",
       "100                False   8200.0  2010-04-01  \n",
       "179                 True  11500.0  2009-04-01  \n",
       "255                False   8800.0  2008-06-01  "
      ]
     },
     "execution_count": 27,
     "metadata": {},
     "output_type": "execute_result"
    }
   ],
   "source": [
    "# Se comprueba que solo hay 4 coches con una fecha inferior a 2018. \n",
    "# Además estos coches tienen una fecha de registro superior a la fecha de venta, hecho muy anormal\n",
    "format_df[format_df['fecha_venta'].dt.year < 2018]"
   ]
  },
  {
   "cell_type": "code",
   "execution_count": 28,
   "metadata": {},
   "outputs": [],
   "source": [
    "# Se cambiará el año de estos coches a 2018, ya que se considera un error (es muy estraño que solo 4 coches tengan un año inferior)\n",
    "# De todas maneras, en un contexto real se tendría que consultar a negocio esta anomalía\n",
    "idx_venta_no_2018 = format_df[format_df['fecha_venta'].dt.year < 2018].index\n",
    "format_df.loc[idx_venta_no_2018, 'fecha_venta'] = format_df.loc[idx_venta_no_2018, 'fecha_venta'].apply(lambda x: x.replace(year = 2018))"
   ]
  },
  {
   "cell_type": "markdown",
   "metadata": {},
   "source": [
    "Para rellenar los nulos de la fecha_venta, se calcula la media del mes de venta y se le asigna el año 2018 y el día 1, ya que el resto de variables son así"
   ]
  },
  {
   "cell_type": "code",
   "execution_count": 29,
   "metadata": {},
   "outputs": [],
   "source": [
    "month_mean_venta = int(round(format_df['fecha_venta'].dt.month.mean(), 0))"
   ]
  },
  {
   "cell_type": "code",
   "execution_count": 30,
   "metadata": {},
   "outputs": [],
   "source": [
    "format_df['fecha_venta'].fillna(datetime.datetime(year = 2018, month = month_mean_venta, day = 1), inplace = True)"
   ]
  },
  {
   "cell_type": "code",
   "execution_count": 31,
   "metadata": {},
   "outputs": [
    {
     "data": {
      "text/plain": [
       "0"
      ]
     },
     "execution_count": 31,
     "metadata": {},
     "output_type": "execute_result"
    }
   ],
   "source": [
    "format_df['fecha_venta'].isnull().sum()"
   ]
  },
  {
   "cell_type": "markdown",
   "metadata": {},
   "source": [
    "Para rellenar los nulos de la fecha_registro, se decide calcular el tiempo medio entre la fecha de venta y la fecha de registro e imputar el valor que falta acorde al número calculado"
   ]
  },
  {
   "cell_type": "code",
   "execution_count": 32,
   "metadata": {},
   "outputs": [],
   "source": [
    "# Se analiza la muestra del tiempo entre registro y venta\n",
    "date_series = (format_df['fecha_venta'] - format_df['fecha_registro']).dt.days"
   ]
  },
  {
   "cell_type": "code",
   "execution_count": 33,
   "metadata": {},
   "outputs": [
    {
     "data": {
      "text/plain": [
       "count     4836.000000\n",
       "mean      1984.254963\n",
       "std        927.862801\n",
       "min        215.000000\n",
       "25%       1489.000000\n",
       "50%       1765.000000\n",
       "75%       2130.000000\n",
       "max      10258.000000\n",
       "dtype: float64"
      ]
     },
     "execution_count": 33,
     "metadata": {},
     "output_type": "execute_result"
    }
   ],
   "source": [
    "# Parece que hay algún valor nulo y algún outlier\n",
    "date_series.describe()"
   ]
  },
  {
   "cell_type": "code",
   "execution_count": 34,
   "metadata": {},
   "outputs": [
    {
     "data": {
      "text/plain": [
       "<AxesSubplot:>"
      ]
     },
     "execution_count": 34,
     "metadata": {},
     "output_type": "execute_result"
    },
    {
     "data": {
      "image/png": "[encoded data removed]",
      "text/plain": [
       "<Figure size 432x288 with 1 Axes>"
      ]
     },
     "metadata": {},
     "output_type": "display_data"
    }
   ],
   "source": [
    "date_series.hist()"
   ]
  },
  {
   "cell_type": "code",
   "execution_count": 35,
   "metadata": {},
   "outputs": [
    {
     "data": {
      "text/plain": [
       "0.08269588587967748"
      ]
     },
     "execution_count": 35,
     "metadata": {},
     "output_type": "execute_result"
    }
   ],
   "source": [
    "# Porcentaje de valores con fecha de venta superior a 8000 días a la fecha de registro\n",
    "len(date_series[date_series > 8000]) / len(date_series) * 100"
   ]
  },
  {
   "cell_type": "code",
   "execution_count": 36,
   "metadata": {},
   "outputs": [],
   "source": [
    "# Se decide hacer la media con el 99% de los datos quitando outliers de valor muy elevado\n",
    "cuantil_alto = np.nanquantile(date_series, 0.99)"
   ]
  },
  {
   "cell_type": "code",
   "execution_count": 37,
   "metadata": {},
   "outputs": [],
   "source": [
    "# Se calcula la media y se pasa a valor entero redondeado\n",
    "media_date_series = int(round(date_series[date_series < cuantil_alto].mean(), 0))"
   ]
  },
  {
   "cell_type": "code",
   "execution_count": 38,
   "metadata": {},
   "outputs": [
    {
     "data": {
      "text/plain": [
       "1935"
      ]
     },
     "execution_count": 38,
     "metadata": {},
     "output_type": "execute_result"
    }
   ],
   "source": [
    "media_date_series"
   ]
  },
  {
   "cell_type": "code",
   "execution_count": 39,
   "metadata": {},
   "outputs": [],
   "source": [
    "# Se rellenan los valores nulos de fecha registro\n",
    "format_df['fecha_registro'].fillna(format_df['fecha_venta'] - datetime.timedelta(days = media_date_series), inplace = True)"
   ]
  },
  {
   "cell_type": "markdown",
   "metadata": {},
   "source": [
    "Como el modelo no acepta columnas datetime, se extrae toda la informació que se considera útil de las fechas en formato número. Concretamente:"
   ]
  },
  {
   "cell_type": "code",
   "execution_count": 40,
   "metadata": {},
   "outputs": [],
   "source": [
    "# Se calcula el tiempo entre venta y registro, en días\n",
    "format_df['dias_venta_registro'] = (format_df['fecha_venta'] - format_df['fecha_registro']).dt.days"
   ]
  },
  {
   "cell_type": "code",
   "execution_count": 41,
   "metadata": {},
   "outputs": [
    {
     "data": {
      "text/plain": [
       "1     4836\n",
       "12       1\n",
       "Name: fecha_registro, dtype: int64"
      ]
     },
     "execution_count": 41,
     "metadata": {},
     "output_type": "execute_result"
    }
   ],
   "source": [
    "# En la exploración inicial se detecta que los días de la fecha siempre son el primero de mes.\n",
    "# La excepción es debido a valor nulo imputado a posteriori\n",
    "format_df['fecha_registro'].dt.day.value_counts()"
   ]
  },
  {
   "cell_type": "code",
   "execution_count": 42,
   "metadata": {},
   "outputs": [],
   "source": [
    "# Se extrae el año y el mes. El día no se extrae debido a que no hay varianza\n",
    "for column in glob_list_date:\n",
    "    format_df[column + '_año'] = format_df[column].dt.year\n",
    "    format_df[column + '_mes'] = format_df[column].dt.month"
   ]
  },
  {
   "cell_type": "code",
   "execution_count": 43,
   "metadata": {},
   "outputs": [
    {
     "data": {
      "text/html": [
       "<div>\n",
       "<style scoped>\n",
       "    .dataframe tbody tr th:only-of-type {\n",
       "        vertical-align: middle;\n",
       "    }\n",
       "\n",
       "    .dataframe tbody tr th {\n",
       "        vertical-align: top;\n",
       "    }\n",
       "\n",
       "    .dataframe thead th {\n",
       "        text-align: right;\n",
       "    }\n",
       "</style>\n",
       "<table border=\"1\" class=\"dataframe\">\n",
       "  <thead>\n",
       "    <tr style=\"text-align: right;\">\n",
       "      <th></th>\n",
       "      <th>modelo</th>\n",
       "      <th>km</th>\n",
       "      <th>potencia</th>\n",
       "      <th>fecha_registro</th>\n",
       "      <th>tipo_gasolina</th>\n",
       "      <th>color</th>\n",
       "      <th>tipo_coche</th>\n",
       "      <th>volante_regulable</th>\n",
       "      <th>aire_acondicionado</th>\n",
       "      <th>camara_trasera</th>\n",
       "      <th>...</th>\n",
       "      <th>bluetooth</th>\n",
       "      <th>gps</th>\n",
       "      <th>alerta_lim_velocidad</th>\n",
       "      <th>precio</th>\n",
       "      <th>fecha_venta</th>\n",
       "      <th>dias_venta_registro</th>\n",
       "      <th>fecha_registro_año</th>\n",
       "      <th>fecha_registro_mes</th>\n",
       "      <th>fecha_venta_año</th>\n",
       "      <th>fecha_venta_mes</th>\n",
       "    </tr>\n",
       "  </thead>\n",
       "  <tbody>\n",
       "    <tr>\n",
       "      <th>0</th>\n",
       "      <td>118</td>\n",
       "      <td>140411.0</td>\n",
       "      <td>100.0</td>\n",
       "      <td>2012-02-01</td>\n",
       "      <td>diesel</td>\n",
       "      <td>black</td>\n",
       "      <td>convertible</td>\n",
       "      <td>True</td>\n",
       "      <td>True</td>\n",
       "      <td>False</td>\n",
       "      <td>...</td>\n",
       "      <td>True</td>\n",
       "      <td>True</td>\n",
       "      <td>False</td>\n",
       "      <td>11300.0</td>\n",
       "      <td>2018-01-01</td>\n",
       "      <td>2161</td>\n",
       "      <td>2012</td>\n",
       "      <td>2</td>\n",
       "      <td>2018</td>\n",
       "      <td>1</td>\n",
       "    </tr>\n",
       "    <tr>\n",
       "      <th>1</th>\n",
       "      <td>M4</td>\n",
       "      <td>13929.0</td>\n",
       "      <td>317.0</td>\n",
       "      <td>2016-04-01</td>\n",
       "      <td>petrol</td>\n",
       "      <td>grey</td>\n",
       "      <td>convertible</td>\n",
       "      <td>True</td>\n",
       "      <td>True</td>\n",
       "      <td>False</td>\n",
       "      <td>...</td>\n",
       "      <td>True</td>\n",
       "      <td>True</td>\n",
       "      <td>True</td>\n",
       "      <td>69700.0</td>\n",
       "      <td>2018-02-01</td>\n",
       "      <td>671</td>\n",
       "      <td>2016</td>\n",
       "      <td>4</td>\n",
       "      <td>2018</td>\n",
       "      <td>2</td>\n",
       "    </tr>\n",
       "    <tr>\n",
       "      <th>2</th>\n",
       "      <td>320</td>\n",
       "      <td>183297.0</td>\n",
       "      <td>120.0</td>\n",
       "      <td>2012-04-01</td>\n",
       "      <td>diesel</td>\n",
       "      <td>white</td>\n",
       "      <td>convertible</td>\n",
       "      <td>False</td>\n",
       "      <td>False</td>\n",
       "      <td>False</td>\n",
       "      <td>...</td>\n",
       "      <td>False</td>\n",
       "      <td>True</td>\n",
       "      <td>False</td>\n",
       "      <td>10200.0</td>\n",
       "      <td>2018-02-01</td>\n",
       "      <td>2132</td>\n",
       "      <td>2012</td>\n",
       "      <td>4</td>\n",
       "      <td>2018</td>\n",
       "      <td>2</td>\n",
       "    </tr>\n",
       "    <tr>\n",
       "      <th>3</th>\n",
       "      <td>420</td>\n",
       "      <td>128035.0</td>\n",
       "      <td>135.0</td>\n",
       "      <td>2014-07-01</td>\n",
       "      <td>diesel</td>\n",
       "      <td>red</td>\n",
       "      <td>convertible</td>\n",
       "      <td>True</td>\n",
       "      <td>True</td>\n",
       "      <td>False</td>\n",
       "      <td>...</td>\n",
       "      <td>True</td>\n",
       "      <td>True</td>\n",
       "      <td>True</td>\n",
       "      <td>25100.0</td>\n",
       "      <td>2018-02-01</td>\n",
       "      <td>1311</td>\n",
       "      <td>2014</td>\n",
       "      <td>7</td>\n",
       "      <td>2018</td>\n",
       "      <td>2</td>\n",
       "    </tr>\n",
       "    <tr>\n",
       "      <th>4</th>\n",
       "      <td>425</td>\n",
       "      <td>97097.0</td>\n",
       "      <td>160.0</td>\n",
       "      <td>2014-12-01</td>\n",
       "      <td>diesel</td>\n",
       "      <td>silver</td>\n",
       "      <td>convertible</td>\n",
       "      <td>True</td>\n",
       "      <td>True</td>\n",
       "      <td>False</td>\n",
       "      <td>...</td>\n",
       "      <td>True</td>\n",
       "      <td>True</td>\n",
       "      <td>True</td>\n",
       "      <td>33400.0</td>\n",
       "      <td>2018-04-01</td>\n",
       "      <td>1217</td>\n",
       "      <td>2014</td>\n",
       "      <td>12</td>\n",
       "      <td>2018</td>\n",
       "      <td>4</td>\n",
       "    </tr>\n",
       "  </tbody>\n",
       "</table>\n",
       "<p>5 rows × 22 columns</p>\n",
       "</div>"
      ],
      "text/plain": [
       "  modelo        km  potencia fecha_registro tipo_gasolina   color  \\\n",
       "0    118  140411.0     100.0     2012-02-01        diesel   black   \n",
       "1     M4   13929.0     317.0     2016-04-01        petrol    grey   \n",
       "2    320  183297.0     120.0     2012-04-01        diesel   white   \n",
       "3    420  128035.0     135.0     2014-07-01        diesel     red   \n",
       "4    425   97097.0     160.0     2014-12-01        diesel  silver   \n",
       "\n",
       "    tipo_coche volante_regulable aire_acondicionado camara_trasera  ...  \\\n",
       "0  convertible              True               True          False  ...   \n",
       "1  convertible              True               True          False  ...   \n",
       "2  convertible             False              False          False  ...   \n",
       "3  convertible              True               True          False  ...   \n",
       "4  convertible              True               True          False  ...   \n",
       "\n",
       "  bluetooth   gps alerta_lim_velocidad   precio fecha_venta  \\\n",
       "0      True  True                False  11300.0  2018-01-01   \n",
       "1      True  True                 True  69700.0  2018-02-01   \n",
       "2     False  True                False  10200.0  2018-02-01   \n",
       "3      True  True                 True  25100.0  2018-02-01   \n",
       "4      True  True                 True  33400.0  2018-04-01   \n",
       "\n",
       "   dias_venta_registro fecha_registro_año  fecha_registro_mes  \\\n",
       "0                 2161               2012                   2   \n",
       "1                  671               2016                   4   \n",
       "2                 2132               2012                   4   \n",
       "3                 1311               2014                   7   \n",
       "4                 1217               2014                  12   \n",
       "\n",
       "   fecha_venta_año  fecha_venta_mes  \n",
       "0             2018                1  \n",
       "1             2018                2  \n",
       "2             2018                2  \n",
       "3             2018                2  \n",
       "4             2018                4  \n",
       "\n",
       "[5 rows x 22 columns]"
      ]
     },
     "execution_count": 43,
     "metadata": {},
     "output_type": "execute_result"
    }
   ],
   "source": [
    "format_df.head()"
   ]
  },
  {
   "cell_type": "code",
   "execution_count": 44,
   "metadata": {},
   "outputs": [],
   "source": [
    "# Se eliminan las columnas datetime al haber sido ya tratadas\n",
    "format_df.drop(columns = glob_list_date, inplace = True)"
   ]
  },
  {
   "cell_type": "code",
   "execution_count": 45,
   "metadata": {},
   "outputs": [],
   "source": [
    "# También se elimina la columna de fecha_venta_año, ya que no tiene varianza (todos los valores son 2018)\n",
    "format_df.drop(columns = 'fecha_venta_año', inplace = True)"
   ]
  },
  {
   "cell_type": "markdown",
   "metadata": {},
   "source": [
    "### Columnas numéricas"
   ]
  },
  {
   "cell_type": "markdown",
   "metadata": {},
   "source": [
    "#### EDA"
   ]
  },
  {
   "cell_type": "code",
   "execution_count": 46,
   "metadata": {},
   "outputs": [],
   "source": [
    "# Lista de variables numéricas\n",
    "glob_list_num = list(format_df.describe().drop(columns = target).columns)"
   ]
  },
  {
   "cell_type": "code",
   "execution_count": 47,
   "metadata": {},
   "outputs": [
    {
     "data": {
      "text/html": [
       "<div>\n",
       "<style scoped>\n",
       "    .dataframe tbody tr th:only-of-type {\n",
       "        vertical-align: middle;\n",
       "    }\n",
       "\n",
       "    .dataframe tbody tr th {\n",
       "        vertical-align: top;\n",
       "    }\n",
       "\n",
       "    .dataframe thead th {\n",
       "        text-align: right;\n",
       "    }\n",
       "</style>\n",
       "<table border=\"1\" class=\"dataframe\">\n",
       "  <thead>\n",
       "    <tr style=\"text-align: right;\">\n",
       "      <th></th>\n",
       "      <th>count</th>\n",
       "      <th>mean</th>\n",
       "      <th>std</th>\n",
       "      <th>min</th>\n",
       "      <th>25%</th>\n",
       "      <th>50%</th>\n",
       "      <th>75%</th>\n",
       "      <th>max</th>\n",
       "    </tr>\n",
       "  </thead>\n",
       "  <tbody>\n",
       "    <tr>\n",
       "      <th>km</th>\n",
       "      <td>4835.0</td>\n",
       "      <td>140966.371251</td>\n",
       "      <td>60220.786757</td>\n",
       "      <td>-64.0</td>\n",
       "      <td>102870.0</td>\n",
       "      <td>141068.0</td>\n",
       "      <td>175243.5</td>\n",
       "      <td>1000376.0</td>\n",
       "    </tr>\n",
       "    <tr>\n",
       "      <th>potencia</th>\n",
       "      <td>4836.0</td>\n",
       "      <td>128.995037</td>\n",
       "      <td>39.011169</td>\n",
       "      <td>0.0</td>\n",
       "      <td>100.0</td>\n",
       "      <td>120.0</td>\n",
       "      <td>135.0</td>\n",
       "      <td>423.0</td>\n",
       "    </tr>\n",
       "    <tr>\n",
       "      <th>dias_venta_registro</th>\n",
       "      <td>4837.0</td>\n",
       "      <td>1984.244780</td>\n",
       "      <td>927.767134</td>\n",
       "      <td>215.0</td>\n",
       "      <td>1489.0</td>\n",
       "      <td>1765.0</td>\n",
       "      <td>2130.0</td>\n",
       "      <td>10258.0</td>\n",
       "    </tr>\n",
       "    <tr>\n",
       "      <th>fecha_registro_año</th>\n",
       "      <td>4837.0</td>\n",
       "      <td>2012.466405</td>\n",
       "      <td>2.528326</td>\n",
       "      <td>1990.0</td>\n",
       "      <td>2012.0</td>\n",
       "      <td>2013.0</td>\n",
       "      <td>2014.0</td>\n",
       "      <td>2017.0</td>\n",
       "    </tr>\n",
       "    <tr>\n",
       "      <th>fecha_registro_mes</th>\n",
       "      <td>4837.0</td>\n",
       "      <td>6.129419</td>\n",
       "      <td>3.316281</td>\n",
       "      <td>1.0</td>\n",
       "      <td>3.0</td>\n",
       "      <td>6.0</td>\n",
       "      <td>9.0</td>\n",
       "      <td>12.0</td>\n",
       "    </tr>\n",
       "    <tr>\n",
       "      <th>fecha_venta_mes</th>\n",
       "      <td>4837.0</td>\n",
       "      <td>4.929502</td>\n",
       "      <td>2.157419</td>\n",
       "      <td>1.0</td>\n",
       "      <td>3.0</td>\n",
       "      <td>5.0</td>\n",
       "      <td>7.0</td>\n",
       "      <td>9.0</td>\n",
       "    </tr>\n",
       "  </tbody>\n",
       "</table>\n",
       "</div>"
      ],
      "text/plain": [
       "                      count           mean           std     min       25%  \\\n",
       "km                   4835.0  140966.371251  60220.786757   -64.0  102870.0   \n",
       "potencia             4836.0     128.995037     39.011169     0.0     100.0   \n",
       "dias_venta_registro  4837.0    1984.244780    927.767134   215.0    1489.0   \n",
       "fecha_registro_año   4837.0    2012.466405      2.528326  1990.0    2012.0   \n",
       "fecha_registro_mes   4837.0       6.129419      3.316281     1.0       3.0   \n",
       "fecha_venta_mes      4837.0       4.929502      2.157419     1.0       3.0   \n",
       "\n",
       "                          50%       75%        max  \n",
       "km                   141068.0  175243.5  1000376.0  \n",
       "potencia                120.0     135.0      423.0  \n",
       "dias_venta_registro    1765.0    2130.0    10258.0  \n",
       "fecha_registro_año     2013.0    2014.0     2017.0  \n",
       "fecha_registro_mes        6.0       9.0       12.0  \n",
       "fecha_venta_mes           5.0       7.0        9.0  "
      ]
     },
     "execution_count": 47,
     "metadata": {},
     "output_type": "execute_result"
    }
   ],
   "source": [
    "# Se podría plantear la eliminiación de la variablefecha_venta_año por poca varianza\n",
    "format_df[glob_list_num].describe().T"
   ]
  },
  {
   "cell_type": "code",
   "execution_count": 48,
   "metadata": {},
   "outputs": [],
   "source": [
    "# Función para plottear la relación entre las variables numéricas\n",
    "def round_up(num, div):\n",
    "    return num // div + (num % div > 0)\n",
    "\n",
    "def relacion_num_target(df, num_vars, target):\n",
    "    plt.subplots(figsize = (20, 30))\n",
    "    for i, column in enumerate(num_vars):\n",
    "        plt.subplot(round_up(len(num_vars), 2), 2, i + 1)\n",
    "        sns.scatterplot(data = df[[column, target]], x = column, y = target)\n",
    "        plt.title(f'Relación entre {column} y {target}')\n",
    "    plt.show()"
   ]
  },
  {
   "cell_type": "code",
   "execution_count": 49,
   "metadata": {},
   "outputs": [
    {
     "data": {
      "image/png": "[encoded data removed]",
      "text/plain": [
       "<Figure size 1440x2160 with 6 Axes>"
      ]
     },
     "metadata": {},
     "output_type": "display_data"
    }
   ],
   "source": [
    "# Variables que parecen ser buenas predictoras: km, potencia, dias entre venta y registro y año de registro\n",
    "relacion_num_target(format_df, glob_list_num, target)"
   ]
  },
  {
   "cell_type": "code",
   "execution_count": 50,
   "metadata": {},
   "outputs": [
    {
     "data": {
      "text/html": [
       "<style  type=\"text/css\" >\n",
       "#T_bc278_row0_col0,#T_bc278_row1_col1,#T_bc278_row2_col2,#T_bc278_row3_col3,#T_bc278_row4_col4,#T_bc278_row5_col5,#T_bc278_row6_col6{\n",
       "            background-color:  #b40426;\n",
       "            color:  #f1f1f1;\n",
       "        }#T_bc278_row0_col1,#T_bc278_row2_col4{\n",
       "            background-color:  #4358cb;\n",
       "            color:  #f1f1f1;\n",
       "        }#T_bc278_row0_col2,#T_bc278_row1_col6{\n",
       "            background-color:  #f4987a;\n",
       "            color:  #000000;\n",
       "        }#T_bc278_row0_col3{\n",
       "            background-color:  #8badfd;\n",
       "            color:  #000000;\n",
       "        }#T_bc278_row0_col4,#T_bc278_row0_col5,#T_bc278_row5_col4{\n",
       "            background-color:  #4961d2;\n",
       "            color:  #f1f1f1;\n",
       "        }#T_bc278_row0_col6,#T_bc278_row1_col5{\n",
       "            background-color:  #4257c9;\n",
       "            color:  #f1f1f1;\n",
       "        }#T_bc278_row1_col0{\n",
       "            background-color:  #9fbfff;\n",
       "            color:  #000000;\n",
       "        }#T_bc278_row1_col2{\n",
       "            background-color:  #d1dae9;\n",
       "            color:  #000000;\n",
       "        }#T_bc278_row1_col3{\n",
       "            background-color:  #e7d7ce;\n",
       "            color:  #000000;\n",
       "        }#T_bc278_row1_col4,#T_bc278_row6_col0,#T_bc278_row6_col5{\n",
       "            background-color:  #4e68d8;\n",
       "            color:  #000000;\n",
       "        }#T_bc278_row2_col0{\n",
       "            background-color:  #f7b599;\n",
       "            color:  #000000;\n",
       "        }#T_bc278_row2_col1,#T_bc278_row2_col3,#T_bc278_row2_col6,#T_bc278_row3_col0,#T_bc278_row3_col2,#T_bc278_row3_col4,#T_bc278_row3_col5{\n",
       "            background-color:  #3b4cc0;\n",
       "            color:  #f1f1f1;\n",
       "        }#T_bc278_row2_col5{\n",
       "            background-color:  #7093f3;\n",
       "            color:  #000000;\n",
       "        }#T_bc278_row3_col1{\n",
       "            background-color:  #6b8df0;\n",
       "            color:  #000000;\n",
       "        }#T_bc278_row3_col6{\n",
       "            background-color:  #f4c6af;\n",
       "            color:  #000000;\n",
       "        }#T_bc278_row4_col0{\n",
       "            background-color:  #a7c5fe;\n",
       "            color:  #000000;\n",
       "        }#T_bc278_row4_col1{\n",
       "            background-color:  #516ddb;\n",
       "            color:  #000000;\n",
       "        }#T_bc278_row4_col2{\n",
       "            background-color:  #d7dce3;\n",
       "            color:  #000000;\n",
       "        }#T_bc278_row4_col3{\n",
       "            background-color:  #d3dbe7;\n",
       "            color:  #000000;\n",
       "        }#T_bc278_row4_col5{\n",
       "            background-color:  #445acc;\n",
       "            color:  #f1f1f1;\n",
       "        }#T_bc278_row4_col6{\n",
       "            background-color:  #9ebeff;\n",
       "            color:  #000000;\n",
       "        }#T_bc278_row5_col0{\n",
       "            background-color:  #abc8fd;\n",
       "            color:  #000000;\n",
       "        }#T_bc278_row5_col1,#T_bc278_row6_col4{\n",
       "            background-color:  #4a63d3;\n",
       "            color:  #f1f1f1;\n",
       "        }#T_bc278_row5_col2{\n",
       "            background-color:  #ebd3c6;\n",
       "            color:  #000000;\n",
       "        }#T_bc278_row5_col3{\n",
       "            background-color:  #d5dbe5;\n",
       "            color:  #000000;\n",
       "        }#T_bc278_row5_col6{\n",
       "            background-color:  #a5c3fe;\n",
       "            color:  #000000;\n",
       "        }#T_bc278_row6_col1{\n",
       "            background-color:  #f7b89c;\n",
       "            color:  #000000;\n",
       "        }#T_bc278_row6_col2{\n",
       "            background-color:  #96b7ff;\n",
       "            color:  #000000;\n",
       "        }#T_bc278_row6_col3{\n",
       "            background-color:  #f6a385;\n",
       "            color:  #000000;\n",
       "        }</style><table id=\"T_bc278_\" ><thead>    <tr>        <th class=\"blank level0\" ></th>        <th class=\"col_heading level0 col0\" >km</th>        <th class=\"col_heading level0 col1\" >potencia</th>        <th class=\"col_heading level0 col2\" >dias_venta_registro</th>        <th class=\"col_heading level0 col3\" >fecha_registro_año</th>        <th class=\"col_heading level0 col4\" >fecha_registro_mes</th>        <th class=\"col_heading level0 col5\" >fecha_venta_mes</th>        <th class=\"col_heading level0 col6\" >precio</th>    </tr></thead><tbody>\n",
       "                <tr>\n",
       "                        <th id=\"T_bc278_level0_row0\" class=\"row_heading level0 row0\" >km</th>\n",
       "                        <td id=\"T_bc278_row0_col0\" class=\"data row0 col0\" >1.000000</td>\n",
       "                        <td id=\"T_bc278_row0_col1\" class=\"data row0 col1\" >-0.050539</td>\n",
       "                        <td id=\"T_bc278_row0_col2\" class=\"data row0 col2\" >0.507026</td>\n",
       "                        <td id=\"T_bc278_row0_col3\" class=\"data row0 col3\" >-0.507520</td>\n",
       "                        <td id=\"T_bc278_row0_col4\" class=\"data row0 col4\" >-0.017273</td>\n",
       "                        <td id=\"T_bc278_row0_col5\" class=\"data row0 col5\" >-0.000166</td>\n",
       "                        <td id=\"T_bc278_row0_col6\" class=\"data row0 col6\" >-0.410189</td>\n",
       "            </tr>\n",
       "            <tr>\n",
       "                        <th id=\"T_bc278_level0_row1\" class=\"row_heading level0 row1\" >potencia</th>\n",
       "                        <td id=\"T_bc278_row1_col0\" class=\"data row1 col0\" >-0.050539</td>\n",
       "                        <td id=\"T_bc278_row1_col1\" class=\"data row1 col1\" >1.000000</td>\n",
       "                        <td id=\"T_bc278_row1_col2\" class=\"data row1 col2\" >-0.084138</td>\n",
       "                        <td id=\"T_bc278_row1_col3\" class=\"data row1 col3\" >0.082588</td>\n",
       "                        <td id=\"T_bc278_row1_col4\" class=\"data row1 col4\" >-0.000582</td>\n",
       "                        <td id=\"T_bc278_row1_col5\" class=\"data row1 col5\" >-0.028549</td>\n",
       "                        <td id=\"T_bc278_row1_col6\" class=\"data row1 col6\" >0.639254</td>\n",
       "            </tr>\n",
       "            <tr>\n",
       "                        <th id=\"T_bc278_level0_row2\" class=\"row_heading level0 row2\" >dias_venta_registro</th>\n",
       "                        <td id=\"T_bc278_row2_col0\" class=\"data row2 col0\" >0.507026</td>\n",
       "                        <td id=\"T_bc278_row2_col1\" class=\"data row2 col1\" >-0.084138</td>\n",
       "                        <td id=\"T_bc278_row2_col2\" class=\"data row2 col2\" >1.000000</td>\n",
       "                        <td id=\"T_bc278_row2_col3\" class=\"data row2 col3\" >-0.991441</td>\n",
       "                        <td id=\"T_bc278_row2_col4\" class=\"data row2 col4\" >-0.039718</td>\n",
       "                        <td id=\"T_bc278_row2_col5\" class=\"data row2 col5\" >0.125388</td>\n",
       "                        <td id=\"T_bc278_row2_col6\" class=\"data row2 col6\" >-0.445520</td>\n",
       "            </tr>\n",
       "            <tr>\n",
       "                        <th id=\"T_bc278_level0_row3\" class=\"row_heading level0 row3\" >fecha_registro_año</th>\n",
       "                        <td id=\"T_bc278_row3_col0\" class=\"data row3 col0\" >-0.507520</td>\n",
       "                        <td id=\"T_bc278_row3_col1\" class=\"data row3 col1\" >0.082588</td>\n",
       "                        <td id=\"T_bc278_row3_col2\" class=\"data row3 col2\" >-0.991441</td>\n",
       "                        <td id=\"T_bc278_row3_col3\" class=\"data row3 col3\" >1.000000</td>\n",
       "                        <td id=\"T_bc278_row3_col4\" class=\"data row3 col4\" >-0.070533</td>\n",
       "                        <td id=\"T_bc278_row3_col5\" class=\"data row3 col5\" >-0.053299</td>\n",
       "                        <td id=\"T_bc278_row3_col6\" class=\"data row3 col6\" >0.450314</td>\n",
       "            </tr>\n",
       "            <tr>\n",
       "                        <th id=\"T_bc278_level0_row4\" class=\"row_heading level0 row4\" >fecha_registro_mes</th>\n",
       "                        <td id=\"T_bc278_row4_col0\" class=\"data row4 col0\" >-0.017273</td>\n",
       "                        <td id=\"T_bc278_row4_col1\" class=\"data row4 col1\" >-0.000582</td>\n",
       "                        <td id=\"T_bc278_row4_col2\" class=\"data row4 col2\" >-0.039718</td>\n",
       "                        <td id=\"T_bc278_row4_col3\" class=\"data row4 col3\" >-0.070533</td>\n",
       "                        <td id=\"T_bc278_row4_col4\" class=\"data row4 col4\" >1.000000</td>\n",
       "                        <td id=\"T_bc278_row4_col5\" class=\"data row4 col5\" >-0.016384</td>\n",
       "                        <td id=\"T_bc278_row4_col6\" class=\"data row4 col6\" >-0.016071</td>\n",
       "            </tr>\n",
       "            <tr>\n",
       "                        <th id=\"T_bc278_level0_row5\" class=\"row_heading level0 row5\" >fecha_venta_mes</th>\n",
       "                        <td id=\"T_bc278_row5_col0\" class=\"data row5 col0\" >-0.000166</td>\n",
       "                        <td id=\"T_bc278_row5_col1\" class=\"data row5 col1\" >-0.028549</td>\n",
       "                        <td id=\"T_bc278_row5_col2\" class=\"data row5 col2\" >0.125388</td>\n",
       "                        <td id=\"T_bc278_row5_col3\" class=\"data row5 col3\" >-0.053299</td>\n",
       "                        <td id=\"T_bc278_row5_col4\" class=\"data row5 col4\" >-0.016384</td>\n",
       "                        <td id=\"T_bc278_row5_col5\" class=\"data row5 col5\" >1.000000</td>\n",
       "                        <td id=\"T_bc278_row5_col6\" class=\"data row5 col6\" >0.012825</td>\n",
       "            </tr>\n",
       "            <tr>\n",
       "                        <th id=\"T_bc278_level0_row6\" class=\"row_heading level0 row6\" >precio</th>\n",
       "                        <td id=\"T_bc278_row6_col0\" class=\"data row6 col0\" >-0.410189</td>\n",
       "                        <td id=\"T_bc278_row6_col1\" class=\"data row6 col1\" >0.639254</td>\n",
       "                        <td id=\"T_bc278_row6_col2\" class=\"data row6 col2\" >-0.445520</td>\n",
       "                        <td id=\"T_bc278_row6_col3\" class=\"data row6 col3\" >0.450314</td>\n",
       "                        <td id=\"T_bc278_row6_col4\" class=\"data row6 col4\" >-0.016071</td>\n",
       "                        <td id=\"T_bc278_row6_col5\" class=\"data row6 col5\" >0.012825</td>\n",
       "                        <td id=\"T_bc278_row6_col6\" class=\"data row6 col6\" >1.000000</td>\n",
       "            </tr>\n",
       "    </tbody></table>"
      ],
      "text/plain": [
       "<pandas.io.formats.style.Styler at 0x22f1d2e1ee0>"
      ]
     },
     "execution_count": 50,
     "metadata": {},
     "output_type": "execute_result"
    }
   ],
   "source": [
    "# Con la matriz de correlación podemos determinar lo dicho anteriormente:\n",
    "format_df[glob_list_num + [target]].corr().style.background_gradient('coolwarm')"
   ]
  },
  {
   "cell_type": "markdown",
   "metadata": {},
   "source": [
    "En primer lugar, se confirma con la matriz de correlación que las variables más relacionadas con el target son:\n",
    "\n",
    "- km\n",
    "- potencia\n",
    "- dias_venta_registro\n",
    "- fecha_registro_años\n",
    "\n",
    "Además, se puede visualizar la relación entre atributos numéricos. Destaca lo siguiente:\n",
    "\n",
    "- km está relacionado con dias_venta_registro. Tiene sentido ya que se intuye que el coche estará más usado si han pasado más días entre los días de venta y registro.\n",
    "- La variable dias_venta_registro está altamente correlacionada con fecha_registro_año. Esta última se eliminará en la parte de limpieza de datos\n",
    "\n",
    "Adicionalmente, en caso de aplicar un modelo de regresión lineal, probablemente ayudaría a aplicar el logaritmo a dias_venta_registro, ya que parece tener cierta relación no lineal. Tambíen se podrían transformar los nulos a 0, ya que son solo 4 valores y no tiene mucho sentido que sea negativo"
   ]
  },
  {
   "cell_type": "markdown",
   "metadata": {},
   "source": [
    "#### Data cleaning"
   ]
  },
  {
   "cell_type": "code",
   "execution_count": 51,
   "metadata": {},
   "outputs": [],
   "source": [
    "# Se elimina la columna de fecha_registro_año. La de fecha_venta_año se mantiene\n",
    "format_df.drop(columns = 'fecha_registro_año', inplace = True)"
   ]
  },
  {
   "cell_type": "code",
   "execution_count": 52,
   "metadata": {},
   "outputs": [],
   "source": [
    "# Se recalcula la lista de numéricas\n",
    "glob_list_num = list(format_df.describe().drop(columns = target).columns)"
   ]
  },
  {
   "cell_type": "code",
   "execution_count": 53,
   "metadata": {},
   "outputs": [
    {
     "data": {
      "text/plain": [
       "km                     2\n",
       "potencia               1\n",
       "dias_venta_registro    0\n",
       "fecha_registro_mes     0\n",
       "fecha_venta_mes        0\n",
       "dtype: int64"
      ]
     },
     "execution_count": 53,
     "metadata": {},
     "output_type": "execute_result"
    }
   ],
   "source": [
    "# Se tienen valores nulos en km y potencia\n",
    "format_df[glob_list_num].isnull().sum()"
   ]
  },
  {
   "cell_type": "code",
   "execution_count": 54,
   "metadata": {},
   "outputs": [],
   "source": [
    "# Se asigna el kilometraje del coche en función de los días entre venta y registro mediante un modelo lineal\n",
    "# Anteriormente ya se ha visto que están correlacionadas\n",
    "train_sample_km = format_df[['dias_venta_registro', 'km']].dropna()\n",
    "model_km = LinearRegression()\n",
    "model_km.fit(np.array(train_sample_km['dias_venta_registro']).reshape(-1, 1), np.array(train_sample_km['km']))\n",
    "null_values = format_df[format_df['km'].isnull()].index\n",
    "format_df.loc[null_values, 'km'] = model_km.predict(np.array(format_df.loc[null_values, 'dias_venta_registro']).reshape(-1, 1))"
   ]
  },
  {
   "cell_type": "code",
   "execution_count": 55,
   "metadata": {},
   "outputs": [
    {
     "data": {
      "text/html": [
       "<div>\n",
       "<style scoped>\n",
       "    .dataframe tbody tr th:only-of-type {\n",
       "        vertical-align: middle;\n",
       "    }\n",
       "\n",
       "    .dataframe tbody tr th {\n",
       "        vertical-align: top;\n",
       "    }\n",
       "\n",
       "    .dataframe thead th {\n",
       "        text-align: right;\n",
       "    }\n",
       "</style>\n",
       "<table border=\"1\" class=\"dataframe\">\n",
       "  <thead>\n",
       "    <tr style=\"text-align: right;\">\n",
       "      <th></th>\n",
       "      <th>modelo</th>\n",
       "      <th>km</th>\n",
       "      <th>potencia</th>\n",
       "      <th>tipo_gasolina</th>\n",
       "      <th>color</th>\n",
       "      <th>tipo_coche</th>\n",
       "      <th>volante_regulable</th>\n",
       "      <th>aire_acondicionado</th>\n",
       "      <th>camara_trasera</th>\n",
       "      <th>asientos_traseros_plegables</th>\n",
       "      <th>elevalunas_electrico</th>\n",
       "      <th>bluetooth</th>\n",
       "      <th>gps</th>\n",
       "      <th>alerta_lim_velocidad</th>\n",
       "      <th>precio</th>\n",
       "      <th>dias_venta_registro</th>\n",
       "      <th>fecha_registro_mes</th>\n",
       "      <th>fecha_venta_mes</th>\n",
       "    </tr>\n",
       "  </thead>\n",
       "  <tbody>\n",
       "    <tr>\n",
       "      <th>180</th>\n",
       "      <td>525</td>\n",
       "      <td>106054.0</td>\n",
       "      <td>NaN</td>\n",
       "      <td>diesel</td>\n",
       "      <td>black</td>\n",
       "      <td>estate</td>\n",
       "      <td>False</td>\n",
       "      <td>True</td>\n",
       "      <td>False</td>\n",
       "      <td>False</td>\n",
       "      <td>False</td>\n",
       "      <td>False</td>\n",
       "      <td>True</td>\n",
       "      <td>True</td>\n",
       "      <td>18700.0</td>\n",
       "      <td>1400</td>\n",
       "      <td>5</td>\n",
       "      <td>3</td>\n",
       "    </tr>\n",
       "  </tbody>\n",
       "</table>\n",
       "</div>"
      ],
      "text/plain": [
       "    modelo        km  potencia tipo_gasolina  color tipo_coche  \\\n",
       "180    525  106054.0       NaN        diesel  black     estate   \n",
       "\n",
       "    volante_regulable aire_acondicionado camara_trasera  \\\n",
       "180             False               True          False   \n",
       "\n",
       "    asientos_traseros_plegables elevalunas_electrico bluetooth   gps  \\\n",
       "180                       False                False     False  True   \n",
       "\n",
       "    alerta_lim_velocidad   precio  dias_venta_registro  fecha_registro_mes  \\\n",
       "180                 True  18700.0                 1400                   5   \n",
       "\n",
       "     fecha_venta_mes  \n",
       "180                3  "
      ]
     },
     "execution_count": 55,
     "metadata": {},
     "output_type": "execute_result"
    }
   ],
   "source": [
    "# Se asigna la potencia restante del coche a partir del modelo y el tipo de gasolina\n",
    "format_df[format_df['potencia'].isnull()]"
   ]
  },
  {
   "cell_type": "code",
   "execution_count": 56,
   "metadata": {},
   "outputs": [],
   "source": [
    "diesel_525 = format_df.groupby(['modelo', 'tipo_gasolina']).get_group(('525', 'diesel'))"
   ]
  },
  {
   "cell_type": "code",
   "execution_count": 57,
   "metadata": {},
   "outputs": [
    {
     "data": {
      "text/plain": [
       "count    180.000000\n",
       "mean     150.805556\n",
       "std       15.661966\n",
       "min       85.000000\n",
       "25%      150.000000\n",
       "50%      155.000000\n",
       "75%      160.000000\n",
       "max      160.000000\n",
       "Name: potencia, dtype: float64"
      ]
     },
     "execution_count": 57,
     "metadata": {},
     "output_type": "execute_result"
    }
   ],
   "source": [
    "diesel_525['potencia'].describe()"
   ]
  },
  {
   "cell_type": "code",
   "execution_count": 58,
   "metadata": {},
   "outputs": [],
   "source": [
    "# Se decide asignar la potencia media de este subgrupo\n",
    "format_df['potencia'].fillna(round(diesel_525['potencia'].mean(), 0), inplace = True)"
   ]
  },
  {
   "cell_type": "code",
   "execution_count": 59,
   "metadata": {},
   "outputs": [
    {
     "data": {
      "text/html": [
       "<div>\n",
       "<style scoped>\n",
       "    .dataframe tbody tr th:only-of-type {\n",
       "        vertical-align: middle;\n",
       "    }\n",
       "\n",
       "    .dataframe tbody tr th {\n",
       "        vertical-align: top;\n",
       "    }\n",
       "\n",
       "    .dataframe thead th {\n",
       "        text-align: right;\n",
       "    }\n",
       "</style>\n",
       "<table border=\"1\" class=\"dataframe\">\n",
       "  <thead>\n",
       "    <tr style=\"text-align: right;\">\n",
       "      <th></th>\n",
       "      <th>modelo</th>\n",
       "      <th>km</th>\n",
       "      <th>potencia</th>\n",
       "      <th>tipo_gasolina</th>\n",
       "      <th>color</th>\n",
       "      <th>tipo_coche</th>\n",
       "      <th>volante_regulable</th>\n",
       "      <th>aire_acondicionado</th>\n",
       "      <th>camara_trasera</th>\n",
       "      <th>asientos_traseros_plegables</th>\n",
       "      <th>elevalunas_electrico</th>\n",
       "      <th>bluetooth</th>\n",
       "      <th>gps</th>\n",
       "      <th>alerta_lim_velocidad</th>\n",
       "      <th>precio</th>\n",
       "      <th>dias_venta_registro</th>\n",
       "      <th>fecha_registro_mes</th>\n",
       "      <th>fecha_venta_mes</th>\n",
       "    </tr>\n",
       "  </thead>\n",
       "  <tbody>\n",
       "    <tr>\n",
       "      <th>3759</th>\n",
       "      <td>X1</td>\n",
       "      <td>81770.0</td>\n",
       "      <td>0.0</td>\n",
       "      <td>diesel</td>\n",
       "      <td>white</td>\n",
       "      <td>suv</td>\n",
       "      <td>False</td>\n",
       "      <td>False</td>\n",
       "      <td>False</td>\n",
       "      <td>False</td>\n",
       "      <td>False</td>\n",
       "      <td>False</td>\n",
       "      <td>False</td>\n",
       "      <td>False</td>\n",
       "      <td>11700.0</td>\n",
       "      <td>1247</td>\n",
       "      <td>10</td>\n",
       "      <td>3</td>\n",
       "    </tr>\n",
       "  </tbody>\n",
       "</table>\n",
       "</div>"
      ],
      "text/plain": [
       "     modelo       km  potencia tipo_gasolina  color tipo_coche  \\\n",
       "3759     X1  81770.0       0.0        diesel  white        suv   \n",
       "\n",
       "     volante_regulable aire_acondicionado camara_trasera  \\\n",
       "3759             False              False          False   \n",
       "\n",
       "     asientos_traseros_plegables elevalunas_electrico bluetooth    gps  \\\n",
       "3759                       False                False     False  False   \n",
       "\n",
       "     alerta_lim_velocidad   precio  dias_venta_registro  fecha_registro_mes  \\\n",
       "3759                False  11700.0                 1247                  10   \n",
       "\n",
       "      fecha_venta_mes  \n",
       "3759                3  "
      ]
     },
     "execution_count": 59,
     "metadata": {},
     "output_type": "execute_result"
    }
   ],
   "source": [
    "# También se detecta un coche con potencia 0, cosa quee es imposible\n",
    "format_df[format_df['potencia'] == 0]"
   ]
  },
  {
   "cell_type": "code",
   "execution_count": 60,
   "metadata": {},
   "outputs": [],
   "source": [
    "# Se sigue el mismo procedimiento\n",
    "diesel_x1 = format_df.groupby(['modelo', 'tipo_gasolina']).get_group(('X1', 'diesel'))"
   ]
  },
  {
   "cell_type": "code",
   "execution_count": 61,
   "metadata": {},
   "outputs": [
    {
     "data": {
      "text/plain": [
       "count    272.000000\n",
       "mean     109.768382\n",
       "std       19.012950\n",
       "min        0.000000\n",
       "25%      100.000000\n",
       "50%      105.000000\n",
       "75%      120.000000\n",
       "max      160.000000\n",
       "Name: potencia, dtype: float64"
      ]
     },
     "execution_count": 61,
     "metadata": {},
     "output_type": "execute_result"
    }
   ],
   "source": [
    "diesel_x1['potencia'].describe()"
   ]
  },
  {
   "cell_type": "code",
   "execution_count": 62,
   "metadata": {},
   "outputs": [],
   "source": [
    "format_df.loc[3759, 'potencia'] = round(diesel_x1['potencia'].mean(), 0)"
   ]
  },
  {
   "cell_type": "code",
   "execution_count": 63,
   "metadata": {},
   "outputs": [
    {
     "data": {
      "text/html": [
       "<div>\n",
       "<style scoped>\n",
       "    .dataframe tbody tr th:only-of-type {\n",
       "        vertical-align: middle;\n",
       "    }\n",
       "\n",
       "    .dataframe tbody tr th {\n",
       "        vertical-align: top;\n",
       "    }\n",
       "\n",
       "    .dataframe thead th {\n",
       "        text-align: right;\n",
       "    }\n",
       "</style>\n",
       "<table border=\"1\" class=\"dataframe\">\n",
       "  <thead>\n",
       "    <tr style=\"text-align: right;\">\n",
       "      <th></th>\n",
       "      <th>modelo</th>\n",
       "      <th>km</th>\n",
       "      <th>potencia</th>\n",
       "      <th>tipo_gasolina</th>\n",
       "      <th>color</th>\n",
       "      <th>tipo_coche</th>\n",
       "      <th>volante_regulable</th>\n",
       "      <th>aire_acondicionado</th>\n",
       "      <th>camara_trasera</th>\n",
       "      <th>asientos_traseros_plegables</th>\n",
       "      <th>elevalunas_electrico</th>\n",
       "      <th>bluetooth</th>\n",
       "      <th>gps</th>\n",
       "      <th>alerta_lim_velocidad</th>\n",
       "      <th>precio</th>\n",
       "      <th>dias_venta_registro</th>\n",
       "      <th>fecha_registro_mes</th>\n",
       "      <th>fecha_venta_mes</th>\n",
       "    </tr>\n",
       "  </thead>\n",
       "  <tbody>\n",
       "    <tr>\n",
       "      <th>2932</th>\n",
       "      <td>640 Gran Coupé</td>\n",
       "      <td>-64.0</td>\n",
       "      <td>230.0</td>\n",
       "      <td>diesel</td>\n",
       "      <td>black</td>\n",
       "      <td>sedan</td>\n",
       "      <td>True</td>\n",
       "      <td>True</td>\n",
       "      <td>False</td>\n",
       "      <td>True</td>\n",
       "      <td>False</td>\n",
       "      <td>False</td>\n",
       "      <td>True</td>\n",
       "      <td>True</td>\n",
       "      <td>75000.0</td>\n",
       "      <td>396</td>\n",
       "      <td>3</td>\n",
       "      <td>4</td>\n",
       "    </tr>\n",
       "  </tbody>\n",
       "</table>\n",
       "</div>"
      ],
      "text/plain": [
       "              modelo    km  potencia tipo_gasolina  color tipo_coche  \\\n",
       "2932  640 Gran Coupé -64.0     230.0        diesel  black      sedan   \n",
       "\n",
       "     volante_regulable aire_acondicionado camara_trasera  \\\n",
       "2932              True               True          False   \n",
       "\n",
       "     asientos_traseros_plegables elevalunas_electrico bluetooth   gps  \\\n",
       "2932                        True                False     False  True   \n",
       "\n",
       "     alerta_lim_velocidad   precio  dias_venta_registro  fecha_registro_mes  \\\n",
       "2932                 True  75000.0                  396                   3   \n",
       "\n",
       "      fecha_venta_mes  \n",
       "2932                4  "
      ]
     },
     "execution_count": 63,
     "metadata": {},
     "output_type": "execute_result"
    }
   ],
   "source": [
    "# En el caso de los km, existen coches con kilometraje negativo, cosa que también es imposible\n",
    "format_df[format_df['km'] <= 0]"
   ]
  },
  {
   "cell_type": "code",
   "execution_count": 64,
   "metadata": {},
   "outputs": [],
   "source": [
    "# El coche en cuestión tiene muy pocos días entre venta y registro, por lo que se le asignará el valor mínimo de km\n",
    "# del dataset excluyendo este negativo\n",
    "idx_km_neg = format_df[format_df['km'] <= 0].index\n",
    "format_df.loc[idx_km_neg, 'km'] = format_df['km'].drop(idx_km_neg).min()"
   ]
  },
  {
   "cell_type": "code",
   "execution_count": 65,
   "metadata": {},
   "outputs": [
    {
     "data": {
      "text/html": [
       "<div>\n",
       "<style scoped>\n",
       "    .dataframe tbody tr th:only-of-type {\n",
       "        vertical-align: middle;\n",
       "    }\n",
       "\n",
       "    .dataframe tbody tr th {\n",
       "        vertical-align: top;\n",
       "    }\n",
       "\n",
       "    .dataframe thead th {\n",
       "        text-align: right;\n",
       "    }\n",
       "</style>\n",
       "<table border=\"1\" class=\"dataframe\">\n",
       "  <thead>\n",
       "    <tr style=\"text-align: right;\">\n",
       "      <th></th>\n",
       "      <th>modelo</th>\n",
       "      <th>km</th>\n",
       "      <th>potencia</th>\n",
       "      <th>tipo_gasolina</th>\n",
       "      <th>color</th>\n",
       "      <th>tipo_coche</th>\n",
       "      <th>volante_regulable</th>\n",
       "      <th>aire_acondicionado</th>\n",
       "      <th>camara_trasera</th>\n",
       "      <th>asientos_traseros_plegables</th>\n",
       "      <th>elevalunas_electrico</th>\n",
       "      <th>bluetooth</th>\n",
       "      <th>gps</th>\n",
       "      <th>alerta_lim_velocidad</th>\n",
       "      <th>precio</th>\n",
       "      <th>dias_venta_registro</th>\n",
       "      <th>fecha_registro_mes</th>\n",
       "      <th>fecha_venta_mes</th>\n",
       "    </tr>\n",
       "  </thead>\n",
       "  <tbody>\n",
       "    <tr>\n",
       "      <th>0</th>\n",
       "      <td>118</td>\n",
       "      <td>140411.0</td>\n",
       "      <td>100.0</td>\n",
       "      <td>diesel</td>\n",
       "      <td>black</td>\n",
       "      <td>convertible</td>\n",
       "      <td>True</td>\n",
       "      <td>True</td>\n",
       "      <td>False</td>\n",
       "      <td>False</td>\n",
       "      <td>True</td>\n",
       "      <td>True</td>\n",
       "      <td>True</td>\n",
       "      <td>False</td>\n",
       "      <td>11300.0</td>\n",
       "      <td>2161</td>\n",
       "      <td>2</td>\n",
       "      <td>1</td>\n",
       "    </tr>\n",
       "    <tr>\n",
       "      <th>1</th>\n",
       "      <td>M4</td>\n",
       "      <td>13929.0</td>\n",
       "      <td>317.0</td>\n",
       "      <td>petrol</td>\n",
       "      <td>grey</td>\n",
       "      <td>convertible</td>\n",
       "      <td>True</td>\n",
       "      <td>True</td>\n",
       "      <td>False</td>\n",
       "      <td>False</td>\n",
       "      <td>False</td>\n",
       "      <td>True</td>\n",
       "      <td>True</td>\n",
       "      <td>True</td>\n",
       "      <td>69700.0</td>\n",
       "      <td>671</td>\n",
       "      <td>4</td>\n",
       "      <td>2</td>\n",
       "    </tr>\n",
       "    <tr>\n",
       "      <th>2</th>\n",
       "      <td>320</td>\n",
       "      <td>183297.0</td>\n",
       "      <td>120.0</td>\n",
       "      <td>diesel</td>\n",
       "      <td>white</td>\n",
       "      <td>convertible</td>\n",
       "      <td>False</td>\n",
       "      <td>False</td>\n",
       "      <td>False</td>\n",
       "      <td>False</td>\n",
       "      <td>True</td>\n",
       "      <td>False</td>\n",
       "      <td>True</td>\n",
       "      <td>False</td>\n",
       "      <td>10200.0</td>\n",
       "      <td>2132</td>\n",
       "      <td>4</td>\n",
       "      <td>2</td>\n",
       "    </tr>\n",
       "    <tr>\n",
       "      <th>3</th>\n",
       "      <td>420</td>\n",
       "      <td>128035.0</td>\n",
       "      <td>135.0</td>\n",
       "      <td>diesel</td>\n",
       "      <td>red</td>\n",
       "      <td>convertible</td>\n",
       "      <td>True</td>\n",
       "      <td>True</td>\n",
       "      <td>False</td>\n",
       "      <td>False</td>\n",
       "      <td>True</td>\n",
       "      <td>True</td>\n",
       "      <td>True</td>\n",
       "      <td>True</td>\n",
       "      <td>25100.0</td>\n",
       "      <td>1311</td>\n",
       "      <td>7</td>\n",
       "      <td>2</td>\n",
       "    </tr>\n",
       "    <tr>\n",
       "      <th>4</th>\n",
       "      <td>425</td>\n",
       "      <td>97097.0</td>\n",
       "      <td>160.0</td>\n",
       "      <td>diesel</td>\n",
       "      <td>silver</td>\n",
       "      <td>convertible</td>\n",
       "      <td>True</td>\n",
       "      <td>True</td>\n",
       "      <td>False</td>\n",
       "      <td>False</td>\n",
       "      <td>False</td>\n",
       "      <td>True</td>\n",
       "      <td>True</td>\n",
       "      <td>True</td>\n",
       "      <td>33400.0</td>\n",
       "      <td>1217</td>\n",
       "      <td>12</td>\n",
       "      <td>4</td>\n",
       "    </tr>\n",
       "  </tbody>\n",
       "</table>\n",
       "</div>"
      ],
      "text/plain": [
       "  modelo        km  potencia tipo_gasolina   color   tipo_coche  \\\n",
       "0    118  140411.0     100.0        diesel   black  convertible   \n",
       "1     M4   13929.0     317.0        petrol    grey  convertible   \n",
       "2    320  183297.0     120.0        diesel   white  convertible   \n",
       "3    420  128035.0     135.0        diesel     red  convertible   \n",
       "4    425   97097.0     160.0        diesel  silver  convertible   \n",
       "\n",
       "  volante_regulable aire_acondicionado camara_trasera  \\\n",
       "0              True               True          False   \n",
       "1              True               True          False   \n",
       "2             False              False          False   \n",
       "3              True               True          False   \n",
       "4              True               True          False   \n",
       "\n",
       "  asientos_traseros_plegables elevalunas_electrico bluetooth   gps  \\\n",
       "0                       False                 True      True  True   \n",
       "1                       False                False      True  True   \n",
       "2                       False                 True     False  True   \n",
       "3                       False                 True      True  True   \n",
       "4                       False                False      True  True   \n",
       "\n",
       "  alerta_lim_velocidad   precio  dias_venta_registro  fecha_registro_mes  \\\n",
       "0                False  11300.0                 2161                   2   \n",
       "1                 True  69700.0                  671                   4   \n",
       "2                False  10200.0                 2132                   4   \n",
       "3                 True  25100.0                 1311                   7   \n",
       "4                 True  33400.0                 1217                  12   \n",
       "\n",
       "   fecha_venta_mes  \n",
       "0                1  \n",
       "1                2  \n",
       "2                2  \n",
       "3                2  \n",
       "4                4  "
      ]
     },
     "execution_count": 65,
     "metadata": {},
     "output_type": "execute_result"
    }
   ],
   "source": [
    "format_df.head()"
   ]
  },
  {
   "cell_type": "code",
   "execution_count": 66,
   "metadata": {},
   "outputs": [
    {
     "data": {
      "text/plain": [
       "km                     0\n",
       "potencia               0\n",
       "dias_venta_registro    0\n",
       "fecha_registro_mes     0\n",
       "fecha_venta_mes        0\n",
       "dtype: int64"
      ]
     },
     "execution_count": 66,
     "metadata": {},
     "output_type": "execute_result"
    }
   ],
   "source": [
    "format_df[glob_list_num].isnull().sum()"
   ]
  },
  {
   "cell_type": "markdown",
   "metadata": {},
   "source": [
    "### Columnas categóricas"
   ]
  },
  {
   "cell_type": "markdown",
   "metadata": {},
   "source": [
    "#### EDA"
   ]
  },
  {
   "cell_type": "code",
   "execution_count": 67,
   "metadata": {},
   "outputs": [],
   "source": [
    "glob_list_bool = [column for column in format_df.columns if format_df[column].nunique() == 2]"
   ]
  },
  {
   "cell_type": "code",
   "execution_count": 68,
   "metadata": {},
   "outputs": [
    {
     "data": {
      "text/html": [
       "<div>\n",
       "<style scoped>\n",
       "    .dataframe tbody tr th:only-of-type {\n",
       "        vertical-align: middle;\n",
       "    }\n",
       "\n",
       "    .dataframe tbody tr th {\n",
       "        vertical-align: top;\n",
       "    }\n",
       "\n",
       "    .dataframe thead th {\n",
       "        text-align: right;\n",
       "    }\n",
       "</style>\n",
       "<table border=\"1\" class=\"dataframe\">\n",
       "  <thead>\n",
       "    <tr style=\"text-align: right;\">\n",
       "      <th></th>\n",
       "      <th>True</th>\n",
       "      <th>False</th>\n",
       "    </tr>\n",
       "  </thead>\n",
       "  <tbody>\n",
       "    <tr>\n",
       "      <th>volante_regulable</th>\n",
       "      <td>0.549969</td>\n",
       "      <td>0.450031</td>\n",
       "    </tr>\n",
       "    <tr>\n",
       "      <th>aire_acondicionado</th>\n",
       "      <td>0.792554</td>\n",
       "      <td>0.207446</td>\n",
       "    </tr>\n",
       "    <tr>\n",
       "      <th>camara_trasera</th>\n",
       "      <td>0.201448</td>\n",
       "      <td>0.798552</td>\n",
       "    </tr>\n",
       "    <tr>\n",
       "      <th>asientos_traseros_plegables</th>\n",
       "      <td>0.199048</td>\n",
       "      <td>0.800952</td>\n",
       "    </tr>\n",
       "    <tr>\n",
       "      <th>elevalunas_electrico</th>\n",
       "      <td>0.460393</td>\n",
       "      <td>0.539607</td>\n",
       "    </tr>\n",
       "    <tr>\n",
       "      <th>bluetooth</th>\n",
       "      <td>0.241465</td>\n",
       "      <td>0.758535</td>\n",
       "    </tr>\n",
       "    <tr>\n",
       "      <th>gps</th>\n",
       "      <td>0.931983</td>\n",
       "      <td>0.068017</td>\n",
       "    </tr>\n",
       "    <tr>\n",
       "      <th>alerta_lim_velocidad</th>\n",
       "      <td>0.540848</td>\n",
       "      <td>0.459152</td>\n",
       "    </tr>\n",
       "  </tbody>\n",
       "</table>\n",
       "</div>"
      ],
      "text/plain": [
       "                                True      False\n",
       "volante_regulable            0.549969  0.450031\n",
       "aire_acondicionado           0.792554  0.207446\n",
       "camara_trasera               0.201448  0.798552\n",
       "asientos_traseros_plegables  0.199048  0.800952\n",
       "elevalunas_electrico         0.460393  0.539607\n",
       "bluetooth                    0.241465  0.758535\n",
       "gps                          0.931983  0.068017\n",
       "alerta_lim_velocidad         0.540848  0.459152"
      ]
     },
     "execution_count": 68,
     "metadata": {},
     "output_type": "execute_result"
    }
   ],
   "source": [
    "# Proporción de cada variable booleana. Pocos coches sin bluetooth. El resto no está muy desbalanceado\n",
    "bool_prop_list = []\n",
    "for column in glob_list_bool:\n",
    "    bool_prop_list.append(format_df[column].value_counts(normalize = True))\n",
    "pd.DataFrame(bool_prop_list)"
   ]
  },
  {
   "cell_type": "code",
   "execution_count": 69,
   "metadata": {},
   "outputs": [],
   "source": [
    "def violinplot_bool(df, bool_vars, target):\n",
    "    plt.subplots(figsize = (20, 30))\n",
    "    for i, column in enumerate(bool_vars):\n",
    "        plt.subplot(round_up(len(bool_vars), 2), 2, i + 1)\n",
    "        sns.violinplot(data = df[[column, target]], x = column, y = target)\n",
    "        plt.title(f'Relación entre {column} y {target}')\n",
    "    plt.show()"
   ]
  },
  {
   "cell_type": "code",
   "execution_count": 70,
   "metadata": {},
   "outputs": [
    {
     "data": {
      "image/png": "[encoded data removed]",
      "text/plain": [
       "<Figure size 1440x2160 with 8 Axes>"
      ]
     },
     "metadata": {},
     "output_type": "display_data"
    }
   ],
   "source": [
    "violinplot_bool(format_df, glob_list_bool, target)"
   ]
  },
  {
   "cell_type": "markdown",
   "metadata": {},
   "source": [
    "En todos los casos excepto en la variable gps, si el atributo está en True, es decir, si se dispone de este accesorio, el precio parece ser un poco superior, lo cual es totalmente lógico (a más extras, más caro!).\n",
    "\n",
    "Los que parecen tener más impacto son:\n",
    "\n",
    "- camara_trasera\n",
    "- asientos_traseros_plegables\n",
    "- aleta_lim_velocidad\n",
    "\n",
    "En el caso del gps, puede ser que no se vea mucha diferencia entre tenerlo o no porque se disponen de pocas muestras que no lo tengan."
   ]
  },
  {
   "cell_type": "code",
   "execution_count": 71,
   "metadata": {},
   "outputs": [],
   "source": [
    "# Resto de variables categóricas\n",
    "glob_list_cat = list(set(format_df.describe(include = 'O').columns) - set(glob_list_bool))"
   ]
  },
  {
   "cell_type": "code",
   "execution_count": 72,
   "metadata": {},
   "outputs": [],
   "source": [
    "# Para las categóricas con pocas categorías, se visualizan datos interesantes\n",
    "def report_cat(df, cat_var, target):\n",
    "    '''\n",
    "    Se hace un report de la variable categórica con información interesante, \n",
    "    los nulos se agrupan bajo la etiqueta Other\n",
    "    '''\n",
    "    df_copy = df[cat_var + [target]].copy()\n",
    "\n",
    "    for column in cat_var:\n",
    "\n",
    "        if df_copy[column].nunique() > 11:\n",
    "            less_freq_cat = df_copy[column].value_counts().iloc[10:].index\n",
    "            df_copy[column] = df_copy[column].apply(lambda x: 'others' if x in less_freq_cat else x)\n",
    "\n",
    "        report_df = df_copy[[column, target]].pivot_table(values = target, index = column, aggfunc = [len, np.mean,])\n",
    "        report_df.columns = [x[0] + ' ' + x[1] for x in report_df.columns]\n",
    "\n",
    "        report_df[f'proportion {target}'] = report_df[f'len {target}'] / report_df[f'len {target}'].sum() * 100 \n",
    "        report_df = report_df[[f'len {target}', f'proportion {target}', f'mean {target}']]\n",
    "        \n",
    "        display(report_df.round(2).sort_values(by = f'mean {target}', ascending = False))"
   ]
  },
  {
   "cell_type": "code",
   "execution_count": 73,
   "metadata": {},
   "outputs": [
    {
     "data": {
      "text/html": [
       "<div>\n",
       "<style scoped>\n",
       "    .dataframe tbody tr th:only-of-type {\n",
       "        vertical-align: middle;\n",
       "    }\n",
       "\n",
       "    .dataframe tbody tr th {\n",
       "        vertical-align: top;\n",
       "    }\n",
       "\n",
       "    .dataframe thead th {\n",
       "        text-align: right;\n",
       "    }\n",
       "</style>\n",
       "<table border=\"1\" class=\"dataframe\">\n",
       "  <thead>\n",
       "    <tr style=\"text-align: right;\">\n",
       "      <th></th>\n",
       "      <th>len precio</th>\n",
       "      <th>proportion precio</th>\n",
       "      <th>mean precio</th>\n",
       "    </tr>\n",
       "    <tr>\n",
       "      <th>tipo_gasolina</th>\n",
       "      <th></th>\n",
       "      <th></th>\n",
       "      <th></th>\n",
       "    </tr>\n",
       "  </thead>\n",
       "  <tbody>\n",
       "    <tr>\n",
       "      <th>hybrid_petrol</th>\n",
       "      <td>8.0</td>\n",
       "      <td>0.17</td>\n",
       "      <td>37575.00</td>\n",
       "    </tr>\n",
       "    <tr>\n",
       "      <th>electro</th>\n",
       "      <td>3.0</td>\n",
       "      <td>0.06</td>\n",
       "      <td>20966.67</td>\n",
       "    </tr>\n",
       "    <tr>\n",
       "      <th>diesel</th>\n",
       "      <td>4625.0</td>\n",
       "      <td>95.72</td>\n",
       "      <td>15859.26</td>\n",
       "    </tr>\n",
       "    <tr>\n",
       "      <th>petrol</th>\n",
       "      <td>191.0</td>\n",
       "      <td>3.95</td>\n",
       "      <td>14398.43</td>\n",
       "    </tr>\n",
       "    <tr>\n",
       "      <th>Diesel</th>\n",
       "      <td>5.0</td>\n",
       "      <td>0.10</td>\n",
       "      <td>13960.00</td>\n",
       "    </tr>\n",
       "  </tbody>\n",
       "</table>\n",
       "</div>"
      ],
      "text/plain": [
       "               len precio  proportion precio  mean precio\n",
       "tipo_gasolina                                            \n",
       "hybrid_petrol         8.0               0.17     37575.00\n",
       "electro               3.0               0.06     20966.67\n",
       "diesel             4625.0              95.72     15859.26\n",
       "petrol              191.0               3.95     14398.43\n",
       "Diesel                5.0               0.10     13960.00"
      ]
     },
     "metadata": {},
     "output_type": "display_data"
    },
    {
     "data": {
      "text/html": [
       "<div>\n",
       "<style scoped>\n",
       "    .dataframe tbody tr th:only-of-type {\n",
       "        vertical-align: middle;\n",
       "    }\n",
       "\n",
       "    .dataframe tbody tr th {\n",
       "        vertical-align: top;\n",
       "    }\n",
       "\n",
       "    .dataframe thead th {\n",
       "        text-align: right;\n",
       "    }\n",
       "</style>\n",
       "<table border=\"1\" class=\"dataframe\">\n",
       "  <thead>\n",
       "    <tr style=\"text-align: right;\">\n",
       "      <th></th>\n",
       "      <th>len precio</th>\n",
       "      <th>proportion precio</th>\n",
       "      <th>mean precio</th>\n",
       "    </tr>\n",
       "    <tr>\n",
       "      <th>color</th>\n",
       "      <th></th>\n",
       "      <th></th>\n",
       "      <th></th>\n",
       "    </tr>\n",
       "  </thead>\n",
       "  <tbody>\n",
       "    <tr>\n",
       "      <th>orange</th>\n",
       "      <td>6.0</td>\n",
       "      <td>0.12</td>\n",
       "      <td>18866.67</td>\n",
       "    </tr>\n",
       "    <tr>\n",
       "      <th>white</th>\n",
       "      <td>536.0</td>\n",
       "      <td>11.11</td>\n",
       "      <td>17314.37</td>\n",
       "    </tr>\n",
       "    <tr>\n",
       "      <th>red</th>\n",
       "      <td>51.0</td>\n",
       "      <td>1.06</td>\n",
       "      <td>16568.63</td>\n",
       "    </tr>\n",
       "    <tr>\n",
       "      <th>black</th>\n",
       "      <td>1631.0</td>\n",
       "      <td>33.80</td>\n",
       "      <td>16178.48</td>\n",
       "    </tr>\n",
       "    <tr>\n",
       "      <th>beige</th>\n",
       "      <td>41.0</td>\n",
       "      <td>0.85</td>\n",
       "      <td>15817.07</td>\n",
       "    </tr>\n",
       "    <tr>\n",
       "      <th>grey</th>\n",
       "      <td>1170.0</td>\n",
       "      <td>24.25</td>\n",
       "      <td>15619.91</td>\n",
       "    </tr>\n",
       "    <tr>\n",
       "      <th>brown</th>\n",
       "      <td>341.0</td>\n",
       "      <td>7.07</td>\n",
       "      <td>15367.74</td>\n",
       "    </tr>\n",
       "    <tr>\n",
       "      <th>blue</th>\n",
       "      <td>704.0</td>\n",
       "      <td>14.59</td>\n",
       "      <td>15137.78</td>\n",
       "    </tr>\n",
       "    <tr>\n",
       "      <th>silver</th>\n",
       "      <td>327.0</td>\n",
       "      <td>6.78</td>\n",
       "      <td>14826.30</td>\n",
       "    </tr>\n",
       "    <tr>\n",
       "      <th>green</th>\n",
       "      <td>18.0</td>\n",
       "      <td>0.37</td>\n",
       "      <td>7200.00</td>\n",
       "    </tr>\n",
       "  </tbody>\n",
       "</table>\n",
       "</div>"
      ],
      "text/plain": [
       "        len precio  proportion precio  mean precio\n",
       "color                                             \n",
       "orange         6.0               0.12     18866.67\n",
       "white        536.0              11.11     17314.37\n",
       "red           51.0               1.06     16568.63\n",
       "black       1631.0              33.80     16178.48\n",
       "beige         41.0               0.85     15817.07\n",
       "grey        1170.0              24.25     15619.91\n",
       "brown        341.0               7.07     15367.74\n",
       "blue         704.0              14.59     15137.78\n",
       "silver       327.0               6.78     14826.30\n",
       "green         18.0               0.37      7200.00"
      ]
     },
     "metadata": {},
     "output_type": "display_data"
    },
    {
     "data": {
      "text/html": [
       "<div>\n",
       "<style scoped>\n",
       "    .dataframe tbody tr th:only-of-type {\n",
       "        vertical-align: middle;\n",
       "    }\n",
       "\n",
       "    .dataframe tbody tr th {\n",
       "        vertical-align: top;\n",
       "    }\n",
       "\n",
       "    .dataframe thead th {\n",
       "        text-align: right;\n",
       "    }\n",
       "</style>\n",
       "<table border=\"1\" class=\"dataframe\">\n",
       "  <thead>\n",
       "    <tr style=\"text-align: right;\">\n",
       "      <th></th>\n",
       "      <th>len precio</th>\n",
       "      <th>proportion precio</th>\n",
       "      <th>mean precio</th>\n",
       "    </tr>\n",
       "    <tr>\n",
       "      <th>tipo_coche</th>\n",
       "      <th></th>\n",
       "      <th></th>\n",
       "      <th></th>\n",
       "    </tr>\n",
       "  </thead>\n",
       "  <tbody>\n",
       "    <tr>\n",
       "      <th>coupe</th>\n",
       "      <td>103.0</td>\n",
       "      <td>2.13</td>\n",
       "      <td>22169.90</td>\n",
       "    </tr>\n",
       "    <tr>\n",
       "      <th>suv</th>\n",
       "      <td>1057.0</td>\n",
       "      <td>21.89</td>\n",
       "      <td>21500.47</td>\n",
       "    </tr>\n",
       "    <tr>\n",
       "      <th>convertible</th>\n",
       "      <td>47.0</td>\n",
       "      <td>0.97</td>\n",
       "      <td>17136.17</td>\n",
       "    </tr>\n",
       "    <tr>\n",
       "      <th>sedan</th>\n",
       "      <td>1167.0</td>\n",
       "      <td>24.17</td>\n",
       "      <td>16021.94</td>\n",
       "    </tr>\n",
       "    <tr>\n",
       "      <th>van</th>\n",
       "      <td>43.0</td>\n",
       "      <td>0.89</td>\n",
       "      <td>14323.26</td>\n",
       "    </tr>\n",
       "    <tr>\n",
       "      <th>hatchback</th>\n",
       "      <td>699.0</td>\n",
       "      <td>14.48</td>\n",
       "      <td>13289.41</td>\n",
       "    </tr>\n",
       "    <tr>\n",
       "      <th>estate</th>\n",
       "      <td>1599.0</td>\n",
       "      <td>33.12</td>\n",
       "      <td>13126.33</td>\n",
       "    </tr>\n",
       "    <tr>\n",
       "      <th>subcompact</th>\n",
       "      <td>113.0</td>\n",
       "      <td>2.34</td>\n",
       "      <td>9687.61</td>\n",
       "    </tr>\n",
       "  </tbody>\n",
       "</table>\n",
       "</div>"
      ],
      "text/plain": [
       "             len precio  proportion precio  mean precio\n",
       "tipo_coche                                             \n",
       "coupe             103.0               2.13     22169.90\n",
       "suv              1057.0              21.89     21500.47\n",
       "convertible        47.0               0.97     17136.17\n",
       "sedan            1167.0              24.17     16021.94\n",
       "van                43.0               0.89     14323.26\n",
       "hatchback         699.0              14.48     13289.41\n",
       "estate           1599.0              33.12     13126.33\n",
       "subcompact        113.0               2.34      9687.61"
      ]
     },
     "metadata": {},
     "output_type": "display_data"
    },
    {
     "data": {
      "text/html": [
       "<div>\n",
       "<style scoped>\n",
       "    .dataframe tbody tr th:only-of-type {\n",
       "        vertical-align: middle;\n",
       "    }\n",
       "\n",
       "    .dataframe tbody tr th {\n",
       "        vertical-align: top;\n",
       "    }\n",
       "\n",
       "    .dataframe thead th {\n",
       "        text-align: right;\n",
       "    }\n",
       "</style>\n",
       "<table border=\"1\" class=\"dataframe\">\n",
       "  <thead>\n",
       "    <tr style=\"text-align: right;\">\n",
       "      <th></th>\n",
       "      <th>len precio</th>\n",
       "      <th>proportion precio</th>\n",
       "      <th>mean precio</th>\n",
       "    </tr>\n",
       "    <tr>\n",
       "      <th>modelo</th>\n",
       "      <th></th>\n",
       "      <th></th>\n",
       "      <th></th>\n",
       "    </tr>\n",
       "  </thead>\n",
       "  <tbody>\n",
       "    <tr>\n",
       "      <th>X5</th>\n",
       "      <td>231.0</td>\n",
       "      <td>4.78</td>\n",
       "      <td>30570.13</td>\n",
       "    </tr>\n",
       "    <tr>\n",
       "      <th>others</th>\n",
       "      <td>1009.0</td>\n",
       "      <td>20.87</td>\n",
       "      <td>20753.72</td>\n",
       "    </tr>\n",
       "    <tr>\n",
       "      <th>530</th>\n",
       "      <td>157.0</td>\n",
       "      <td>3.25</td>\n",
       "      <td>19826.11</td>\n",
       "    </tr>\n",
       "    <tr>\n",
       "      <th>X3</th>\n",
       "      <td>438.0</td>\n",
       "      <td>9.06</td>\n",
       "      <td>18175.80</td>\n",
       "    </tr>\n",
       "    <tr>\n",
       "      <th>520</th>\n",
       "      <td>632.0</td>\n",
       "      <td>13.07</td>\n",
       "      <td>15713.29</td>\n",
       "    </tr>\n",
       "    <tr>\n",
       "      <th>525</th>\n",
       "      <td>184.0</td>\n",
       "      <td>3.81</td>\n",
       "      <td>15363.04</td>\n",
       "    </tr>\n",
       "    <tr>\n",
       "      <th>X1</th>\n",
       "      <td>274.0</td>\n",
       "      <td>5.67</td>\n",
       "      <td>12691.97</td>\n",
       "    </tr>\n",
       "    <tr>\n",
       "      <th>320</th>\n",
       "      <td>750.0</td>\n",
       "      <td>15.52</td>\n",
       "      <td>12173.07</td>\n",
       "    </tr>\n",
       "    <tr>\n",
       "      <th>318</th>\n",
       "      <td>567.0</td>\n",
       "      <td>11.73</td>\n",
       "      <td>10982.19</td>\n",
       "    </tr>\n",
       "    <tr>\n",
       "      <th>316</th>\n",
       "      <td>234.0</td>\n",
       "      <td>4.84</td>\n",
       "      <td>10367.95</td>\n",
       "    </tr>\n",
       "    <tr>\n",
       "      <th>116</th>\n",
       "      <td>358.0</td>\n",
       "      <td>7.41</td>\n",
       "      <td>9653.91</td>\n",
       "    </tr>\n",
       "  </tbody>\n",
       "</table>\n",
       "</div>"
      ],
      "text/plain": [
       "        len precio  proportion precio  mean precio\n",
       "modelo                                            \n",
       "X5           231.0               4.78     30570.13\n",
       "others      1009.0              20.87     20753.72\n",
       "530          157.0               3.25     19826.11\n",
       "X3           438.0               9.06     18175.80\n",
       "520          632.0              13.07     15713.29\n",
       "525          184.0               3.81     15363.04\n",
       "X1           274.0               5.67     12691.97\n",
       "320          750.0              15.52     12173.07\n",
       "318          567.0              11.73     10982.19\n",
       "316          234.0               4.84     10367.95\n",
       "116          358.0               7.41      9653.91"
      ]
     },
     "metadata": {},
     "output_type": "display_data"
    }
   ],
   "source": [
    "report_cat(format_df, glob_list_cat, target)"
   ]
  },
  {
   "cell_type": "code",
   "execution_count": 74,
   "metadata": {},
   "outputs": [],
   "source": [
    "# Se detecta que existen coches diesel con la primera letra en mayúscula, hecho que ensucia la muestra. Para arreglarlo:\n",
    "format_df['tipo_gasolina'] = format_df['tipo_gasolina'].str.lower()"
   ]
  },
  {
   "cell_type": "code",
   "execution_count": 75,
   "metadata": {},
   "outputs": [
    {
     "data": {
      "text/plain": [
       "array(['diesel', 'petrol', nan, 'hybrid_petrol', 'electro'], dtype=object)"
      ]
     },
     "execution_count": 75,
     "metadata": {},
     "output_type": "execute_result"
    }
   ],
   "source": [
    "format_df['tipo_gasolina'].unique()"
   ]
  },
  {
   "cell_type": "code",
   "execution_count": 76,
   "metadata": {},
   "outputs": [
    {
     "data": {
      "text/html": [
       "<div>\n",
       "<style scoped>\n",
       "    .dataframe tbody tr th:only-of-type {\n",
       "        vertical-align: middle;\n",
       "    }\n",
       "\n",
       "    .dataframe tbody tr th {\n",
       "        vertical-align: top;\n",
       "    }\n",
       "\n",
       "    .dataframe thead th {\n",
       "        text-align: right;\n",
       "    }\n",
       "</style>\n",
       "<table border=\"1\" class=\"dataframe\">\n",
       "  <thead>\n",
       "    <tr style=\"text-align: right;\">\n",
       "      <th></th>\n",
       "      <th>len precio</th>\n",
       "      <th>proportion precio</th>\n",
       "      <th>mean precio</th>\n",
       "    </tr>\n",
       "    <tr>\n",
       "      <th>tipo_gasolina</th>\n",
       "      <th></th>\n",
       "      <th></th>\n",
       "      <th></th>\n",
       "    </tr>\n",
       "  </thead>\n",
       "  <tbody>\n",
       "    <tr>\n",
       "      <th>hybrid_petrol</th>\n",
       "      <td>8.0</td>\n",
       "      <td>0.17</td>\n",
       "      <td>37575.00</td>\n",
       "    </tr>\n",
       "    <tr>\n",
       "      <th>electro</th>\n",
       "      <td>3.0</td>\n",
       "      <td>0.06</td>\n",
       "      <td>20966.67</td>\n",
       "    </tr>\n",
       "    <tr>\n",
       "      <th>diesel</th>\n",
       "      <td>4630.0</td>\n",
       "      <td>95.82</td>\n",
       "      <td>15857.21</td>\n",
       "    </tr>\n",
       "    <tr>\n",
       "      <th>petrol</th>\n",
       "      <td>191.0</td>\n",
       "      <td>3.95</td>\n",
       "      <td>14398.43</td>\n",
       "    </tr>\n",
       "  </tbody>\n",
       "</table>\n",
       "</div>"
      ],
      "text/plain": [
       "               len precio  proportion precio  mean precio\n",
       "tipo_gasolina                                            \n",
       "hybrid_petrol         8.0               0.17     37575.00\n",
       "electro               3.0               0.06     20966.67\n",
       "diesel             4630.0              95.82     15857.21\n",
       "petrol              191.0               3.95     14398.43"
      ]
     },
     "metadata": {},
     "output_type": "display_data"
    },
    {
     "data": {
      "text/html": [
       "<div>\n",
       "<style scoped>\n",
       "    .dataframe tbody tr th:only-of-type {\n",
       "        vertical-align: middle;\n",
       "    }\n",
       "\n",
       "    .dataframe tbody tr th {\n",
       "        vertical-align: top;\n",
       "    }\n",
       "\n",
       "    .dataframe thead th {\n",
       "        text-align: right;\n",
       "    }\n",
       "</style>\n",
       "<table border=\"1\" class=\"dataframe\">\n",
       "  <thead>\n",
       "    <tr style=\"text-align: right;\">\n",
       "      <th></th>\n",
       "      <th>len precio</th>\n",
       "      <th>proportion precio</th>\n",
       "      <th>mean precio</th>\n",
       "    </tr>\n",
       "    <tr>\n",
       "      <th>color</th>\n",
       "      <th></th>\n",
       "      <th></th>\n",
       "      <th></th>\n",
       "    </tr>\n",
       "  </thead>\n",
       "  <tbody>\n",
       "    <tr>\n",
       "      <th>orange</th>\n",
       "      <td>6.0</td>\n",
       "      <td>0.12</td>\n",
       "      <td>18866.67</td>\n",
       "    </tr>\n",
       "    <tr>\n",
       "      <th>white</th>\n",
       "      <td>536.0</td>\n",
       "      <td>11.11</td>\n",
       "      <td>17314.37</td>\n",
       "    </tr>\n",
       "    <tr>\n",
       "      <th>red</th>\n",
       "      <td>51.0</td>\n",
       "      <td>1.06</td>\n",
       "      <td>16568.63</td>\n",
       "    </tr>\n",
       "    <tr>\n",
       "      <th>black</th>\n",
       "      <td>1631.0</td>\n",
       "      <td>33.80</td>\n",
       "      <td>16178.48</td>\n",
       "    </tr>\n",
       "    <tr>\n",
       "      <th>beige</th>\n",
       "      <td>41.0</td>\n",
       "      <td>0.85</td>\n",
       "      <td>15817.07</td>\n",
       "    </tr>\n",
       "    <tr>\n",
       "      <th>grey</th>\n",
       "      <td>1170.0</td>\n",
       "      <td>24.25</td>\n",
       "      <td>15619.91</td>\n",
       "    </tr>\n",
       "    <tr>\n",
       "      <th>brown</th>\n",
       "      <td>341.0</td>\n",
       "      <td>7.07</td>\n",
       "      <td>15367.74</td>\n",
       "    </tr>\n",
       "    <tr>\n",
       "      <th>blue</th>\n",
       "      <td>704.0</td>\n",
       "      <td>14.59</td>\n",
       "      <td>15137.78</td>\n",
       "    </tr>\n",
       "    <tr>\n",
       "      <th>silver</th>\n",
       "      <td>327.0</td>\n",
       "      <td>6.78</td>\n",
       "      <td>14826.30</td>\n",
       "    </tr>\n",
       "    <tr>\n",
       "      <th>green</th>\n",
       "      <td>18.0</td>\n",
       "      <td>0.37</td>\n",
       "      <td>7200.00</td>\n",
       "    </tr>\n",
       "  </tbody>\n",
       "</table>\n",
       "</div>"
      ],
      "text/plain": [
       "        len precio  proportion precio  mean precio\n",
       "color                                             \n",
       "orange         6.0               0.12     18866.67\n",
       "white        536.0              11.11     17314.37\n",
       "red           51.0               1.06     16568.63\n",
       "black       1631.0              33.80     16178.48\n",
       "beige         41.0               0.85     15817.07\n",
       "grey        1170.0              24.25     15619.91\n",
       "brown        341.0               7.07     15367.74\n",
       "blue         704.0              14.59     15137.78\n",
       "silver       327.0               6.78     14826.30\n",
       "green         18.0               0.37      7200.00"
      ]
     },
     "metadata": {},
     "output_type": "display_data"
    },
    {
     "data": {
      "text/html": [
       "<div>\n",
       "<style scoped>\n",
       "    .dataframe tbody tr th:only-of-type {\n",
       "        vertical-align: middle;\n",
       "    }\n",
       "\n",
       "    .dataframe tbody tr th {\n",
       "        vertical-align: top;\n",
       "    }\n",
       "\n",
       "    .dataframe thead th {\n",
       "        text-align: right;\n",
       "    }\n",
       "</style>\n",
       "<table border=\"1\" class=\"dataframe\">\n",
       "  <thead>\n",
       "    <tr style=\"text-align: right;\">\n",
       "      <th></th>\n",
       "      <th>len precio</th>\n",
       "      <th>proportion precio</th>\n",
       "      <th>mean precio</th>\n",
       "    </tr>\n",
       "    <tr>\n",
       "      <th>tipo_coche</th>\n",
       "      <th></th>\n",
       "      <th></th>\n",
       "      <th></th>\n",
       "    </tr>\n",
       "  </thead>\n",
       "  <tbody>\n",
       "    <tr>\n",
       "      <th>coupe</th>\n",
       "      <td>103.0</td>\n",
       "      <td>2.13</td>\n",
       "      <td>22169.90</td>\n",
       "    </tr>\n",
       "    <tr>\n",
       "      <th>suv</th>\n",
       "      <td>1057.0</td>\n",
       "      <td>21.89</td>\n",
       "      <td>21500.47</td>\n",
       "    </tr>\n",
       "    <tr>\n",
       "      <th>convertible</th>\n",
       "      <td>47.0</td>\n",
       "      <td>0.97</td>\n",
       "      <td>17136.17</td>\n",
       "    </tr>\n",
       "    <tr>\n",
       "      <th>sedan</th>\n",
       "      <td>1167.0</td>\n",
       "      <td>24.17</td>\n",
       "      <td>16021.94</td>\n",
       "    </tr>\n",
       "    <tr>\n",
       "      <th>van</th>\n",
       "      <td>43.0</td>\n",
       "      <td>0.89</td>\n",
       "      <td>14323.26</td>\n",
       "    </tr>\n",
       "    <tr>\n",
       "      <th>hatchback</th>\n",
       "      <td>699.0</td>\n",
       "      <td>14.48</td>\n",
       "      <td>13289.41</td>\n",
       "    </tr>\n",
       "    <tr>\n",
       "      <th>estate</th>\n",
       "      <td>1599.0</td>\n",
       "      <td>33.12</td>\n",
       "      <td>13126.33</td>\n",
       "    </tr>\n",
       "    <tr>\n",
       "      <th>subcompact</th>\n",
       "      <td>113.0</td>\n",
       "      <td>2.34</td>\n",
       "      <td>9687.61</td>\n",
       "    </tr>\n",
       "  </tbody>\n",
       "</table>\n",
       "</div>"
      ],
      "text/plain": [
       "             len precio  proportion precio  mean precio\n",
       "tipo_coche                                             \n",
       "coupe             103.0               2.13     22169.90\n",
       "suv              1057.0              21.89     21500.47\n",
       "convertible        47.0               0.97     17136.17\n",
       "sedan            1167.0              24.17     16021.94\n",
       "van                43.0               0.89     14323.26\n",
       "hatchback         699.0              14.48     13289.41\n",
       "estate           1599.0              33.12     13126.33\n",
       "subcompact        113.0               2.34      9687.61"
      ]
     },
     "metadata": {},
     "output_type": "display_data"
    },
    {
     "data": {
      "text/html": [
       "<div>\n",
       "<style scoped>\n",
       "    .dataframe tbody tr th:only-of-type {\n",
       "        vertical-align: middle;\n",
       "    }\n",
       "\n",
       "    .dataframe tbody tr th {\n",
       "        vertical-align: top;\n",
       "    }\n",
       "\n",
       "    .dataframe thead th {\n",
       "        text-align: right;\n",
       "    }\n",
       "</style>\n",
       "<table border=\"1\" class=\"dataframe\">\n",
       "  <thead>\n",
       "    <tr style=\"text-align: right;\">\n",
       "      <th></th>\n",
       "      <th>len precio</th>\n",
       "      <th>proportion precio</th>\n",
       "      <th>mean precio</th>\n",
       "    </tr>\n",
       "    <tr>\n",
       "      <th>modelo</th>\n",
       "      <th></th>\n",
       "      <th></th>\n",
       "      <th></th>\n",
       "    </tr>\n",
       "  </thead>\n",
       "  <tbody>\n",
       "    <tr>\n",
       "      <th>X5</th>\n",
       "      <td>231.0</td>\n",
       "      <td>4.78</td>\n",
       "      <td>30570.13</td>\n",
       "    </tr>\n",
       "    <tr>\n",
       "      <th>others</th>\n",
       "      <td>1009.0</td>\n",
       "      <td>20.87</td>\n",
       "      <td>20753.72</td>\n",
       "    </tr>\n",
       "    <tr>\n",
       "      <th>530</th>\n",
       "      <td>157.0</td>\n",
       "      <td>3.25</td>\n",
       "      <td>19826.11</td>\n",
       "    </tr>\n",
       "    <tr>\n",
       "      <th>X3</th>\n",
       "      <td>438.0</td>\n",
       "      <td>9.06</td>\n",
       "      <td>18175.80</td>\n",
       "    </tr>\n",
       "    <tr>\n",
       "      <th>520</th>\n",
       "      <td>632.0</td>\n",
       "      <td>13.07</td>\n",
       "      <td>15713.29</td>\n",
       "    </tr>\n",
       "    <tr>\n",
       "      <th>525</th>\n",
       "      <td>184.0</td>\n",
       "      <td>3.81</td>\n",
       "      <td>15363.04</td>\n",
       "    </tr>\n",
       "    <tr>\n",
       "      <th>X1</th>\n",
       "      <td>274.0</td>\n",
       "      <td>5.67</td>\n",
       "      <td>12691.97</td>\n",
       "    </tr>\n",
       "    <tr>\n",
       "      <th>320</th>\n",
       "      <td>750.0</td>\n",
       "      <td>15.52</td>\n",
       "      <td>12173.07</td>\n",
       "    </tr>\n",
       "    <tr>\n",
       "      <th>318</th>\n",
       "      <td>567.0</td>\n",
       "      <td>11.73</td>\n",
       "      <td>10982.19</td>\n",
       "    </tr>\n",
       "    <tr>\n",
       "      <th>316</th>\n",
       "      <td>234.0</td>\n",
       "      <td>4.84</td>\n",
       "      <td>10367.95</td>\n",
       "    </tr>\n",
       "    <tr>\n",
       "      <th>116</th>\n",
       "      <td>358.0</td>\n",
       "      <td>7.41</td>\n",
       "      <td>9653.91</td>\n",
       "    </tr>\n",
       "  </tbody>\n",
       "</table>\n",
       "</div>"
      ],
      "text/plain": [
       "        len precio  proportion precio  mean precio\n",
       "modelo                                            \n",
       "X5           231.0               4.78     30570.13\n",
       "others      1009.0              20.87     20753.72\n",
       "530          157.0               3.25     19826.11\n",
       "X3           438.0               9.06     18175.80\n",
       "520          632.0              13.07     15713.29\n",
       "525          184.0               3.81     15363.04\n",
       "X1           274.0               5.67     12691.97\n",
       "320          750.0              15.52     12173.07\n",
       "318          567.0              11.73     10982.19\n",
       "316          234.0               4.84     10367.95\n",
       "116          358.0               7.41      9653.91"
      ]
     },
     "metadata": {},
     "output_type": "display_data"
    }
   ],
   "source": [
    "# Análisis básico de cada etiqueta de cada atributo categórico\n",
    "report_cat(format_df, glob_list_cat, target)"
   ]
  },
  {
   "cell_type": "code",
   "execution_count": 77,
   "metadata": {},
   "outputs": [],
   "source": [
    "def boxenplot_cat(df, cat_var, target):\n",
    "    plt.subplots(figsize = (20, 30))\n",
    "    for i, column in enumerate(cat_var):\n",
    "        df_copy = df[[column, target]].copy()\n",
    "        if df_copy[column].nunique() > 11:\n",
    "            less_freq_cat = df_copy[column].value_counts().iloc[10:].index\n",
    "            df_copy[column] = df_copy[column].apply(lambda x: 'others' if x in less_freq_cat else x)\n",
    "        plt.subplot(len(cat_var), 1, i + 1)\n",
    "        sns.boxenplot(data = df_copy, x = column, y = target)\n",
    "        plt.title(f'Relación entre {column} y {target}')\n",
    "    plt.show()"
   ]
  },
  {
   "cell_type": "code",
   "execution_count": 78,
   "metadata": {},
   "outputs": [
    {
     "data": {
      "image/png": "[encoded data removed]",
      "text/plain": [
       "<Figure size 1440x2160 with 4 Axes>"
      ]
     },
     "metadata": {},
     "output_type": "display_data"
    }
   ],
   "source": [
    "boxenplot_cat(format_df, glob_list_cat, target)"
   ]
  },
  {
   "cell_type": "markdown",
   "metadata": {},
   "source": [
    "- tipo_coche: existen bastantes muestras de todos los tipos de coche, sin ninguna etiqueta con claramente pocas observaciones. Parece que los SUVs son el tipo de coche más caro, y los sedan también tiene observaciones con precio alto (parte alta del boxenplot muy estirada). En el casod de los coupé hay más variabilidad (tiene un boxenplot muy cuadrado) pero también tiene un precio bastante elevado (etiqueta con la media del precio más elevada). Finalmente, la etiqueta con un precio más bajo es el sub-compact.\n",
    "\n",
    "- color: hay una etiqueta con un precio claramente más bajo que el resto: es el color verde. El resto de colores no parecen tener diferencias muy claras: si bien es verdad el color naranja tiene una media bastante elevada, tiene muy pocas observaciones (6). El color blanco podría tener una tendencia más a la alza a nivel de precio, pero tampoco es muy claro.\n",
    "\n",
    "- tipo_gasolina: hay claramente muchísimas muestras de diesel. Parece que los coches híbridos tienen un precio más elevado.\n",
    "\n",
    "- modelo: el modelo que claramente es el más caro es el x5. Por contra, el 116 parece ser el más barato. La categoría others parece tenir una gran variabilidad, lo que es comprensible ya que abarca varios modelos distintos."
   ]
  },
  {
   "cell_type": "markdown",
   "metadata": {},
   "source": [
    "#### Data cleaning"
   ]
  },
  {
   "cell_type": "markdown",
   "metadata": {},
   "source": [
    "##### Imputación de nulos"
   ]
  },
  {
   "cell_type": "code",
   "execution_count": 79,
   "metadata": {},
   "outputs": [
    {
     "data": {
      "text/html": [
       "<div>\n",
       "<style scoped>\n",
       "    .dataframe tbody tr th:only-of-type {\n",
       "        vertical-align: middle;\n",
       "    }\n",
       "\n",
       "    .dataframe tbody tr th {\n",
       "        vertical-align: top;\n",
       "    }\n",
       "\n",
       "    .dataframe thead th {\n",
       "        text-align: right;\n",
       "    }\n",
       "</style>\n",
       "<table border=\"1\" class=\"dataframe\">\n",
       "  <thead>\n",
       "    <tr style=\"text-align: right;\">\n",
       "      <th>tipo_coche</th>\n",
       "      <th>convertible</th>\n",
       "      <th>coupe</th>\n",
       "      <th>estate</th>\n",
       "      <th>hatchback</th>\n",
       "      <th>sedan</th>\n",
       "      <th>subcompact</th>\n",
       "      <th>suv</th>\n",
       "      <th>van</th>\n",
       "    </tr>\n",
       "    <tr>\n",
       "      <th>modelo</th>\n",
       "      <th></th>\n",
       "      <th></th>\n",
       "      <th></th>\n",
       "      <th></th>\n",
       "      <th></th>\n",
       "      <th></th>\n",
       "      <th></th>\n",
       "      <th></th>\n",
       "    </tr>\n",
       "  </thead>\n",
       "  <tbody>\n",
       "    <tr>\n",
       "      <th>Active Tourer</th>\n",
       "      <td>0</td>\n",
       "      <td>0</td>\n",
       "      <td>0</td>\n",
       "      <td>0</td>\n",
       "      <td>0</td>\n",
       "      <td>0</td>\n",
       "      <td>0</td>\n",
       "      <td>1</td>\n",
       "    </tr>\n",
       "    <tr>\n",
       "      <th>114</th>\n",
       "      <td>0</td>\n",
       "      <td>0</td>\n",
       "      <td>0</td>\n",
       "      <td>10</td>\n",
       "      <td>0</td>\n",
       "      <td>5</td>\n",
       "      <td>0</td>\n",
       "      <td>0</td>\n",
       "    </tr>\n",
       "    <tr>\n",
       "      <th>116</th>\n",
       "      <td>0</td>\n",
       "      <td>0</td>\n",
       "      <td>2</td>\n",
       "      <td>272</td>\n",
       "      <td>3</td>\n",
       "      <td>79</td>\n",
       "      <td>0</td>\n",
       "      <td>0</td>\n",
       "    </tr>\n",
       "    <tr>\n",
       "      <th>118</th>\n",
       "      <td>3</td>\n",
       "      <td>2</td>\n",
       "      <td>0</td>\n",
       "      <td>108</td>\n",
       "      <td>7</td>\n",
       "      <td>21</td>\n",
       "      <td>0</td>\n",
       "      <td>0</td>\n",
       "    </tr>\n",
       "    <tr>\n",
       "      <th>120</th>\n",
       "      <td>5</td>\n",
       "      <td>2</td>\n",
       "      <td>0</td>\n",
       "      <td>23</td>\n",
       "      <td>3</td>\n",
       "      <td>3</td>\n",
       "      <td>0</td>\n",
       "      <td>0</td>\n",
       "    </tr>\n",
       "    <tr>\n",
       "      <th>123</th>\n",
       "      <td>0</td>\n",
       "      <td>0</td>\n",
       "      <td>0</td>\n",
       "      <td>1</td>\n",
       "      <td>0</td>\n",
       "      <td>1</td>\n",
       "      <td>0</td>\n",
       "      <td>0</td>\n",
       "    </tr>\n",
       "    <tr>\n",
       "      <th>125</th>\n",
       "      <td>0</td>\n",
       "      <td>0</td>\n",
       "      <td>0</td>\n",
       "      <td>5</td>\n",
       "      <td>0</td>\n",
       "      <td>0</td>\n",
       "      <td>0</td>\n",
       "      <td>0</td>\n",
       "    </tr>\n",
       "    <tr>\n",
       "      <th>135</th>\n",
       "      <td>1</td>\n",
       "      <td>1</td>\n",
       "      <td>0</td>\n",
       "      <td>2</td>\n",
       "      <td>0</td>\n",
       "      <td>0</td>\n",
       "      <td>0</td>\n",
       "      <td>0</td>\n",
       "    </tr>\n",
       "    <tr>\n",
       "      <th>214 Gran Tourer</th>\n",
       "      <td>0</td>\n",
       "      <td>0</td>\n",
       "      <td>0</td>\n",
       "      <td>0</td>\n",
       "      <td>0</td>\n",
       "      <td>0</td>\n",
       "      <td>0</td>\n",
       "      <td>1</td>\n",
       "    </tr>\n",
       "    <tr>\n",
       "      <th>216</th>\n",
       "      <td>0</td>\n",
       "      <td>0</td>\n",
       "      <td>0</td>\n",
       "      <td>0</td>\n",
       "      <td>0</td>\n",
       "      <td>0</td>\n",
       "      <td>0</td>\n",
       "      <td>1</td>\n",
       "    </tr>\n",
       "    <tr>\n",
       "      <th>216 Active Tourer</th>\n",
       "      <td>0</td>\n",
       "      <td>0</td>\n",
       "      <td>0</td>\n",
       "      <td>0</td>\n",
       "      <td>0</td>\n",
       "      <td>0</td>\n",
       "      <td>0</td>\n",
       "      <td>3</td>\n",
       "    </tr>\n",
       "    <tr>\n",
       "      <th>216 Gran Tourer</th>\n",
       "      <td>0</td>\n",
       "      <td>0</td>\n",
       "      <td>0</td>\n",
       "      <td>0</td>\n",
       "      <td>0</td>\n",
       "      <td>0</td>\n",
       "      <td>0</td>\n",
       "      <td>4</td>\n",
       "    </tr>\n",
       "    <tr>\n",
       "      <th>218</th>\n",
       "      <td>4</td>\n",
       "      <td>5</td>\n",
       "      <td>0</td>\n",
       "      <td>0</td>\n",
       "      <td>0</td>\n",
       "      <td>0</td>\n",
       "      <td>0</td>\n",
       "      <td>3</td>\n",
       "    </tr>\n",
       "    <tr>\n",
       "      <th>218 Active Tourer</th>\n",
       "      <td>0</td>\n",
       "      <td>0</td>\n",
       "      <td>0</td>\n",
       "      <td>0</td>\n",
       "      <td>0</td>\n",
       "      <td>0</td>\n",
       "      <td>0</td>\n",
       "      <td>13</td>\n",
       "    </tr>\n",
       "    <tr>\n",
       "      <th>218 Gran Tourer</th>\n",
       "      <td>0</td>\n",
       "      <td>0</td>\n",
       "      <td>0</td>\n",
       "      <td>0</td>\n",
       "      <td>0</td>\n",
       "      <td>0</td>\n",
       "      <td>0</td>\n",
       "      <td>9</td>\n",
       "    </tr>\n",
       "    <tr>\n",
       "      <th>220</th>\n",
       "      <td>2</td>\n",
       "      <td>1</td>\n",
       "      <td>0</td>\n",
       "      <td>0</td>\n",
       "      <td>0</td>\n",
       "      <td>0</td>\n",
       "      <td>0</td>\n",
       "      <td>0</td>\n",
       "    </tr>\n",
       "    <tr>\n",
       "      <th>220 Active Tourer</th>\n",
       "      <td>0</td>\n",
       "      <td>0</td>\n",
       "      <td>0</td>\n",
       "      <td>0</td>\n",
       "      <td>0</td>\n",
       "      <td>0</td>\n",
       "      <td>0</td>\n",
       "      <td>1</td>\n",
       "    </tr>\n",
       "    <tr>\n",
       "      <th>225</th>\n",
       "      <td>0</td>\n",
       "      <td>1</td>\n",
       "      <td>0</td>\n",
       "      <td>0</td>\n",
       "      <td>0</td>\n",
       "      <td>0</td>\n",
       "      <td>0</td>\n",
       "      <td>0</td>\n",
       "    </tr>\n",
       "    <tr>\n",
       "      <th>225 Active Tourer</th>\n",
       "      <td>0</td>\n",
       "      <td>0</td>\n",
       "      <td>0</td>\n",
       "      <td>0</td>\n",
       "      <td>0</td>\n",
       "      <td>0</td>\n",
       "      <td>0</td>\n",
       "      <td>1</td>\n",
       "    </tr>\n",
       "    <tr>\n",
       "      <th>316</th>\n",
       "      <td>0</td>\n",
       "      <td>1</td>\n",
       "      <td>112</td>\n",
       "      <td>2</td>\n",
       "      <td>118</td>\n",
       "      <td>0</td>\n",
       "      <td>0</td>\n",
       "      <td>0</td>\n",
       "    </tr>\n",
       "  </tbody>\n",
       "</table>\n",
       "</div>"
      ],
      "text/plain": [
       "tipo_coche         convertible  coupe  estate  hatchback  sedan  subcompact  \\\n",
       "modelo                                                                        \n",
       " Active Tourer               0      0       0          0      0           0   \n",
       "114                          0      0       0         10      0           5   \n",
       "116                          0      0       2        272      3          79   \n",
       "118                          3      2       0        108      7          21   \n",
       "120                          5      2       0         23      3           3   \n",
       "123                          0      0       0          1      0           1   \n",
       "125                          0      0       0          5      0           0   \n",
       "135                          1      1       0          2      0           0   \n",
       "214 Gran Tourer              0      0       0          0      0           0   \n",
       "216                          0      0       0          0      0           0   \n",
       "216 Active Tourer            0      0       0          0      0           0   \n",
       "216 Gran Tourer              0      0       0          0      0           0   \n",
       "218                          4      5       0          0      0           0   \n",
       "218 Active Tourer            0      0       0          0      0           0   \n",
       "218 Gran Tourer              0      0       0          0      0           0   \n",
       "220                          2      1       0          0      0           0   \n",
       "220 Active Tourer            0      0       0          0      0           0   \n",
       "225                          0      1       0          0      0           0   \n",
       "225 Active Tourer            0      0       0          0      0           0   \n",
       "316                          0      1     112          2    118           0   \n",
       "\n",
       "tipo_coche         suv  van  \n",
       "modelo                       \n",
       " Active Tourer       0    1  \n",
       "114                  0    0  \n",
       "116                  0    0  \n",
       "118                  0    0  \n",
       "120                  0    0  \n",
       "123                  0    0  \n",
       "125                  0    0  \n",
       "135                  0    0  \n",
       "214 Gran Tourer      0    1  \n",
       "216                  0    1  \n",
       "216 Active Tourer    0    3  \n",
       "216 Gran Tourer      0    4  \n",
       "218                  0    3  \n",
       "218 Active Tourer    0   13  \n",
       "218 Gran Tourer      0    9  \n",
       "220                  0    0  \n",
       "220 Active Tourer    0    1  \n",
       "225                  0    0  \n",
       "225 Active Tourer    0    1  \n",
       "316                  0    0  "
      ]
     },
     "execution_count": 79,
     "metadata": {},
     "output_type": "execute_result"
    }
   ],
   "source": [
    "# En primer lugar, se intuye una posible correlación entre modelo y tipo_coche\n",
    "pd.crosstab(format_df['modelo'], format_df['tipo_coche']).head(20)"
   ]
  },
  {
   "cell_type": "markdown",
   "metadata": {},
   "source": [
    "En primer lugar se rellenan los nulos de la columna de modelo. Para hacerlo se seguirá el procedimiento siguiente:\n",
    "- Se localiza qué tipo de coche es el coche con el nulo\n",
    "- Se extraen los modelos que entre su recuento de tipo de coches normalizado, el tipo de coche del nulo sea superior al 30%\n",
    "- Una vez se obtienen los modelos, se extrae la potencia media de cada modelo\n",
    "- El modelo que rellenará el nulo será el que tenga una diferencia menor entre la potencia media y la potencia del nulo"
   ]
  },
  {
   "cell_type": "code",
   "execution_count": 80,
   "metadata": {},
   "outputs": [],
   "source": [
    "def imputar_nulos_modelo(df):\n",
    "\n",
    "    idx_nulos = df[df['modelo'].isnull()].index\n",
    "\n",
    "    for idx in idx_nulos:\n",
    "        tipo_coche = df.loc[idx, 'tipo_coche']\n",
    "        modelos_validos = df[df['tipo_coche'] == tipo_coche]['modelo'].dropna().unique()\n",
    "\n",
    "        lista_modelos = []\n",
    "\n",
    "        for modelo in modelos_validos:\n",
    "            counts = df[df['modelo'] == modelo]['tipo_coche'].value_counts(normalize = True)\n",
    "\n",
    "            if counts[tipo_coche] > 0.3:\n",
    "                lista_modelos.append(modelo)\n",
    "\n",
    "        serie_potencias_medias = df[df['modelo'].isin(lista_modelos)].groupby('modelo')['potencia'].mean()\n",
    "        serie_potencias_diff = abs(serie_potencias_medias - df.loc[idx, 'potencia'])\n",
    "\n",
    "        modelo_final = serie_potencias_diff.idxmin()\n",
    "        df.loc[idx, 'modelo'] = modelo_final\n",
    "        \n",
    "        print(f'Modelo imputado a la fila {idx}: {modelo_final}')"
   ]
  },
  {
   "cell_type": "code",
   "execution_count": 81,
   "metadata": {},
   "outputs": [
    {
     "data": {
      "text/html": [
       "<div>\n",
       "<style scoped>\n",
       "    .dataframe tbody tr th:only-of-type {\n",
       "        vertical-align: middle;\n",
       "    }\n",
       "\n",
       "    .dataframe tbody tr th {\n",
       "        vertical-align: top;\n",
       "    }\n",
       "\n",
       "    .dataframe thead th {\n",
       "        text-align: right;\n",
       "    }\n",
       "</style>\n",
       "<table border=\"1\" class=\"dataframe\">\n",
       "  <thead>\n",
       "    <tr style=\"text-align: right;\">\n",
       "      <th></th>\n",
       "      <th>modelo</th>\n",
       "      <th>km</th>\n",
       "      <th>potencia</th>\n",
       "      <th>tipo_gasolina</th>\n",
       "      <th>color</th>\n",
       "      <th>tipo_coche</th>\n",
       "      <th>volante_regulable</th>\n",
       "      <th>aire_acondicionado</th>\n",
       "      <th>camara_trasera</th>\n",
       "      <th>asientos_traseros_plegables</th>\n",
       "      <th>elevalunas_electrico</th>\n",
       "      <th>bluetooth</th>\n",
       "      <th>gps</th>\n",
       "      <th>alerta_lim_velocidad</th>\n",
       "      <th>precio</th>\n",
       "      <th>dias_venta_registro</th>\n",
       "      <th>fecha_registro_mes</th>\n",
       "      <th>fecha_venta_mes</th>\n",
       "    </tr>\n",
       "  </thead>\n",
       "  <tbody>\n",
       "    <tr>\n",
       "      <th>172</th>\n",
       "      <td>NaN</td>\n",
       "      <td>146338.0</td>\n",
       "      <td>105.0</td>\n",
       "      <td>diesel</td>\n",
       "      <td>black</td>\n",
       "      <td>estate</td>\n",
       "      <td>False</td>\n",
       "      <td>True</td>\n",
       "      <td>False</td>\n",
       "      <td>False</td>\n",
       "      <td>False</td>\n",
       "      <td>False</td>\n",
       "      <td>True</td>\n",
       "      <td>True</td>\n",
       "      <td>13300.0</td>\n",
       "      <td>1673</td>\n",
       "      <td>1</td>\n",
       "      <td>8</td>\n",
       "    </tr>\n",
       "    <tr>\n",
       "      <th>4760</th>\n",
       "      <td>NaN</td>\n",
       "      <td>115566.0</td>\n",
       "      <td>105.0</td>\n",
       "      <td>diesel</td>\n",
       "      <td>silver</td>\n",
       "      <td>suv</td>\n",
       "      <td>False</td>\n",
       "      <td>True</td>\n",
       "      <td>False</td>\n",
       "      <td>True</td>\n",
       "      <td>True</td>\n",
       "      <td>False</td>\n",
       "      <td>True</td>\n",
       "      <td>False</td>\n",
       "      <td>14900.0</td>\n",
       "      <td>1704</td>\n",
       "      <td>1</td>\n",
       "      <td>9</td>\n",
       "    </tr>\n",
       "    <tr>\n",
       "      <th>4796</th>\n",
       "      <td>NaN</td>\n",
       "      <td>118640.0</td>\n",
       "      <td>110.0</td>\n",
       "      <td>diesel</td>\n",
       "      <td>white</td>\n",
       "      <td>van</td>\n",
       "      <td>False</td>\n",
       "      <td>False</td>\n",
       "      <td>False</td>\n",
       "      <td>False</td>\n",
       "      <td>False</td>\n",
       "      <td>False</td>\n",
       "      <td>False</td>\n",
       "      <td>False</td>\n",
       "      <td>800.0</td>\n",
       "      <td>1277</td>\n",
       "      <td>9</td>\n",
       "      <td>3</td>\n",
       "    </tr>\n",
       "  </tbody>\n",
       "</table>\n",
       "</div>"
      ],
      "text/plain": [
       "     modelo        km  potencia tipo_gasolina   color tipo_coche  \\\n",
       "172     NaN  146338.0     105.0        diesel   black     estate   \n",
       "4760    NaN  115566.0     105.0        diesel  silver        suv   \n",
       "4796    NaN  118640.0     110.0        diesel   white        van   \n",
       "\n",
       "     volante_regulable aire_acondicionado camara_trasera  \\\n",
       "172              False               True          False   \n",
       "4760             False               True          False   \n",
       "4796             False              False          False   \n",
       "\n",
       "     asientos_traseros_plegables elevalunas_electrico bluetooth    gps  \\\n",
       "172                        False                False     False   True   \n",
       "4760                        True                 True     False   True   \n",
       "4796                       False                False     False  False   \n",
       "\n",
       "     alerta_lim_velocidad   precio  dias_venta_registro  fecha_registro_mes  \\\n",
       "172                  True  13300.0                 1673                   1   \n",
       "4760                False  14900.0                 1704                   1   \n",
       "4796                False    800.0                 1277                   9   \n",
       "\n",
       "      fecha_venta_mes  \n",
       "172                 8  \n",
       "4760                9  \n",
       "4796                3  "
      ]
     },
     "execution_count": 81,
     "metadata": {},
     "output_type": "execute_result"
    }
   ],
   "source": [
    "format_df[format_df['modelo'].isnull()]"
   ]
  },
  {
   "cell_type": "code",
   "execution_count": 82,
   "metadata": {},
   "outputs": [
    {
     "name": "stdout",
     "output_type": "stream",
     "text": [
      "Modelo imputado a la fila 172: 518\n",
      "Modelo imputado a la fila 4760: X1\n",
      "Modelo imputado a la fila 4796: 218 Gran Tourer\n"
     ]
    }
   ],
   "source": [
    "imputar_nulos_modelo(format_df)"
   ]
  },
  {
   "cell_type": "code",
   "execution_count": 83,
   "metadata": {},
   "outputs": [
    {
     "data": {
      "text/plain": [
       "modelo                          0\n",
       "km                              0\n",
       "potencia                        0\n",
       "tipo_gasolina                   5\n",
       "color                          12\n",
       "tipo_coche                      9\n",
       "volante_regulable               4\n",
       "aire_acondicionado              2\n",
       "camara_trasera                  2\n",
       "asientos_traseros_plegables     4\n",
       "elevalunas_electrico            2\n",
       "bluetooth                       4\n",
       "gps                             0\n",
       "alerta_lim_velocidad            2\n",
       "precio                          0\n",
       "dias_venta_registro             0\n",
       "fecha_registro_mes              0\n",
       "fecha_venta_mes                 0\n",
       "dtype: int64"
      ]
     },
     "execution_count": 83,
     "metadata": {},
     "output_type": "execute_result"
    }
   ],
   "source": [
    "format_df.isnull().sum()"
   ]
  },
  {
   "cell_type": "markdown",
   "metadata": {},
   "source": [
    "Para rellenar los nulos de color y tipo_gasolina, simplemente se cogerá el valor mas frecuente de todos.En el caso de color, se hace porque a priori el color no depende de ninguna otra variable. El tipo_gasolina se hace porque la gran mayoría de coches son diesel, tal y como se ha visto en el EDA"
   ]
  },
  {
   "cell_type": "code",
   "execution_count": 84,
   "metadata": {},
   "outputs": [],
   "source": [
    "for column in ['tipo_gasolina', 'color']:\n",
    "    format_df[column].fillna(format_df[column].mode().iloc[0], inplace = True)"
   ]
  },
  {
   "cell_type": "code",
   "execution_count": 85,
   "metadata": {},
   "outputs": [
    {
     "data": {
      "text/plain": [
       "modelo                         0\n",
       "km                             0\n",
       "potencia                       0\n",
       "tipo_gasolina                  0\n",
       "color                          0\n",
       "tipo_coche                     9\n",
       "volante_regulable              4\n",
       "aire_acondicionado             2\n",
       "camara_trasera                 2\n",
       "asientos_traseros_plegables    4\n",
       "elevalunas_electrico           2\n",
       "bluetooth                      4\n",
       "gps                            0\n",
       "alerta_lim_velocidad           2\n",
       "precio                         0\n",
       "dias_venta_registro            0\n",
       "fecha_registro_mes             0\n",
       "fecha_venta_mes                0\n",
       "dtype: int64"
      ]
     },
     "execution_count": 85,
     "metadata": {},
     "output_type": "execute_result"
    }
   ],
   "source": [
    "format_df.isnull().sum()"
   ]
  },
  {
   "cell_type": "markdown",
   "metadata": {},
   "source": [
    "Para rellenar los nulos de la columna tipo_coche, se mirará el modelo del coche en cuestión y se imputará el tipo de coche más frecuente para ese modelo"
   ]
  },
  {
   "cell_type": "code",
   "execution_count": 86,
   "metadata": {},
   "outputs": [],
   "source": [
    "def imputar_nulos_tipo_coche(df):\n",
    "\n",
    "    idx_nulos = df[df['tipo_coche'].isnull()].index\n",
    "\n",
    "    for idx in idx_nulos:\n",
    "        modelo = df.loc[idx, 'modelo']\n",
    "\n",
    "        tipo_coche_final = df[df['modelo'] == modelo]['tipo_coche'].mode().iloc[0]\n",
    "\n",
    "        df.loc[idx, 'tipo_coche'] = tipo_coche_final\n",
    "\n",
    "        print(f'Tipo de coche imputado a la fila {idx}: {tipo_coche_final}')"
   ]
  },
  {
   "cell_type": "code",
   "execution_count": 87,
   "metadata": {},
   "outputs": [
    {
     "data": {
      "text/html": [
       "<div>\n",
       "<style scoped>\n",
       "    .dataframe tbody tr th:only-of-type {\n",
       "        vertical-align: middle;\n",
       "    }\n",
       "\n",
       "    .dataframe tbody tr th {\n",
       "        vertical-align: top;\n",
       "    }\n",
       "\n",
       "    .dataframe thead th {\n",
       "        text-align: right;\n",
       "    }\n",
       "</style>\n",
       "<table border=\"1\" class=\"dataframe\">\n",
       "  <thead>\n",
       "    <tr style=\"text-align: right;\">\n",
       "      <th></th>\n",
       "      <th>modelo</th>\n",
       "      <th>km</th>\n",
       "      <th>potencia</th>\n",
       "      <th>tipo_gasolina</th>\n",
       "      <th>color</th>\n",
       "      <th>tipo_coche</th>\n",
       "      <th>volante_regulable</th>\n",
       "      <th>aire_acondicionado</th>\n",
       "      <th>camara_trasera</th>\n",
       "      <th>asientos_traseros_plegables</th>\n",
       "      <th>elevalunas_electrico</th>\n",
       "      <th>bluetooth</th>\n",
       "      <th>gps</th>\n",
       "      <th>alerta_lim_velocidad</th>\n",
       "      <th>precio</th>\n",
       "      <th>dias_venta_registro</th>\n",
       "      <th>fecha_registro_mes</th>\n",
       "      <th>fecha_venta_mes</th>\n",
       "    </tr>\n",
       "  </thead>\n",
       "  <tbody>\n",
       "    <tr>\n",
       "      <th>242</th>\n",
       "      <td>318</td>\n",
       "      <td>144727.0</td>\n",
       "      <td>105.0</td>\n",
       "      <td>diesel</td>\n",
       "      <td>white</td>\n",
       "      <td>NaN</td>\n",
       "      <td>False</td>\n",
       "      <td>True</td>\n",
       "      <td>True</td>\n",
       "      <td>False</td>\n",
       "      <td>True</td>\n",
       "      <td>True</td>\n",
       "      <td>True</td>\n",
       "      <td>True</td>\n",
       "      <td>14300.0</td>\n",
       "      <td>1522</td>\n",
       "      <td>4</td>\n",
       "      <td>6</td>\n",
       "    </tr>\n",
       "    <tr>\n",
       "      <th>423</th>\n",
       "      <td>520</td>\n",
       "      <td>271181.0</td>\n",
       "      <td>100.0</td>\n",
       "      <td>diesel</td>\n",
       "      <td>blue</td>\n",
       "      <td>NaN</td>\n",
       "      <td>True</td>\n",
       "      <td>False</td>\n",
       "      <td>False</td>\n",
       "      <td>False</td>\n",
       "      <td>False</td>\n",
       "      <td>False</td>\n",
       "      <td>True</td>\n",
       "      <td>False</td>\n",
       "      <td>800.0</td>\n",
       "      <td>5755</td>\n",
       "      <td>5</td>\n",
       "      <td>2</td>\n",
       "    </tr>\n",
       "    <tr>\n",
       "      <th>3615</th>\n",
       "      <td>316</td>\n",
       "      <td>171640.0</td>\n",
       "      <td>85.0</td>\n",
       "      <td>diesel</td>\n",
       "      <td>white</td>\n",
       "      <td>NaN</td>\n",
       "      <td>True</td>\n",
       "      <td>False</td>\n",
       "      <td>False</td>\n",
       "      <td>False</td>\n",
       "      <td>False</td>\n",
       "      <td>False</td>\n",
       "      <td>True</td>\n",
       "      <td>False</td>\n",
       "      <td>10800.0</td>\n",
       "      <td>2253</td>\n",
       "      <td>7</td>\n",
       "      <td>9</td>\n",
       "    </tr>\n",
       "    <tr>\n",
       "      <th>3626</th>\n",
       "      <td>116</td>\n",
       "      <td>123064.0</td>\n",
       "      <td>85.0</td>\n",
       "      <td>petrol</td>\n",
       "      <td>black</td>\n",
       "      <td>NaN</td>\n",
       "      <td>False</td>\n",
       "      <td>False</td>\n",
       "      <td>False</td>\n",
       "      <td>False</td>\n",
       "      <td>False</td>\n",
       "      <td>False</td>\n",
       "      <td>True</td>\n",
       "      <td>False</td>\n",
       "      <td>2400.0</td>\n",
       "      <td>4960</td>\n",
       "      <td>10</td>\n",
       "      <td>5</td>\n",
       "    </tr>\n",
       "    <tr>\n",
       "      <th>3628</th>\n",
       "      <td>118</td>\n",
       "      <td>224562.0</td>\n",
       "      <td>100.0</td>\n",
       "      <td>diesel</td>\n",
       "      <td>black</td>\n",
       "      <td>NaN</td>\n",
       "      <td>False</td>\n",
       "      <td>False</td>\n",
       "      <td>False</td>\n",
       "      <td>False</td>\n",
       "      <td>False</td>\n",
       "      <td>False</td>\n",
       "      <td>True</td>\n",
       "      <td>False</td>\n",
       "      <td>3800.0</td>\n",
       "      <td>3988</td>\n",
       "      <td>7</td>\n",
       "      <td>6</td>\n",
       "    </tr>\n",
       "    <tr>\n",
       "      <th>3648</th>\n",
       "      <td>116</td>\n",
       "      <td>156610.0</td>\n",
       "      <td>85.0</td>\n",
       "      <td>petrol</td>\n",
       "      <td>grey</td>\n",
       "      <td>NaN</td>\n",
       "      <td>False</td>\n",
       "      <td>False</td>\n",
       "      <td>True</td>\n",
       "      <td>False</td>\n",
       "      <td>False</td>\n",
       "      <td>True</td>\n",
       "      <td>True</td>\n",
       "      <td>False</td>\n",
       "      <td>3600.0</td>\n",
       "      <td>4779</td>\n",
       "      <td>1</td>\n",
       "      <td>2</td>\n",
       "    </tr>\n",
       "    <tr>\n",
       "      <th>3710</th>\n",
       "      <td>118</td>\n",
       "      <td>181781.0</td>\n",
       "      <td>100.0</td>\n",
       "      <td>diesel</td>\n",
       "      <td>grey</td>\n",
       "      <td>NaN</td>\n",
       "      <td>True</td>\n",
       "      <td>True</td>\n",
       "      <td>True</td>\n",
       "      <td>False</td>\n",
       "      <td>False</td>\n",
       "      <td>True</td>\n",
       "      <td>True</td>\n",
       "      <td>False</td>\n",
       "      <td>9500.0</td>\n",
       "      <td>1673</td>\n",
       "      <td>10</td>\n",
       "      <td>5</td>\n",
       "    </tr>\n",
       "    <tr>\n",
       "      <th>3741</th>\n",
       "      <td>X1</td>\n",
       "      <td>61354.0</td>\n",
       "      <td>105.0</td>\n",
       "      <td>diesel</td>\n",
       "      <td>blue</td>\n",
       "      <td>NaN</td>\n",
       "      <td>False</td>\n",
       "      <td>False</td>\n",
       "      <td>False</td>\n",
       "      <td>False</td>\n",
       "      <td>False</td>\n",
       "      <td>False</td>\n",
       "      <td>False</td>\n",
       "      <td>True</td>\n",
       "      <td>16900.0</td>\n",
       "      <td>1673</td>\n",
       "      <td>11</td>\n",
       "      <td>6</td>\n",
       "    </tr>\n",
       "    <tr>\n",
       "      <th>4836</th>\n",
       "      <td>525</td>\n",
       "      <td>195840.0</td>\n",
       "      <td>160.0</td>\n",
       "      <td>diesel</td>\n",
       "      <td>grey</td>\n",
       "      <td>NaN</td>\n",
       "      <td>True</td>\n",
       "      <td>True</td>\n",
       "      <td>False</td>\n",
       "      <td>False</td>\n",
       "      <td>True</td>\n",
       "      <td>False</td>\n",
       "      <td>True</td>\n",
       "      <td>True</td>\n",
       "      <td>15500.0</td>\n",
       "      <td>2069</td>\n",
       "      <td>1</td>\n",
       "      <td>9</td>\n",
       "    </tr>\n",
       "  </tbody>\n",
       "</table>\n",
       "</div>"
      ],
      "text/plain": [
       "     modelo        km  potencia tipo_gasolina  color tipo_coche  \\\n",
       "242     318  144727.0     105.0        diesel  white        NaN   \n",
       "423     520  271181.0     100.0        diesel   blue        NaN   \n",
       "3615    316  171640.0      85.0        diesel  white        NaN   \n",
       "3626    116  123064.0      85.0        petrol  black        NaN   \n",
       "3628    118  224562.0     100.0        diesel  black        NaN   \n",
       "3648    116  156610.0      85.0        petrol   grey        NaN   \n",
       "3710    118  181781.0     100.0        diesel   grey        NaN   \n",
       "3741     X1   61354.0     105.0        diesel   blue        NaN   \n",
       "4836    525  195840.0     160.0        diesel   grey        NaN   \n",
       "\n",
       "     volante_regulable aire_acondicionado camara_trasera  \\\n",
       "242              False               True           True   \n",
       "423               True              False          False   \n",
       "3615              True              False          False   \n",
       "3626             False              False          False   \n",
       "3628             False              False          False   \n",
       "3648             False              False           True   \n",
       "3710              True               True           True   \n",
       "3741             False              False          False   \n",
       "4836              True               True          False   \n",
       "\n",
       "     asientos_traseros_plegables elevalunas_electrico bluetooth    gps  \\\n",
       "242                        False                 True      True   True   \n",
       "423                        False                False     False   True   \n",
       "3615                       False                False     False   True   \n",
       "3626                       False                False     False   True   \n",
       "3628                       False                False     False   True   \n",
       "3648                       False                False      True   True   \n",
       "3710                       False                False      True   True   \n",
       "3741                       False                False     False  False   \n",
       "4836                       False                 True     False   True   \n",
       "\n",
       "     alerta_lim_velocidad   precio  dias_venta_registro  fecha_registro_mes  \\\n",
       "242                  True  14300.0                 1522                   4   \n",
       "423                 False    800.0                 5755                   5   \n",
       "3615                False  10800.0                 2253                   7   \n",
       "3626                False   2400.0                 4960                  10   \n",
       "3628                False   3800.0                 3988                   7   \n",
       "3648                False   3600.0                 4779                   1   \n",
       "3710                False   9500.0                 1673                  10   \n",
       "3741                 True  16900.0                 1673                  11   \n",
       "4836                 True  15500.0                 2069                   1   \n",
       "\n",
       "      fecha_venta_mes  \n",
       "242                 6  \n",
       "423                 2  \n",
       "3615                9  \n",
       "3626                5  \n",
       "3628                6  \n",
       "3648                2  \n",
       "3710                5  \n",
       "3741                6  \n",
       "4836                9  "
      ]
     },
     "execution_count": 87,
     "metadata": {},
     "output_type": "execute_result"
    }
   ],
   "source": [
    "format_df[format_df['tipo_coche'].isnull()]"
   ]
  },
  {
   "cell_type": "code",
   "execution_count": 88,
   "metadata": {},
   "outputs": [
    {
     "name": "stdout",
     "output_type": "stream",
     "text": [
      "Tipo de coche imputado a la fila 242: estate\n",
      "Tipo de coche imputado a la fila 423: estate\n",
      "Tipo de coche imputado a la fila 3615: sedan\n",
      "Tipo de coche imputado a la fila 3626: hatchback\n",
      "Tipo de coche imputado a la fila 3628: hatchback\n",
      "Tipo de coche imputado a la fila 3648: hatchback\n",
      "Tipo de coche imputado a la fila 3710: hatchback\n",
      "Tipo de coche imputado a la fila 3741: suv\n",
      "Tipo de coche imputado a la fila 4836: estate\n"
     ]
    }
   ],
   "source": [
    "imputar_nulos_tipo_coche(format_df)"
   ]
  },
  {
   "cell_type": "code",
   "execution_count": 89,
   "metadata": {},
   "outputs": [
    {
     "data": {
      "text/plain": [
       "modelo                         0\n",
       "km                             0\n",
       "potencia                       0\n",
       "tipo_gasolina                  0\n",
       "color                          0\n",
       "tipo_coche                     0\n",
       "volante_regulable              4\n",
       "aire_acondicionado             2\n",
       "camara_trasera                 2\n",
       "asientos_traseros_plegables    4\n",
       "elevalunas_electrico           2\n",
       "bluetooth                      4\n",
       "gps                            0\n",
       "alerta_lim_velocidad           2\n",
       "precio                         0\n",
       "dias_venta_registro            0\n",
       "fecha_registro_mes             0\n",
       "fecha_venta_mes                0\n",
       "dtype: int64"
      ]
     },
     "execution_count": 89,
     "metadata": {},
     "output_type": "execute_result"
    }
   ],
   "source": [
    "format_df.isnull().sum()"
   ]
  },
  {
   "cell_type": "code",
   "execution_count": 90,
   "metadata": {},
   "outputs": [
    {
     "data": {
      "text/plain": [
       "['volante_regulable',\n",
       " 'aire_acondicionado',\n",
       " 'camara_trasera',\n",
       " 'asientos_traseros_plegables',\n",
       " 'elevalunas_electrico',\n",
       " 'bluetooth',\n",
       " 'alerta_lim_velocidad']"
      ]
     },
     "execution_count": 90,
     "metadata": {},
     "output_type": "execute_result"
    }
   ],
   "source": [
    "# Las únicas columnas con nulos que quedan son todo booleanas, y se tratan de extras\n",
    "format_df.columns[format_df.isna().any()].tolist()"
   ]
  },
  {
   "cell_type": "markdown",
   "metadata": {},
   "source": [
    "Para rellenar estas últimas columnas con nulos booleanas, se aplicará un KNNImputer. Se hace así porque se considera que los extras de un coche podrían estar relacionados todos entre ellos, y es independiente del modelo, potencia...\n",
    "Para ello se tienen que pasar las columnas a numérico, tarea sencilla ya que son booleanos. Se dejarán las columnas como numéricas así no se tendrán que preprocesar en los siguientes apartados."
   ]
  },
  {
   "cell_type": "code",
   "execution_count": 91,
   "metadata": {},
   "outputs": [],
   "source": [
    "format_df[glob_list_bool] = format_df[glob_list_bool] * 1"
   ]
  },
  {
   "cell_type": "markdown",
   "metadata": {},
   "source": [
    "Se aplicará un pipeline con los siguientes pasos:\n",
    "- KNNImputer con 5 vecinos para imputar los nulos\n",
    "- Se redondea el valor imputado (ya que puede estar entre 0 y 1) a 0 decimales y se pasa el valor a integer\n",
    "- Se transforma el array a dataframe"
   ]
  },
  {
   "cell_type": "code",
   "execution_count": 92,
   "metadata": {},
   "outputs": [],
   "source": [
    "class ArrayToDataFrame(BaseEstimator, TransformerMixin):\n",
    "    '''\n",
    "    Clase que transforma un array en un DataFrame.\n",
    "    Necesita como parámetros el nombre de las columnas y el índice.\n",
    "    '''\n",
    "    \n",
    "    def __init__(self, columns, index = None):\n",
    "        self.columns = columns\n",
    "        self.index = index\n",
    "        \n",
    "    def fit(self, X, y = None):\n",
    "        return self\n",
    "    \n",
    "    def transform(self, X, y = None):\n",
    "        \n",
    "        if self.index != None:\n",
    "            df = pd.DataFrame(X, columns = self.columns, index = self.index)\n",
    "            \n",
    "        else:\n",
    "            df = pd.DataFrame(X, columns = self.columns)\n",
    "            \n",
    "        return df"
   ]
  },
  {
   "cell_type": "code",
   "execution_count": 93,
   "metadata": {},
   "outputs": [],
   "source": [
    "class RoundIntArray(BaseEstimator, TransformerMixin):\n",
    "    '''\n",
    "    Clase redondea un array a 0 decimales y cambia su type a int\n",
    "    '''\n",
    "    \n",
    "    def __init__(self):\n",
    "        pass\n",
    "        \n",
    "    def fit(self, X, y = None):\n",
    "        return self\n",
    "    \n",
    "    def transform(self, X, y = None):\n",
    "        return np.around(X, decimals = 0).astype(int)"
   ]
  },
  {
   "cell_type": "code",
   "execution_count": 94,
   "metadata": {},
   "outputs": [],
   "source": [
    "pipe = Pipeline(\n",
    "    [\n",
    "        ('KNNImputer', KNNImputer()),\n",
    "        ('RoundArray', RoundIntArray()),\n",
    "        ('ArrayToDataFrame', ArrayToDataFrame(columns = format_df[glob_list_bool].columns))\n",
    "    ]\n",
    ")"
   ]
  },
  {
   "cell_type": "code",
   "execution_count": 95,
   "metadata": {},
   "outputs": [],
   "source": [
    "format_df.loc[:, glob_list_bool] = pipe.fit_transform(format_df[glob_list_bool])"
   ]
  },
  {
   "cell_type": "code",
   "execution_count": 96,
   "metadata": {},
   "outputs": [
    {
     "data": {
      "text/html": [
       "<div>\n",
       "<style scoped>\n",
       "    .dataframe tbody tr th:only-of-type {\n",
       "        vertical-align: middle;\n",
       "    }\n",
       "\n",
       "    .dataframe tbody tr th {\n",
       "        vertical-align: top;\n",
       "    }\n",
       "\n",
       "    .dataframe thead th {\n",
       "        text-align: right;\n",
       "    }\n",
       "</style>\n",
       "<table border=\"1\" class=\"dataframe\">\n",
       "  <thead>\n",
       "    <tr style=\"text-align: right;\">\n",
       "      <th></th>\n",
       "      <th>modelo</th>\n",
       "      <th>km</th>\n",
       "      <th>potencia</th>\n",
       "      <th>tipo_gasolina</th>\n",
       "      <th>color</th>\n",
       "      <th>tipo_coche</th>\n",
       "      <th>volante_regulable</th>\n",
       "      <th>aire_acondicionado</th>\n",
       "      <th>camara_trasera</th>\n",
       "      <th>asientos_traseros_plegables</th>\n",
       "      <th>elevalunas_electrico</th>\n",
       "      <th>bluetooth</th>\n",
       "      <th>gps</th>\n",
       "      <th>alerta_lim_velocidad</th>\n",
       "      <th>precio</th>\n",
       "      <th>dias_venta_registro</th>\n",
       "      <th>fecha_registro_mes</th>\n",
       "      <th>fecha_venta_mes</th>\n",
       "    </tr>\n",
       "  </thead>\n",
       "  <tbody>\n",
       "    <tr>\n",
       "      <th>0</th>\n",
       "      <td>118</td>\n",
       "      <td>140411.0</td>\n",
       "      <td>100.0</td>\n",
       "      <td>diesel</td>\n",
       "      <td>black</td>\n",
       "      <td>convertible</td>\n",
       "      <td>1</td>\n",
       "      <td>1</td>\n",
       "      <td>0</td>\n",
       "      <td>0</td>\n",
       "      <td>1</td>\n",
       "      <td>1</td>\n",
       "      <td>1</td>\n",
       "      <td>0</td>\n",
       "      <td>11300.0</td>\n",
       "      <td>2161</td>\n",
       "      <td>2</td>\n",
       "      <td>1</td>\n",
       "    </tr>\n",
       "    <tr>\n",
       "      <th>1</th>\n",
       "      <td>M4</td>\n",
       "      <td>13929.0</td>\n",
       "      <td>317.0</td>\n",
       "      <td>petrol</td>\n",
       "      <td>grey</td>\n",
       "      <td>convertible</td>\n",
       "      <td>1</td>\n",
       "      <td>1</td>\n",
       "      <td>0</td>\n",
       "      <td>0</td>\n",
       "      <td>0</td>\n",
       "      <td>1</td>\n",
       "      <td>1</td>\n",
       "      <td>1</td>\n",
       "      <td>69700.0</td>\n",
       "      <td>671</td>\n",
       "      <td>4</td>\n",
       "      <td>2</td>\n",
       "    </tr>\n",
       "    <tr>\n",
       "      <th>2</th>\n",
       "      <td>320</td>\n",
       "      <td>183297.0</td>\n",
       "      <td>120.0</td>\n",
       "      <td>diesel</td>\n",
       "      <td>white</td>\n",
       "      <td>convertible</td>\n",
       "      <td>0</td>\n",
       "      <td>0</td>\n",
       "      <td>0</td>\n",
       "      <td>0</td>\n",
       "      <td>1</td>\n",
       "      <td>0</td>\n",
       "      <td>1</td>\n",
       "      <td>0</td>\n",
       "      <td>10200.0</td>\n",
       "      <td>2132</td>\n",
       "      <td>4</td>\n",
       "      <td>2</td>\n",
       "    </tr>\n",
       "    <tr>\n",
       "      <th>3</th>\n",
       "      <td>420</td>\n",
       "      <td>128035.0</td>\n",
       "      <td>135.0</td>\n",
       "      <td>diesel</td>\n",
       "      <td>red</td>\n",
       "      <td>convertible</td>\n",
       "      <td>1</td>\n",
       "      <td>1</td>\n",
       "      <td>0</td>\n",
       "      <td>0</td>\n",
       "      <td>1</td>\n",
       "      <td>1</td>\n",
       "      <td>1</td>\n",
       "      <td>1</td>\n",
       "      <td>25100.0</td>\n",
       "      <td>1311</td>\n",
       "      <td>7</td>\n",
       "      <td>2</td>\n",
       "    </tr>\n",
       "    <tr>\n",
       "      <th>4</th>\n",
       "      <td>425</td>\n",
       "      <td>97097.0</td>\n",
       "      <td>160.0</td>\n",
       "      <td>diesel</td>\n",
       "      <td>silver</td>\n",
       "      <td>convertible</td>\n",
       "      <td>1</td>\n",
       "      <td>1</td>\n",
       "      <td>0</td>\n",
       "      <td>0</td>\n",
       "      <td>0</td>\n",
       "      <td>1</td>\n",
       "      <td>1</td>\n",
       "      <td>1</td>\n",
       "      <td>33400.0</td>\n",
       "      <td>1217</td>\n",
       "      <td>12</td>\n",
       "      <td>4</td>\n",
       "    </tr>\n",
       "  </tbody>\n",
       "</table>\n",
       "</div>"
      ],
      "text/plain": [
       "  modelo        km  potencia tipo_gasolina   color   tipo_coche  \\\n",
       "0    118  140411.0     100.0        diesel   black  convertible   \n",
       "1     M4   13929.0     317.0        petrol    grey  convertible   \n",
       "2    320  183297.0     120.0        diesel   white  convertible   \n",
       "3    420  128035.0     135.0        diesel     red  convertible   \n",
       "4    425   97097.0     160.0        diesel  silver  convertible   \n",
       "\n",
       "   volante_regulable  aire_acondicionado  camara_trasera  \\\n",
       "0                  1                   1               0   \n",
       "1                  1                   1               0   \n",
       "2                  0                   0               0   \n",
       "3                  1                   1               0   \n",
       "4                  1                   1               0   \n",
       "\n",
       "   asientos_traseros_plegables  elevalunas_electrico  bluetooth  gps  \\\n",
       "0                            0                     1          1    1   \n",
       "1                            0                     0          1    1   \n",
       "2                            0                     1          0    1   \n",
       "3                            0                     1          1    1   \n",
       "4                            0                     0          1    1   \n",
       "\n",
       "   alerta_lim_velocidad   precio  dias_venta_registro  fecha_registro_mes  \\\n",
       "0                     0  11300.0                 2161                   2   \n",
       "1                     1  69700.0                  671                   4   \n",
       "2                     0  10200.0                 2132                   4   \n",
       "3                     1  25100.0                 1311                   7   \n",
       "4                     1  33400.0                 1217                  12   \n",
       "\n",
       "   fecha_venta_mes  \n",
       "0                1  \n",
       "1                2  \n",
       "2                2  \n",
       "3                2  \n",
       "4                4  "
      ]
     },
     "execution_count": 96,
     "metadata": {},
     "output_type": "execute_result"
    }
   ],
   "source": [
    "format_df.head()"
   ]
  },
  {
   "cell_type": "code",
   "execution_count": 97,
   "metadata": {},
   "outputs": [
    {
     "data": {
      "text/plain": [
       "modelo                         0\n",
       "km                             0\n",
       "potencia                       0\n",
       "tipo_gasolina                  0\n",
       "color                          0\n",
       "tipo_coche                     0\n",
       "volante_regulable              0\n",
       "aire_acondicionado             0\n",
       "camara_trasera                 0\n",
       "asientos_traseros_plegables    0\n",
       "elevalunas_electrico           0\n",
       "bluetooth                      0\n",
       "gps                            0\n",
       "alerta_lim_velocidad           0\n",
       "precio                         0\n",
       "dias_venta_registro            0\n",
       "fecha_registro_mes             0\n",
       "fecha_venta_mes                0\n",
       "dtype: int64"
      ]
     },
     "execution_count": 97,
     "metadata": {},
     "output_type": "execute_result"
    }
   ],
   "source": [
    "format_df.isnull().sum()"
   ]
  },
  {
   "cell_type": "markdown",
   "metadata": {},
   "source": [
    "##### Extracción de más datos del modelo"
   ]
  },
  {
   "cell_type": "markdown",
   "metadata": {},
   "source": [
    "Se detecta que se puede extraer más información de la columna de modelo. En muchos casos, el modelo está formado por una primera cadena alfanumérica (lo que llamaríamos modelo principal) y a veces le siguen una serie de cadenas alfanuméricas que serían los sub-modelos."
   ]
  },
  {
   "cell_type": "code",
   "execution_count": 98,
   "metadata": {},
   "outputs": [],
   "source": [
    "# En primer lugar se extrae el modelo principal\n",
    "format_df['modelo_principal'] = format_df['modelo'].str.split(' ').apply(lambda x: x[0])"
   ]
  },
  {
   "cell_type": "code",
   "execution_count": 99,
   "metadata": {},
   "outputs": [
    {
     "data": {
      "text/plain": [
       "array(['118', 'M4', '320', '420', '425', '335', '325', 'Z4', '120', '220',\n",
       "       '650', '135', '218', '318', '430', 'M3', '330', '225', 'M235',\n",
       "       '316', '435', '640', 'i8', '630', '635', '520', '518', '525',\n",
       "       '530', '535', '116', '328', '523', 'X3', 'M550', '528', '125',\n",
       "       'i3', '114', 'M135', '418', '730', '123', '740', '750',\n",
       "       'ActiveHybrid', '735', 'M5', 'X5', 'X1', 'X4', 'X6', '216', '',\n",
       "       '214'], dtype=object)"
      ]
     },
     "execution_count": 99,
     "metadata": {},
     "output_type": "execute_result"
    }
   ],
   "source": [
    "# Se detecta que hay un modelo que empieza con un espacio delante\n",
    "format_df['modelo_principal'].unique()"
   ]
  },
  {
   "cell_type": "code",
   "execution_count": 100,
   "metadata": {},
   "outputs": [
    {
     "data": {
      "text/plain": [
       "array(['118', 'M4', '320', '420', '425', '335', '325', 'Z4', '120', '220',\n",
       "       '650', '135', '218', '318', '430', 'M3', '330', '225', 'M235',\n",
       "       '316', '435', '640', '640 Gran Coupé', '435 Gran Coupé', 'i8',\n",
       "       '630', '430 Gran Coupé', '635', '520', '518', '525', '530', '535',\n",
       "       '320 Gran Turismo', '116', '328', '523', 'X3', 'M550', '528',\n",
       "       '325 Gran Turismo', '125', '318 Gran Turismo', '420 Gran Coupé',\n",
       "       'i3', '114', '520 Gran Turismo', '530 Gran Turismo', 'M135',\n",
       "       '418 Gran Coupé', '330 Gran Turismo', '335 Gran Turismo', '730',\n",
       "       '123', '535 Gran Turismo', '740', '750', 'ActiveHybrid 5', '735',\n",
       "       'M5', 'X5', 'X1', 'X4', 'X6', 'X6 M', 'X5 M', 'X5 M50',\n",
       "       '218 Active Tourer', '218 Gran Tourer', '216', '220 Active Tourer',\n",
       "       '216 Gran Tourer', '216 Active Tourer', ' Active Tourer',\n",
       "       '225 Active Tourer', '214 Gran Tourer'], dtype=object)"
      ]
     },
     "execution_count": 100,
     "metadata": {},
     "output_type": "execute_result"
    }
   ],
   "source": [
    "# Se observa que hay un coche 'Active Tourer' que no tiene modelo principal.\n",
    "format_df['modelo'].unique()"
   ]
  },
  {
   "cell_type": "markdown",
   "metadata": {},
   "source": [
    "Se le quiere dar un modelo principal a ese coche, basandose en el tipo de coche y la potencia:"
   ]
  },
  {
   "cell_type": "code",
   "execution_count": 101,
   "metadata": {},
   "outputs": [
    {
     "data": {
      "text/plain": [
       "modelo\n",
       " Active Tourer       van\n",
       "216 Active Tourer    van\n",
       "218 Active Tourer    van\n",
       "220 Active Tourer    van\n",
       "225 Active Tourer    van\n",
       "Name: tipo_coche, dtype: object"
      ]
     },
     "execution_count": 101,
     "metadata": {},
     "output_type": "execute_result"
    }
   ],
   "source": [
    "# Se ve que todos los Active Tourer son vans\n",
    "format_df[format_df['modelo'].str.contains('Active Tourer')].groupby('modelo')['tipo_coche'].agg(lambda x: x.mode())"
   ]
  },
  {
   "cell_type": "code",
   "execution_count": 102,
   "metadata": {},
   "outputs": [
    {
     "data": {
      "text/plain": [
       "modelo\n",
       " Active Tourer       100.000000\n",
       "216 Active Tourer     85.000000\n",
       "218 Active Tourer    105.692308\n",
       "220 Active Tourer    140.000000\n",
       "225 Active Tourer    170.000000\n",
       "Name: potencia, dtype: float64"
      ]
     },
     "execution_count": 102,
     "metadata": {},
     "output_type": "execute_result"
    }
   ],
   "source": [
    "# El 218 es el que tiene la media más próxima al Active Tourer\n",
    "format_df[format_df['modelo'].str.contains('Active Tourer')].groupby('modelo')['potencia'].mean()"
   ]
  },
  {
   "cell_type": "code",
   "execution_count": 103,
   "metadata": {},
   "outputs": [],
   "source": [
    "idx_active_tourer = format_df[format_df['modelo'] == ' Active Tourer'].index\n",
    "format_df.loc[idx_active_tourer, 'modelo'] = '218 Active Tourer'"
   ]
  },
  {
   "cell_type": "code",
   "execution_count": 104,
   "metadata": {},
   "outputs": [
    {
     "data": {
      "text/plain": [
       "array(['118', 'M4', '320', '420', '425', '335', '325', 'Z4', '120', '220',\n",
       "       '650', '135', '218', '318', '430', 'M3', '330', '225', 'M235',\n",
       "       '316', '435', '640', '640 Gran Coupé', '435 Gran Coupé', 'i8',\n",
       "       '630', '430 Gran Coupé', '635', '520', '518', '525', '530', '535',\n",
       "       '320 Gran Turismo', '116', '328', '523', 'X3', 'M550', '528',\n",
       "       '325 Gran Turismo', '125', '318 Gran Turismo', '420 Gran Coupé',\n",
       "       'i3', '114', '520 Gran Turismo', '530 Gran Turismo', 'M135',\n",
       "       '418 Gran Coupé', '330 Gran Turismo', '335 Gran Turismo', '730',\n",
       "       '123', '535 Gran Turismo', '740', '750', 'ActiveHybrid 5', '735',\n",
       "       'M5', 'X5', 'X1', 'X4', 'X6', 'X6 M', 'X5 M', 'X5 M50',\n",
       "       '218 Active Tourer', '218 Gran Tourer', '216', '220 Active Tourer',\n",
       "       '216 Gran Tourer', '216 Active Tourer', '225 Active Tourer',\n",
       "       '214 Gran Tourer'], dtype=object)"
      ]
     },
     "execution_count": 104,
     "metadata": {},
     "output_type": "execute_result"
    }
   ],
   "source": [
    "# Ahora ya no existe el Active Tourer solo\n",
    "format_df['modelo'].unique()"
   ]
  },
  {
   "cell_type": "code",
   "execution_count": 105,
   "metadata": {},
   "outputs": [],
   "source": [
    "# Se vuelve a extraer el modelo principal\n",
    "format_df['modelo_principal'] = format_df['modelo'].str.split(' ').apply(lambda x: x[0])"
   ]
  },
  {
   "cell_type": "code",
   "execution_count": 106,
   "metadata": {},
   "outputs": [
    {
     "data": {
      "text/plain": [
       "array(['118', 'M4', '320', '420', '425', '335', '325', 'Z4', '120', '220',\n",
       "       '650', '135', '218', '318', '430', 'M3', '330', '225', 'M235',\n",
       "       '316', '435', '640', 'i8', '630', '635', '520', '518', '525',\n",
       "       '530', '535', '116', '328', '523', 'X3', 'M550', '528', '125',\n",
       "       'i3', '114', 'M135', '418', '730', '123', '740', '750',\n",
       "       'ActiveHybrid', '735', 'M5', 'X5', 'X1', 'X4', 'X6', '216', '214'],\n",
       "      dtype=object)"
      ]
     },
     "execution_count": 106,
     "metadata": {},
     "output_type": "execute_result"
    }
   ],
   "source": [
    "# Ahora ya todo es correcto\n",
    "format_df['modelo_principal'].unique()"
   ]
  },
  {
   "cell_type": "code",
   "execution_count": 107,
   "metadata": {},
   "outputs": [],
   "source": [
    "# También se extrae el sub-modelo mediante un regex\n",
    "sub_modelo_df = format_df['modelo'].str.extract('\\w+ (.+)')\n",
    "sub_modelo_df.columns = ['sub_modelo']\n",
    "sub_modelo_df['sub_modelo'].fillna('Sin sub-modelo', inplace = True)"
   ]
  },
  {
   "cell_type": "code",
   "execution_count": 108,
   "metadata": {},
   "outputs": [],
   "source": [
    "# Se añade la columna sub_modelo al dataframe de trabajo\n",
    "format_df = format_df.join(sub_modelo_df)"
   ]
  },
  {
   "cell_type": "code",
   "execution_count": 109,
   "metadata": {},
   "outputs": [],
   "source": [
    "# Se añaden estas dos últimas columnas a la lista de categóricas\n",
    "glob_list_cat += list(format_df.columns[-2:])"
   ]
  },
  {
   "cell_type": "markdown",
   "metadata": {},
   "source": [
    "## Pre-processing"
   ]
  },
  {
   "cell_type": "markdown",
   "metadata": {},
   "source": [
    "### Categóricas a numéricas"
   ]
  },
  {
   "cell_type": "markdown",
   "metadata": {},
   "source": [
    "Se busca tener todas las columnas en numérico. Solo queda transformar las categóricas, a las cuales se les aplicará un one hot encoding"
   ]
  },
  {
   "cell_type": "code",
   "execution_count": 110,
   "metadata": {},
   "outputs": [
    {
     "name": "stdout",
     "output_type": "stream",
     "text": [
      "<class 'pandas.core.frame.DataFrame'>\n",
      "RangeIndex: 4837 entries, 0 to 4836\n",
      "Data columns (total 20 columns):\n",
      " #   Column                       Non-Null Count  Dtype  \n",
      "---  ------                       --------------  -----  \n",
      " 0   modelo                       4837 non-null   object \n",
      " 1   km                           4837 non-null   float64\n",
      " 2   potencia                     4837 non-null   float64\n",
      " 3   tipo_gasolina                4837 non-null   object \n",
      " 4   color                        4837 non-null   object \n",
      " 5   tipo_coche                   4837 non-null   object \n",
      " 6   volante_regulable            4837 non-null   int32  \n",
      " 7   aire_acondicionado           4837 non-null   int32  \n",
      " 8   camara_trasera               4837 non-null   int32  \n",
      " 9   asientos_traseros_plegables  4837 non-null   int32  \n",
      " 10  elevalunas_electrico         4837 non-null   int32  \n",
      " 11  bluetooth                    4837 non-null   int32  \n",
      " 12  gps                          4837 non-null   int32  \n",
      " 13  alerta_lim_velocidad         4837 non-null   int32  \n",
      " 14  precio                       4837 non-null   float64\n",
      " 15  dias_venta_registro          4837 non-null   int64  \n",
      " 16  fecha_registro_mes           4837 non-null   int64  \n",
      " 17  fecha_venta_mes              4837 non-null   int64  \n",
      " 18  modelo_principal             4837 non-null   object \n",
      " 19  sub_modelo                   4837 non-null   object \n",
      "dtypes: float64(3), int32(8), int64(3), object(6)\n",
      "memory usage: 604.8+ KB\n"
     ]
    }
   ],
   "source": [
    "format_df.info()"
   ]
  },
  {
   "cell_type": "code",
   "execution_count": 111,
   "metadata": {},
   "outputs": [],
   "source": [
    "# Se cogen las etiquetas de cada categórica para hacer el one-hot-encoding. \n",
    "# Las etiquetas que tengan un conteo inferior a 10 tendrán todo ceros\n",
    "# No se coge la lista glob_cat_list para preservar el orden de las columnas más adelante\n",
    "\n",
    "list_categories = []\n",
    "for column in format_df.describe(include = 'O').columns:\n",
    "    counts = format_df[column].value_counts()\n",
    "    tags_importantes = np.array(counts[counts > 10].index)\n",
    "    list_categories.append(tags_importantes)"
   ]
  },
  {
   "cell_type": "code",
   "execution_count": 112,
   "metadata": {},
   "outputs": [],
   "source": [
    "# Se genera el OneHotEncoder, con la lista de categorías creada anteriormente\n",
    "# Se especifica que en las binarias dropee una columna\n",
    "# Que el tipo de salida sea un entero\n",
    "# Y que las etiquetas que no estén en categories se ignoren, es decir, que ponga 0s a todas las columnas de la categoría\n",
    "\n",
    "ohe = OneHotEncoder(categories = list_categories, drop = 'if_binary', dtype = int, handle_unknown = 'ignore')"
   ]
  },
  {
   "cell_type": "code",
   "execution_count": 113,
   "metadata": {},
   "outputs": [
    {
     "name": "stderr",
     "output_type": "stream",
     "text": [
      "C:\\ProgramData\\Miniconda3\\lib\\site-packages\\sklearn\\preprocessing\\_encoders.py:170: UserWarning: Found unknown categories in columns [0, 1, 2, 4, 5] during transform. These unknown categories will be encoded as all zeros\n",
      "  warnings.warn(\n"
     ]
    }
   ],
   "source": [
    "# Se cogen los datos para hacer el dataframe de las nuevas columnas\n",
    "ohe_values = ohe.fit_transform(format_df[format_df.describe(include = 'O').columns]).toarray()\n",
    "ohe_columns = ohe.get_feature_names_out()"
   ]
  },
  {
   "cell_type": "code",
   "execution_count": 114,
   "metadata": {},
   "outputs": [],
   "source": [
    "# se hace el nuevo dataframe\n",
    "ohe_df = pd.DataFrame(ohe_values, columns = ohe_columns)"
   ]
  },
  {
   "cell_type": "code",
   "execution_count": 115,
   "metadata": {},
   "outputs": [
    {
     "data": {
      "text/html": [
       "<div>\n",
       "<style scoped>\n",
       "    .dataframe tbody tr th:only-of-type {\n",
       "        vertical-align: middle;\n",
       "    }\n",
       "\n",
       "    .dataframe tbody tr th {\n",
       "        vertical-align: top;\n",
       "    }\n",
       "\n",
       "    .dataframe thead th {\n",
       "        text-align: right;\n",
       "    }\n",
       "</style>\n",
       "<table border=\"1\" class=\"dataframe\">\n",
       "  <thead>\n",
       "    <tr style=\"text-align: right;\">\n",
       "      <th></th>\n",
       "      <th>modelo_320</th>\n",
       "      <th>modelo_520</th>\n",
       "      <th>modelo_318</th>\n",
       "      <th>modelo_X3</th>\n",
       "      <th>modelo_116</th>\n",
       "      <th>modelo_X1</th>\n",
       "      <th>modelo_316</th>\n",
       "      <th>modelo_X5</th>\n",
       "      <th>modelo_525</th>\n",
       "      <th>modelo_530</th>\n",
       "      <th>...</th>\n",
       "      <th>modelo_principal_325</th>\n",
       "      <th>modelo_principal_740</th>\n",
       "      <th>modelo_principal_114</th>\n",
       "      <th>modelo_principal_M550</th>\n",
       "      <th>sub_modelo_Sin sub-modelo</th>\n",
       "      <th>sub_modelo_Gran Turismo</th>\n",
       "      <th>sub_modelo_Gran Coupé</th>\n",
       "      <th>sub_modelo_M</th>\n",
       "      <th>sub_modelo_Active Tourer</th>\n",
       "      <th>sub_modelo_Gran Tourer</th>\n",
       "    </tr>\n",
       "  </thead>\n",
       "  <tbody>\n",
       "    <tr>\n",
       "      <th>0</th>\n",
       "      <td>0</td>\n",
       "      <td>0</td>\n",
       "      <td>0</td>\n",
       "      <td>0</td>\n",
       "      <td>0</td>\n",
       "      <td>0</td>\n",
       "      <td>0</td>\n",
       "      <td>0</td>\n",
       "      <td>0</td>\n",
       "      <td>0</td>\n",
       "      <td>...</td>\n",
       "      <td>0</td>\n",
       "      <td>0</td>\n",
       "      <td>0</td>\n",
       "      <td>0</td>\n",
       "      <td>1</td>\n",
       "      <td>0</td>\n",
       "      <td>0</td>\n",
       "      <td>0</td>\n",
       "      <td>0</td>\n",
       "      <td>0</td>\n",
       "    </tr>\n",
       "    <tr>\n",
       "      <th>1</th>\n",
       "      <td>0</td>\n",
       "      <td>0</td>\n",
       "      <td>0</td>\n",
       "      <td>0</td>\n",
       "      <td>0</td>\n",
       "      <td>0</td>\n",
       "      <td>0</td>\n",
       "      <td>0</td>\n",
       "      <td>0</td>\n",
       "      <td>0</td>\n",
       "      <td>...</td>\n",
       "      <td>0</td>\n",
       "      <td>0</td>\n",
       "      <td>0</td>\n",
       "      <td>0</td>\n",
       "      <td>1</td>\n",
       "      <td>0</td>\n",
       "      <td>0</td>\n",
       "      <td>0</td>\n",
       "      <td>0</td>\n",
       "      <td>0</td>\n",
       "    </tr>\n",
       "    <tr>\n",
       "      <th>2</th>\n",
       "      <td>1</td>\n",
       "      <td>0</td>\n",
       "      <td>0</td>\n",
       "      <td>0</td>\n",
       "      <td>0</td>\n",
       "      <td>0</td>\n",
       "      <td>0</td>\n",
       "      <td>0</td>\n",
       "      <td>0</td>\n",
       "      <td>0</td>\n",
       "      <td>...</td>\n",
       "      <td>0</td>\n",
       "      <td>0</td>\n",
       "      <td>0</td>\n",
       "      <td>0</td>\n",
       "      <td>1</td>\n",
       "      <td>0</td>\n",
       "      <td>0</td>\n",
       "      <td>0</td>\n",
       "      <td>0</td>\n",
       "      <td>0</td>\n",
       "    </tr>\n",
       "    <tr>\n",
       "      <th>3</th>\n",
       "      <td>0</td>\n",
       "      <td>0</td>\n",
       "      <td>0</td>\n",
       "      <td>0</td>\n",
       "      <td>0</td>\n",
       "      <td>0</td>\n",
       "      <td>0</td>\n",
       "      <td>0</td>\n",
       "      <td>0</td>\n",
       "      <td>0</td>\n",
       "      <td>...</td>\n",
       "      <td>0</td>\n",
       "      <td>0</td>\n",
       "      <td>0</td>\n",
       "      <td>0</td>\n",
       "      <td>1</td>\n",
       "      <td>0</td>\n",
       "      <td>0</td>\n",
       "      <td>0</td>\n",
       "      <td>0</td>\n",
       "      <td>0</td>\n",
       "    </tr>\n",
       "    <tr>\n",
       "      <th>4</th>\n",
       "      <td>0</td>\n",
       "      <td>0</td>\n",
       "      <td>0</td>\n",
       "      <td>0</td>\n",
       "      <td>0</td>\n",
       "      <td>0</td>\n",
       "      <td>0</td>\n",
       "      <td>0</td>\n",
       "      <td>0</td>\n",
       "      <td>0</td>\n",
       "      <td>...</td>\n",
       "      <td>0</td>\n",
       "      <td>0</td>\n",
       "      <td>0</td>\n",
       "      <td>0</td>\n",
       "      <td>1</td>\n",
       "      <td>0</td>\n",
       "      <td>0</td>\n",
       "      <td>0</td>\n",
       "      <td>0</td>\n",
       "      <td>0</td>\n",
       "    </tr>\n",
       "  </tbody>\n",
       "</table>\n",
       "<p>5 rows × 81 columns</p>\n",
       "</div>"
      ],
      "text/plain": [
       "   modelo_320  modelo_520  modelo_318  modelo_X3  modelo_116  modelo_X1  \\\n",
       "0           0           0           0          0           0          0   \n",
       "1           0           0           0          0           0          0   \n",
       "2           1           0           0          0           0          0   \n",
       "3           0           0           0          0           0          0   \n",
       "4           0           0           0          0           0          0   \n",
       "\n",
       "   modelo_316  modelo_X5  modelo_525  modelo_530  ...  modelo_principal_325  \\\n",
       "0           0          0           0           0  ...                     0   \n",
       "1           0          0           0           0  ...                     0   \n",
       "2           0          0           0           0  ...                     0   \n",
       "3           0          0           0           0  ...                     0   \n",
       "4           0          0           0           0  ...                     0   \n",
       "\n",
       "   modelo_principal_740  modelo_principal_114  modelo_principal_M550  \\\n",
       "0                     0                     0                      0   \n",
       "1                     0                     0                      0   \n",
       "2                     0                     0                      0   \n",
       "3                     0                     0                      0   \n",
       "4                     0                     0                      0   \n",
       "\n",
       "   sub_modelo_Sin sub-modelo  sub_modelo_Gran Turismo  sub_modelo_Gran Coupé  \\\n",
       "0                          1                        0                      0   \n",
       "1                          1                        0                      0   \n",
       "2                          1                        0                      0   \n",
       "3                          1                        0                      0   \n",
       "4                          1                        0                      0   \n",
       "\n",
       "   sub_modelo_M  sub_modelo_Active Tourer  sub_modelo_Gran Tourer  \n",
       "0             0                         0                       0  \n",
       "1             0                         0                       0  \n",
       "2             0                         0                       0  \n",
       "3             0                         0                       0  \n",
       "4             0                         0                       0  \n",
       "\n",
       "[5 rows x 81 columns]"
      ]
     },
     "execution_count": 115,
     "metadata": {},
     "output_type": "execute_result"
    }
   ],
   "source": [
    "ohe_df.head()"
   ]
  },
  {
   "cell_type": "code",
   "execution_count": 116,
   "metadata": {},
   "outputs": [
    {
     "data": {
      "text/plain": [
       "modelo_320                  750\n",
       "modelo_520                  632\n",
       "modelo_318                  567\n",
       "modelo_X3                   438\n",
       "modelo_116                  358\n",
       "                           ... \n",
       "sub_modelo_Gran Turismo     223\n",
       "sub_modelo_Gran Coupé        70\n",
       "sub_modelo_M                 25\n",
       "sub_modelo_Active Tourer     19\n",
       "sub_modelo_Gran Tourer       15\n",
       "Length: 81, dtype: int64"
      ]
     },
     "execution_count": 116,
     "metadata": {},
     "output_type": "execute_result"
    }
   ],
   "source": [
    "# A continuación se comprueba para algunos valores que el OHE se ha hecho bien\n",
    "ohe_df.sum()"
   ]
  },
  {
   "cell_type": "code",
   "execution_count": 117,
   "metadata": {},
   "outputs": [
    {
     "data": {
      "text/plain": [
       "320    750\n",
       "520    632\n",
       "318    567\n",
       "X3     438\n",
       "116    358\n",
       "Name: modelo, dtype: int64"
      ]
     },
     "execution_count": 117,
     "metadata": {},
     "output_type": "execute_result"
    }
   ],
   "source": [
    "format_df['modelo'].value_counts().head()"
   ]
  },
  {
   "cell_type": "code",
   "execution_count": 118,
   "metadata": {},
   "outputs": [
    {
     "data": {
      "text/plain": [
       "Sin sub-modelo    4481\n",
       "Gran Turismo       223\n",
       "Gran Coupé          70\n",
       "M                   25\n",
       "Active Tourer       19\n",
       "Gran Tourer         15\n",
       "M50                  3\n",
       "5                    1\n",
       "Name: sub_modelo, dtype: int64"
      ]
     },
     "execution_count": 118,
     "metadata": {},
     "output_type": "execute_result"
    }
   ],
   "source": [
    "format_df['sub_modelo'].value_counts()"
   ]
  },
  {
   "cell_type": "code",
   "execution_count": 119,
   "metadata": {},
   "outputs": [],
   "source": [
    "# Se hace un join del ohe_df\n",
    "format_df_final = format_df.join(ohe_df)"
   ]
  },
  {
   "cell_type": "code",
   "execution_count": 120,
   "metadata": {},
   "outputs": [],
   "source": [
    "# Se dropean las columnas categóricas originales\n",
    "format_df_final.drop(columns = glob_list_cat, inplace = True)"
   ]
  },
  {
   "cell_type": "code",
   "execution_count": 121,
   "metadata": {},
   "outputs": [
    {
     "name": "stdout",
     "output_type": "stream",
     "text": [
      "<class 'pandas.core.frame.DataFrame'>\n",
      "RangeIndex: 4837 entries, 0 to 4836\n",
      "Data columns (total 95 columns):\n",
      " #   Column                       Non-Null Count  Dtype  \n",
      "---  ------                       --------------  -----  \n",
      " 0   km                           4837 non-null   float64\n",
      " 1   potencia                     4837 non-null   float64\n",
      " 2   volante_regulable            4837 non-null   int32  \n",
      " 3   aire_acondicionado           4837 non-null   int32  \n",
      " 4   camara_trasera               4837 non-null   int32  \n",
      " 5   asientos_traseros_plegables  4837 non-null   int32  \n",
      " 6   elevalunas_electrico         4837 non-null   int32  \n",
      " 7   bluetooth                    4837 non-null   int32  \n",
      " 8   gps                          4837 non-null   int32  \n",
      " 9   alerta_lim_velocidad         4837 non-null   int32  \n",
      " 10  precio                       4837 non-null   float64\n",
      " 11  dias_venta_registro          4837 non-null   int64  \n",
      " 12  fecha_registro_mes           4837 non-null   int64  \n",
      " 13  fecha_venta_mes              4837 non-null   int64  \n",
      " 14  modelo_320                   4837 non-null   int32  \n",
      " 15  modelo_520                   4837 non-null   int32  \n",
      " 16  modelo_318                   4837 non-null   int32  \n",
      " 17  modelo_X3                    4837 non-null   int32  \n",
      " 18  modelo_116                   4837 non-null   int32  \n",
      " 19  modelo_X1                    4837 non-null   int32  \n",
      " 20  modelo_316                   4837 non-null   int32  \n",
      " 21  modelo_X5                    4837 non-null   int32  \n",
      " 22  modelo_525                   4837 non-null   int32  \n",
      " 23  modelo_530                   4837 non-null   int32  \n",
      " 24  modelo_118                   4837 non-null   int32  \n",
      " 25  modelo_318 Gran Turismo      4837 non-null   int32  \n",
      " 26  modelo_320 Gran Turismo      4837 non-null   int32  \n",
      " 27  modelo_518                   4837 non-null   int32  \n",
      " 28  modelo_X4                    4837 non-null   int32  \n",
      " 29  modelo_535                   4837 non-null   int32  \n",
      " 30  modelo_X6                    4837 non-null   int32  \n",
      " 31  modelo_420                   4837 non-null   int32  \n",
      " 32  modelo_120                   4837 non-null   int32  \n",
      " 33  modelo_330                   4837 non-null   int32  \n",
      " 34  modelo_730                   4837 non-null   int32  \n",
      " 35  modelo_420 Gran Coupé        4837 non-null   int32  \n",
      " 36  modelo_520 Gran Turismo      4837 non-null   int32  \n",
      " 37  modelo_640 Gran Coupé        4837 non-null   int32  \n",
      " 38  modelo_325                   4837 non-null   int32  \n",
      " 39  modelo_530 Gran Turismo      4837 non-null   int32  \n",
      " 40  modelo_740                   4837 non-null   int32  \n",
      " 41  modelo_X5 M                  4837 non-null   int32  \n",
      " 42  modelo_114                   4837 non-null   int32  \n",
      " 43  modelo_218 Active Tourer     4837 non-null   int32  \n",
      " 44  modelo_M550                  4837 non-null   int32  \n",
      " 45  modelo_218                   4837 non-null   int32  \n",
      " 46  tipo_gasolina_petrol         4837 non-null   int32  \n",
      " 47  color_black                  4837 non-null   int32  \n",
      " 48  color_grey                   4837 non-null   int32  \n",
      " 49  color_blue                   4837 non-null   int32  \n",
      " 50  color_white                  4837 non-null   int32  \n",
      " 51  color_brown                  4837 non-null   int32  \n",
      " 52  color_silver                 4837 non-null   int32  \n",
      " 53  color_red                    4837 non-null   int32  \n",
      " 54  color_beige                  4837 non-null   int32  \n",
      " 55  color_green                  4837 non-null   int32  \n",
      " 56  tipo_coche_estate            4837 non-null   int32  \n",
      " 57  tipo_coche_sedan             4837 non-null   int32  \n",
      " 58  tipo_coche_suv               4837 non-null   int32  \n",
      " 59  tipo_coche_hatchback         4837 non-null   int32  \n",
      " 60  tipo_coche_subcompact        4837 non-null   int32  \n",
      " 61  tipo_coche_coupe             4837 non-null   int32  \n",
      " 62  tipo_coche_convertible       4837 non-null   int32  \n",
      " 63  tipo_coche_van               4837 non-null   int32  \n",
      " 64  modelo_principal_320         4837 non-null   int32  \n",
      " 65  modelo_principal_318         4837 non-null   int32  \n",
      " 66  modelo_principal_520         4837 non-null   int32  \n",
      " 67  modelo_principal_X3          4837 non-null   int32  \n",
      " 68  modelo_principal_116         4837 non-null   int32  \n",
      " 69  modelo_principal_X1          4837 non-null   int32  \n",
      " 70  modelo_principal_X5          4837 non-null   int32  \n",
      " 71  modelo_principal_316         4837 non-null   int32  \n",
      " 72  modelo_principal_525         4837 non-null   int32  \n",
      " 73  modelo_principal_530         4837 non-null   int32  \n",
      " 74  modelo_principal_118         4837 non-null   int32  \n",
      " 75  modelo_principal_420         4837 non-null   int32  \n",
      " 76  modelo_principal_518         4837 non-null   int32  \n",
      " 77  modelo_principal_X6          4837 non-null   int32  \n",
      " 78  modelo_principal_535         4837 non-null   int32  \n",
      " 79  modelo_principal_X4          4837 non-null   int32  \n",
      " 80  modelo_principal_330         4837 non-null   int32  \n",
      " 81  modelo_principal_218         4837 non-null   int32  \n",
      " 82  modelo_principal_120         4837 non-null   int32  \n",
      " 83  modelo_principal_730         4837 non-null   int32  \n",
      " 84  modelo_principal_640         4837 non-null   int32  \n",
      " 85  modelo_principal_325         4837 non-null   int32  \n",
      " 86  modelo_principal_740         4837 non-null   int32  \n",
      " 87  modelo_principal_114         4837 non-null   int32  \n",
      " 88  modelo_principal_M550        4837 non-null   int32  \n",
      " 89  sub_modelo_Sin sub-modelo    4837 non-null   int32  \n",
      " 90  sub_modelo_Gran Turismo      4837 non-null   int32  \n",
      " 91  sub_modelo_Gran Coupé        4837 non-null   int32  \n",
      " 92  sub_modelo_M                 4837 non-null   int32  \n",
      " 93  sub_modelo_Active Tourer     4837 non-null   int32  \n",
      " 94  sub_modelo_Gran Tourer       4837 non-null   int32  \n",
      "dtypes: float64(3), int32(89), int64(3)\n",
      "memory usage: 1.9 MB\n"
     ]
    }
   ],
   "source": [
    "format_df_final.info()"
   ]
  },
  {
   "cell_type": "markdown",
   "metadata": {},
   "source": [
    "### Transformaciones de columnas numéricas"
   ]
  },
  {
   "cell_type": "code",
   "execution_count": 122,
   "metadata": {},
   "outputs": [
    {
     "data": {
      "text/plain": [
       "<AxesSubplot:>"
      ]
     },
     "execution_count": 122,
     "metadata": {},
     "output_type": "execute_result"
    },
    {
     "data": {
      "image/png": "[encoded data removed]",
      "text/plain": [
       "<Figure size 432x288 with 1 Axes>"
      ]
     },
     "metadata": {},
     "output_type": "display_data"
    }
   ],
   "source": [
    "format_df_final['potencia'].hist()"
   ]
  },
  {
   "cell_type": "code",
   "execution_count": 123,
   "metadata": {},
   "outputs": [
    {
     "data": {
      "text/plain": [
       "<AxesSubplot:>"
      ]
     },
     "execution_count": 123,
     "metadata": {},
     "output_type": "execute_result"
    },
    {
     "data": {
      "image/png": "[encoded data removed]",
      "text/plain": [
       "<Figure size 432x288 with 1 Axes>"
      ]
     },
     "metadata": {},
     "output_type": "display_data"
    }
   ],
   "source": [
    "np.log(format_df_final['potencia']).hist()"
   ]
  },
  {
   "cell_type": "code",
   "execution_count": 124,
   "metadata": {},
   "outputs": [
    {
     "data": {
      "text/plain": [
       "<AxesSubplot:>"
      ]
     },
     "execution_count": 124,
     "metadata": {},
     "output_type": "execute_result"
    },
    {
     "data": {
      "image/png": "[encoded data removed]",
      "text/plain": [
       "<Figure size 432x288 with 1 Axes>"
      ]
     },
     "metadata": {},
     "output_type": "display_data"
    }
   ],
   "source": [
    "format_df_final['km'].hist()"
   ]
  },
  {
   "cell_type": "code",
   "execution_count": 125,
   "metadata": {},
   "outputs": [
    {
     "data": {
      "text/plain": [
       "<AxesSubplot:>"
      ]
     },
     "execution_count": 125,
     "metadata": {},
     "output_type": "execute_result"
    },
    {
     "data": {
      "image/png": "[encoded data removed]",
      "text/plain": [
       "<Figure size 432x288 with 1 Axes>"
      ]
     },
     "metadata": {},
     "output_type": "display_data"
    }
   ],
   "source": [
    "np.log(format_df_final['km']).hist()"
   ]
  },
  {
   "cell_type": "code",
   "execution_count": 126,
   "metadata": {},
   "outputs": [
    {
     "data": {
      "text/plain": [
       "<AxesSubplot:>"
      ]
     },
     "execution_count": 126,
     "metadata": {},
     "output_type": "execute_result"
    },
    {
     "data": {
      "image/png": "[encoded data removed]",
      "text/plain": [
       "<Figure size 432x288 with 1 Axes>"
      ]
     },
     "metadata": {},
     "output_type": "display_data"
    }
   ],
   "source": [
    "format_df_final['dias_venta_registro'].hist()"
   ]
  },
  {
   "cell_type": "code",
   "execution_count": 127,
   "metadata": {},
   "outputs": [
    {
     "data": {
      "text/plain": [
       "<AxesSubplot:>"
      ]
     },
     "execution_count": 127,
     "metadata": {},
     "output_type": "execute_result"
    },
    {
     "data": {
      "image/png": "[encoded data removed]",
      "text/plain": [
       "<Figure size 432x288 with 1 Axes>"
      ]
     },
     "metadata": {},
     "output_type": "display_data"
    }
   ],
   "source": [
    "np.log(format_df_final['dias_venta_registro']).hist()"
   ]
  },
  {
   "cell_type": "code",
   "execution_count": 128,
   "metadata": {},
   "outputs": [
    {
     "data": {
      "text/plain": [
       "<AxesSubplot:>"
      ]
     },
     "execution_count": 128,
     "metadata": {},
     "output_type": "execute_result"
    },
    {
     "data": {
      "image/png": "[encoded data removed]",
      "text/plain": [
       "<Figure size 432x288 with 1 Axes>"
      ]
     },
     "metadata": {},
     "output_type": "display_data"
    }
   ],
   "source": [
    "# La del target es una distribución totalmente tirada a la izquierda (left-skewed)\n",
    "format_df_final[target].hist()"
   ]
  },
  {
   "cell_type": "code",
   "execution_count": 129,
   "metadata": {},
   "outputs": [
    {
     "data": {
      "text/plain": [
       "<AxesSubplot:>"
      ]
     },
     "execution_count": 129,
     "metadata": {},
     "output_type": "execute_result"
    },
    {
     "data": {
      "image/png": "[encoded data removed]",
      "text/plain": [
       "<Figure size 432x288 with 1 Axes>"
      ]
     },
     "metadata": {},
     "output_type": "display_data"
    }
   ],
   "source": [
    "# Con un log se normaliza\n",
    "np.log(format_df_final[target]).hist()"
   ]
  },
  {
   "cell_type": "code",
   "execution_count": 130,
   "metadata": {},
   "outputs": [],
   "source": [
    "# Se genera la columna del logaritmo para el target\n",
    "format_df_final['log_' + target] = np.log(format_df_final[target])"
   ]
  },
  {
   "cell_type": "markdown",
   "metadata": {},
   "source": [
    "Ya se tiene todo el dataset con columnas numéricas y sin nulos. Ahora toca generar el modelo!"
   ]
  },
  {
   "cell_type": "markdown",
   "metadata": {},
   "source": [
    "# Model Generation"
   ]
  },
  {
   "cell_type": "markdown",
   "metadata": {},
   "source": [
    "## Partición train/test/val"
   ]
  },
  {
   "cell_type": "code",
   "execution_count": 131,
   "metadata": {},
   "outputs": [],
   "source": [
    "# Se trabajará con el target log_precio, así que se elimina el precio del dataset\n",
    "format_df_final.drop(columns = target, inplace = True)\n",
    "target = 'log_precio'"
   ]
  },
  {
   "cell_type": "markdown",
   "metadata": {},
   "source": [
    "Se supone que los coches que más se venden son los que tienen un kilometraje menor. Es por eso que en la partición de validación se cojeran los coches con un km más bajo. Se comprobará que en cuanto a tipos de coche la muestra de validación también tenga todos los tipos. Se buscará una partición de validación del 10%, ya que tenemos una muestra global muy pequeña"
   ]
  },
  {
   "cell_type": "code",
   "execution_count": 132,
   "metadata": {},
   "outputs": [],
   "source": [
    "# 10% de datos con el kilometraje más bajo\n",
    "cuantil_km = np.quantile(format_df['km'], 0.10)"
   ]
  },
  {
   "cell_type": "code",
   "execution_count": 133,
   "metadata": {},
   "outputs": [],
   "source": [
    "# Se genera el dataframe con estas muestras\n",
    "sub_km_df = format_df[format_df['km'] < cuantil_km]"
   ]
  },
  {
   "cell_type": "code",
   "execution_count": 134,
   "metadata": {},
   "outputs": [
    {
     "data": {
      "text/html": [
       "<div>\n",
       "<style scoped>\n",
       "    .dataframe tbody tr th:only-of-type {\n",
       "        vertical-align: middle;\n",
       "    }\n",
       "\n",
       "    .dataframe tbody tr th {\n",
       "        vertical-align: top;\n",
       "    }\n",
       "\n",
       "    .dataframe thead th {\n",
       "        text-align: right;\n",
       "    }\n",
       "</style>\n",
       "<table border=\"1\" class=\"dataframe\">\n",
       "  <thead>\n",
       "    <tr style=\"text-align: right;\">\n",
       "      <th></th>\n",
       "      <th>tipo_coche</th>\n",
       "      <th>tipo_coche</th>\n",
       "    </tr>\n",
       "  </thead>\n",
       "  <tbody>\n",
       "    <tr>\n",
       "      <th>suv</th>\n",
       "      <td>134</td>\n",
       "      <td>1058</td>\n",
       "    </tr>\n",
       "    <tr>\n",
       "      <th>hatchback</th>\n",
       "      <td>122</td>\n",
       "      <td>703</td>\n",
       "    </tr>\n",
       "    <tr>\n",
       "      <th>sedan</th>\n",
       "      <td>79</td>\n",
       "      <td>1168</td>\n",
       "    </tr>\n",
       "    <tr>\n",
       "      <th>estate</th>\n",
       "      <td>61</td>\n",
       "      <td>1602</td>\n",
       "    </tr>\n",
       "    <tr>\n",
       "      <th>coupe</th>\n",
       "      <td>35</td>\n",
       "      <td>103</td>\n",
       "    </tr>\n",
       "    <tr>\n",
       "      <th>van</th>\n",
       "      <td>21</td>\n",
       "      <td>43</td>\n",
       "    </tr>\n",
       "    <tr>\n",
       "      <th>subcompact</th>\n",
       "      <td>20</td>\n",
       "      <td>113</td>\n",
       "    </tr>\n",
       "    <tr>\n",
       "      <th>convertible</th>\n",
       "      <td>12</td>\n",
       "      <td>47</td>\n",
       "    </tr>\n",
       "  </tbody>\n",
       "</table>\n",
       "</div>"
      ],
      "text/plain": [
       "             tipo_coche  tipo_coche\n",
       "suv                 134        1058\n",
       "hatchback           122         703\n",
       "sedan                79        1168\n",
       "estate               61        1602\n",
       "coupe                35         103\n",
       "van                  21          43\n",
       "subcompact           20         113\n",
       "convertible          12          47"
      ]
     },
     "execution_count": 134,
     "metadata": {},
     "output_type": "execute_result"
    }
   ],
   "source": [
    "# Se comprueba que existen coches de todos los tipos\n",
    "pd.concat([sub_km_df['tipo_coche'].value_counts(), format_df['tipo_coche'].value_counts()], axis = 1)"
   ]
  },
  {
   "cell_type": "code",
   "execution_count": 135,
   "metadata": {},
   "outputs": [],
   "source": [
    "dev_df = format_df_final.drop(sub_km_df.index)\n",
    "val_df = format_df_final.loc[sub_km_df.index]"
   ]
  },
  {
   "cell_type": "code",
   "execution_count": 138,
   "metadata": {},
   "outputs": [
    {
     "name": "stdout",
     "output_type": "stream",
     "text": [
      "<class 'pandas.core.frame.DataFrame'>\n",
      "Int64Index: 4353 entries, 0 to 4836\n",
      "Columns: 95 entries, km to log_precio\n",
      "dtypes: float64(3), int32(89), int64(3)\n",
      "memory usage: 1.7 MB\n"
     ]
    }
   ],
   "source": [
    "dev_df.info(verbose = False)"
   ]
  },
  {
   "cell_type": "code",
   "execution_count": 137,
   "metadata": {},
   "outputs": [
    {
     "name": "stdout",
     "output_type": "stream",
     "text": [
      "<class 'pandas.core.frame.DataFrame'>\n",
      "Int64Index: 484 entries, 1 to 4835\n",
      "Columns: 95 entries, km to log_precio\n",
      "dtypes: float64(3), int32(89), int64(3)\n",
      "memory usage: 194.7 KB\n"
     ]
    }
   ],
   "source": [
    "val_df.info(verbose = False)"
   ]
  },
  {
   "cell_type": "code",
   "execution_count": 140,
   "metadata": {},
   "outputs": [],
   "source": [
    "# Se extraen variables X e y\n",
    "val_df_X = val_df.drop(target, axis=1)\n",
    "val_df_y = val_df[[target]]\n",
    "dev_df_X = dev_df.drop(target, axis=1)\n",
    "dev_df_y = dev_df[[target]]"
   ]
  },
  {
   "cell_type": "code",
   "execution_count": 141,
   "metadata": {},
   "outputs": [
    {
     "name": "stdout",
     "output_type": "stream",
     "text": [
      "<class 'pandas.core.frame.DataFrame'>\n",
      "Int64Index: 484 entries, 1 to 4835\n",
      "Columns: 94 entries, km to sub_modelo_Gran Tourer\n",
      "dtypes: float64(2), int32(89), int64(3)\n",
      "memory usage: 191.0 KB\n"
     ]
    }
   ],
   "source": [
    "val_df_X.info(verbose = False)"
   ]
  },
  {
   "cell_type": "code",
   "execution_count": 142,
   "metadata": {},
   "outputs": [
    {
     "name": "stdout",
     "output_type": "stream",
     "text": [
      "<class 'pandas.core.frame.DataFrame'>\n",
      "Int64Index: 484 entries, 1 to 4835\n",
      "Columns: 1 entries, log_precio to log_precio\n",
      "dtypes: float64(1)\n",
      "memory usage: 7.6 KB\n"
     ]
    }
   ],
   "source": [
    "val_df_y.info(verbose = False)"
   ]
  },
  {
   "cell_type": "code",
   "execution_count": 143,
   "metadata": {},
   "outputs": [
    {
     "name": "stdout",
     "output_type": "stream",
     "text": [
      "<class 'pandas.core.frame.DataFrame'>\n",
      "Int64Index: 4353 entries, 0 to 4836\n",
      "Columns: 94 entries, km to sub_modelo_Gran Tourer\n",
      "dtypes: float64(2), int32(89), int64(3)\n",
      "memory usage: 1.7 MB\n"
     ]
    }
   ],
   "source": [
    "dev_df_X.info(verbose = False)"
   ]
  },
  {
   "cell_type": "code",
   "execution_count": 144,
   "metadata": {},
   "outputs": [
    {
     "name": "stdout",
     "output_type": "stream",
     "text": [
      "<class 'pandas.core.frame.DataFrame'>\n",
      "Int64Index: 4353 entries, 0 to 4836\n",
      "Columns: 1 entries, log_precio to log_precio\n",
      "dtypes: float64(1)\n",
      "memory usage: 68.0 KB\n"
     ]
    }
   ],
   "source": [
    "dev_df_y.info(verbose = False)"
   ]
  },
  {
   "cell_type": "code",
   "execution_count": 146,
   "metadata": {},
   "outputs": [],
   "source": [
    "X_train, X_test, y_train, y_test = model_selection.train_test_split(\n",
    "    dev_df_X,\n",
    "    dev_df_y,\n",
    "    random_state = 23,\n",
    "    test_size = 0.15\n",
    ")"
   ]
  },
  {
   "cell_type": "code",
   "execution_count": 147,
   "metadata": {},
   "outputs": [
    {
     "name": "stdout",
     "output_type": "stream",
     "text": [
      "<class 'pandas.core.frame.DataFrame'>\n",
      "Int64Index: 3700 entries, 778 to 662\n",
      "Columns: 94 entries, km to sub_modelo_Gran Tourer\n",
      "dtypes: float64(2), int32(89), int64(3)\n",
      "memory usage: 1.4 MB\n"
     ]
    }
   ],
   "source": [
    "X_train.info(verbose = False)"
   ]
  },
  {
   "cell_type": "code",
   "execution_count": 148,
   "metadata": {},
   "outputs": [
    {
     "name": "stdout",
     "output_type": "stream",
     "text": [
      "<class 'pandas.core.frame.DataFrame'>\n",
      "Int64Index: 3700 entries, 778 to 662\n",
      "Columns: 1 entries, log_precio to log_precio\n",
      "dtypes: float64(1)\n",
      "memory usage: 57.8 KB\n"
     ]
    }
   ],
   "source": [
    "y_train.info(verbose = False)"
   ]
  },
  {
   "cell_type": "code",
   "execution_count": 149,
   "metadata": {},
   "outputs": [
    {
     "name": "stdout",
     "output_type": "stream",
     "text": [
      "<class 'pandas.core.frame.DataFrame'>\n",
      "Int64Index: 653 entries, 1774 to 1070\n",
      "Columns: 94 entries, km to sub_modelo_Gran Tourer\n",
      "dtypes: float64(2), int32(89), int64(3)\n",
      "memory usage: 257.6 KB\n"
     ]
    }
   ],
   "source": [
    "X_test.info(verbose = False)"
   ]
  },
  {
   "cell_type": "code",
   "execution_count": 150,
   "metadata": {},
   "outputs": [
    {
     "name": "stdout",
     "output_type": "stream",
     "text": [
      "<class 'pandas.core.frame.DataFrame'>\n",
      "Int64Index: 653 entries, 1774 to 1070\n",
      "Columns: 1 entries, log_precio to log_precio\n",
      "dtypes: float64(1)\n",
      "memory usage: 10.2 KB\n"
     ]
    }
   ],
   "source": [
    "y_test.info(verbose = False)"
   ]
  }
 ],
 "metadata": {
  "interpreter": {
   "hash": "ecf5722fdaf1897a315d257d89d94520bfcaa453217d5becf09b39e73618b0de"
  },
  "kernelspec": {
   "display_name": "Python 3.8.5 64-bit ('base': conda)",
   "language": "python",
   "name": "python3"
  },
  "language_info": {
   "codemirror_mode": {
    "name": "ipython",
    "version": 3
   },
   "file_extension": ".py",
   "mimetype": "text/x-python",
   "name": "python",
   "nbconvert_exporter": "python",
   "pygments_lexer": "ipython3",
   "version": "3.8.5"
  },
  "orig_nbformat": 4
 },
 "nbformat": 4,
 "nbformat_minor": 2
}
